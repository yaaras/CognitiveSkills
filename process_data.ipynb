{
 "cells": [
  {
   "cell_type": "code",
   "execution_count": 1,
   "outputs": [
    {
     "name": "stderr",
     "output_type": "stream",
     "text": [
      "[nltk_data] Downloading package punkt to\n",
      "[nltk_data]     /Users/yaara.shriki/nltk_data...\n",
      "[nltk_data]   Package punkt is already up-to-date!\n"
     ]
    },
    {
     "data": {
      "text/plain": "True"
     },
     "execution_count": 1,
     "metadata": {},
     "output_type": "execute_result"
    }
   ],
   "source": [
    "import pandas as pd\n",
    "import nltk\n",
    "nltk.download('punkt')"
   ],
   "metadata": {
    "collapsed": false,
    "ExecuteTime": {
     "end_time": "2023-07-11T09:02:36.854902Z",
     "start_time": "2023-07-11T09:02:35.668181Z"
    }
   }
  },
  {
   "cell_type": "code",
   "execution_count": 22,
   "outputs": [
    {
     "data": {
      "text/plain": "                                              sentence  \\\n0    The tourist hired the guides that the locals a...   \n1    The tourists hired the guides that the locals ...   \n2    The tourist hired the guides that two days ago...   \n3    The tourists hired the guides who two days ago...   \n4    The tourist hired the guides that the locals a...   \n..                                                 ...   \n251  The donors bored the researchers that last yea...   \n252  The donor bored the researchers that interns d...   \n253  The donors bored the researchers that interns ...   \n254  The donor bored the researchers that last year...   \n255  The donors bored the researchers that last yea...   \n\n                                     question question_type length  \\\n0            Did the locals anger the guides?      filler-Q  short   \n1            Did the locals anger the guides?  distractor-Q  short   \n2            Did the locals anger the guides?      filler-Q   long   \n3            Did the locals anger the guides?  distractor-Q   long   \n4           Did the locals anger the tourist?      filler-Q  short   \n..                                        ...           ...    ...   \n251  Did the interns disturb the researchers?  distractor-Q   long   \n252        Did the interns disturb the donor?      filler-Q  short   \n253       Did the interns disturb the donors?  distractor-Q  short   \n254        Did the interns disturb the donor?      filler-Q   long   \n255       Did the interns disturb the donors?  distractor-Q   long   \n\n    gender_match correct_answer  \n0       mismatch           true  \n1          match           true  \n2       mismatch           true  \n3          match           true  \n4       mismatch          false  \n..           ...            ...  \n251        match           true  \n252     mismatch          false  \n253        match          false  \n254     mismatch          false  \n255        match          false  \n\n[256 rows x 6 columns]",
      "text/html": "<div>\n<style scoped>\n    .dataframe tbody tr th:only-of-type {\n        vertical-align: middle;\n    }\n\n    .dataframe tbody tr th {\n        vertical-align: top;\n    }\n\n    .dataframe thead th {\n        text-align: right;\n    }\n</style>\n<table border=\"1\" class=\"dataframe\">\n  <thead>\n    <tr style=\"text-align: right;\">\n      <th></th>\n      <th>sentence</th>\n      <th>question</th>\n      <th>question_type</th>\n      <th>length</th>\n      <th>gender_match</th>\n      <th>correct_answer</th>\n    </tr>\n  </thead>\n  <tbody>\n    <tr>\n      <th>0</th>\n      <td>The tourist hired the guides that the locals a...</td>\n      <td>Did the locals anger the guides?</td>\n      <td>filler-Q</td>\n      <td>short</td>\n      <td>mismatch</td>\n      <td>true</td>\n    </tr>\n    <tr>\n      <th>1</th>\n      <td>The tourists hired the guides that the locals ...</td>\n      <td>Did the locals anger the guides?</td>\n      <td>distractor-Q</td>\n      <td>short</td>\n      <td>match</td>\n      <td>true</td>\n    </tr>\n    <tr>\n      <th>2</th>\n      <td>The tourist hired the guides that two days ago...</td>\n      <td>Did the locals anger the guides?</td>\n      <td>filler-Q</td>\n      <td>long</td>\n      <td>mismatch</td>\n      <td>true</td>\n    </tr>\n    <tr>\n      <th>3</th>\n      <td>The tourists hired the guides who two days ago...</td>\n      <td>Did the locals anger the guides?</td>\n      <td>distractor-Q</td>\n      <td>long</td>\n      <td>match</td>\n      <td>true</td>\n    </tr>\n    <tr>\n      <th>4</th>\n      <td>The tourist hired the guides that the locals a...</td>\n      <td>Did the locals anger the tourist?</td>\n      <td>filler-Q</td>\n      <td>short</td>\n      <td>mismatch</td>\n      <td>false</td>\n    </tr>\n    <tr>\n      <th>...</th>\n      <td>...</td>\n      <td>...</td>\n      <td>...</td>\n      <td>...</td>\n      <td>...</td>\n      <td>...</td>\n    </tr>\n    <tr>\n      <th>251</th>\n      <td>The donors bored the researchers that last yea...</td>\n      <td>Did the interns disturb the researchers?</td>\n      <td>distractor-Q</td>\n      <td>long</td>\n      <td>match</td>\n      <td>true</td>\n    </tr>\n    <tr>\n      <th>252</th>\n      <td>The donor bored the researchers that interns d...</td>\n      <td>Did the interns disturb the donor?</td>\n      <td>filler-Q</td>\n      <td>short</td>\n      <td>mismatch</td>\n      <td>false</td>\n    </tr>\n    <tr>\n      <th>253</th>\n      <td>The donors bored the researchers that interns ...</td>\n      <td>Did the interns disturb the donors?</td>\n      <td>distractor-Q</td>\n      <td>short</td>\n      <td>match</td>\n      <td>false</td>\n    </tr>\n    <tr>\n      <th>254</th>\n      <td>The donor bored the researchers that last year...</td>\n      <td>Did the interns disturb the donor?</td>\n      <td>filler-Q</td>\n      <td>long</td>\n      <td>mismatch</td>\n      <td>false</td>\n    </tr>\n    <tr>\n      <th>255</th>\n      <td>The donors bored the researchers that last yea...</td>\n      <td>Did the interns disturb the donors?</td>\n      <td>distractor-Q</td>\n      <td>long</td>\n      <td>match</td>\n      <td>false</td>\n    </tr>\n  </tbody>\n</table>\n<p>256 rows × 6 columns</p>\n</div>"
     },
     "execution_count": 22,
     "metadata": {},
     "output_type": "execute_result"
    }
   ],
   "source": [
    "df_niki = pd.read_json(path_or_buf=\"data/experiment_niki.jsonl\", lines=True)\n",
    "df_niki"
   ],
   "metadata": {
    "collapsed": false,
    "ExecuteTime": {
     "end_time": "2023-07-11T09:22:15.680462Z",
     "start_time": "2023-07-11T09:22:15.652309Z"
    }
   }
  },
  {
   "cell_type": "code",
   "execution_count": 23,
   "outputs": [],
   "source": [
    "# example\n",
    "df_niki[df_niki[\"sentence\"] == \"The tourists hired the guides that the locals angered due to a misunderstanding\"]"
   ],
   "metadata": {
    "collapsed": false,
    "ExecuteTime": {
     "end_time": "2023-07-11T09:22:19.458152Z",
     "start_time": "2023-07-11T09:22:19.450916Z"
    }
   }
  },
  {
   "cell_type": "code",
   "execution_count": 24,
   "outputs": [
    {
     "data": {
      "text/plain": "                                              sentence  \\\n0    The tourist hired the guides that the locals a...   \n1    The tourists hired the guides that the locals ...   \n2    The tourist hired the guides that two days ago...   \n3    The tourists hired the guides who two days ago...   \n4    The coach removed the gymnasts that the fans d...   \n..                                                 ...   \n123  The editors censored the journalists that last...   \n124  The donor bored the researchers that interns d...   \n125  The donors bored the researchers that interns ...   \n126  The donor bored the researchers that last year...   \n127  The donors bored the researchers that last yea...   \n\n                                       question question_type length  \\\n0              Did the locals anger the guides?      filler-Q  short   \n1              Did the locals anger the guides?  distractor-Q  short   \n2              Did the locals anger the guides?      filler-Q   long   \n3              Did the locals anger the guides?  distractor-Q   long   \n4         Did the fans disrespect the gymnasts?      filler-Q  short   \n..                                          ...           ...    ...   \n123  Did the readers influence the journalists?  distractor-Q   long   \n124    Did the interns disturb the researchers?      filler-Q  short   \n125    Did the interns disturb the researchers?  distractor-Q  short   \n126    Did the interns disturb the researchers?      filler-Q   long   \n127    Did the interns disturb the researchers?  distractor-Q   long   \n\n    gender_match correct_answer  \n0       mismatch           true  \n1          match           true  \n2       mismatch           true  \n3          match           true  \n4       mismatch           true  \n..           ...            ...  \n123        match           true  \n124     mismatch           true  \n125        match           true  \n126     mismatch           true  \n127        match           true  \n\n[128 rows x 6 columns]",
      "text/html": "<div>\n<style scoped>\n    .dataframe tbody tr th:only-of-type {\n        vertical-align: middle;\n    }\n\n    .dataframe tbody tr th {\n        vertical-align: top;\n    }\n\n    .dataframe thead th {\n        text-align: right;\n    }\n</style>\n<table border=\"1\" class=\"dataframe\">\n  <thead>\n    <tr style=\"text-align: right;\">\n      <th></th>\n      <th>sentence</th>\n      <th>question</th>\n      <th>question_type</th>\n      <th>length</th>\n      <th>gender_match</th>\n      <th>correct_answer</th>\n    </tr>\n  </thead>\n  <tbody>\n    <tr>\n      <th>0</th>\n      <td>The tourist hired the guides that the locals a...</td>\n      <td>Did the locals anger the guides?</td>\n      <td>filler-Q</td>\n      <td>short</td>\n      <td>mismatch</td>\n      <td>true</td>\n    </tr>\n    <tr>\n      <th>1</th>\n      <td>The tourists hired the guides that the locals ...</td>\n      <td>Did the locals anger the guides?</td>\n      <td>distractor-Q</td>\n      <td>short</td>\n      <td>match</td>\n      <td>true</td>\n    </tr>\n    <tr>\n      <th>2</th>\n      <td>The tourist hired the guides that two days ago...</td>\n      <td>Did the locals anger the guides?</td>\n      <td>filler-Q</td>\n      <td>long</td>\n      <td>mismatch</td>\n      <td>true</td>\n    </tr>\n    <tr>\n      <th>3</th>\n      <td>The tourists hired the guides who two days ago...</td>\n      <td>Did the locals anger the guides?</td>\n      <td>distractor-Q</td>\n      <td>long</td>\n      <td>match</td>\n      <td>true</td>\n    </tr>\n    <tr>\n      <th>4</th>\n      <td>The coach removed the gymnasts that the fans d...</td>\n      <td>Did the fans disrespect the gymnasts?</td>\n      <td>filler-Q</td>\n      <td>short</td>\n      <td>mismatch</td>\n      <td>true</td>\n    </tr>\n    <tr>\n      <th>...</th>\n      <td>...</td>\n      <td>...</td>\n      <td>...</td>\n      <td>...</td>\n      <td>...</td>\n      <td>...</td>\n    </tr>\n    <tr>\n      <th>123</th>\n      <td>The editors censored the journalists that last...</td>\n      <td>Did the readers influence the journalists?</td>\n      <td>distractor-Q</td>\n      <td>long</td>\n      <td>match</td>\n      <td>true</td>\n    </tr>\n    <tr>\n      <th>124</th>\n      <td>The donor bored the researchers that interns d...</td>\n      <td>Did the interns disturb the researchers?</td>\n      <td>filler-Q</td>\n      <td>short</td>\n      <td>mismatch</td>\n      <td>true</td>\n    </tr>\n    <tr>\n      <th>125</th>\n      <td>The donors bored the researchers that interns ...</td>\n      <td>Did the interns disturb the researchers?</td>\n      <td>distractor-Q</td>\n      <td>short</td>\n      <td>match</td>\n      <td>true</td>\n    </tr>\n    <tr>\n      <th>126</th>\n      <td>The donor bored the researchers that last year...</td>\n      <td>Did the interns disturb the researchers?</td>\n      <td>filler-Q</td>\n      <td>long</td>\n      <td>mismatch</td>\n      <td>true</td>\n    </tr>\n    <tr>\n      <th>127</th>\n      <td>The donors bored the researchers that last yea...</td>\n      <td>Did the interns disturb the researchers?</td>\n      <td>distractor-Q</td>\n      <td>long</td>\n      <td>match</td>\n      <td>true</td>\n    </tr>\n  </tbody>\n</table>\n<p>128 rows × 6 columns</p>\n</div>"
     },
     "execution_count": 24,
     "metadata": {},
     "output_type": "execute_result"
    }
   ],
   "source": [
    "df_niki = df_niki.query(\"correct_answer == 'true'\").reset_index(drop=True)"
   ],
   "metadata": {
    "collapsed": false,
    "ExecuteTime": {
     "end_time": "2023-07-11T09:22:20.775227Z",
     "start_time": "2023-07-11T09:22:20.768368Z"
    }
   }
  },
  {
   "cell_type": "code",
   "execution_count": 25,
   "outputs": [],
   "source": [
    "df_niki"
   ],
   "metadata": {
    "collapsed": false,
    "ExecuteTime": {
     "end_time": "2023-07-11T09:22:21.607907Z",
     "start_time": "2023-07-11T09:22:21.604172Z"
    }
   }
  },
  {
   "cell_type": "code",
   "execution_count": 26,
   "outputs": [],
   "source": [
    "# change the question where it is like \"Did the musicians excited the producers?\" to \"Did the musicians excite the producers?\"\n",
    "df_niki.loc[df_niki.question.str.contains(\"heard\"), \"question\"] = df_niki.question.str.replace(\"heard\", \"hear\")\n",
    "df_niki.loc[df_niki.question.str.contains(\"excited\"), \"question\"] = df_niki.question.str.replace(\"excited\", \"excite\")"
   ],
   "metadata": {
    "collapsed": false,
    "ExecuteTime": {
     "end_time": "2023-07-11T09:22:22.187768Z",
     "start_time": "2023-07-11T09:22:22.178652Z"
    }
   }
  },
  {
   "cell_type": "code",
   "execution_count": 27,
   "outputs": [],
   "source": [
    "# get the fourth word from the sentence\n",
    "df_niki[\"verb\"] = df_niki.question.str.split().str[3]\n",
    "# df_niki[\"distractor\"] = df_niki.question.str.split().str[3]"
   ],
   "metadata": {
    "collapsed": false,
    "ExecuteTime": {
     "end_time": "2023-07-11T09:22:23.028712Z",
     "start_time": "2023-07-11T09:22:23.022568Z"
    }
   }
  },
  {
   "cell_type": "code",
   "execution_count": 28,
   "outputs": [
    {
     "name": "stderr",
     "output_type": "stream",
     "text": [
      "/var/folders/6f/bw7y_knd19g_q43g3ng4jbnr0000gn/T/ipykernel_11827/670632060.py:2: FutureWarning: The default value of regex will change from True to False in a future version. In addition, single character regular expressions will *not* be treated as literal strings when regex=True.\n",
      "  df_niki[\"question\"] = df_niki[\"question\"].str.replace(\"Did\", \"Therefore,\").str.replace(\"?\", \"\")\n"
     ]
    }
   ],
   "source": [
    "# remove the \"Did\" and \"?\" from the question\n",
    "df_niki[\"question\"] = df_niki[\"question\"].str.replace(\"Did\", \"Therefore,\").str.replace(\"?\", \"\")\n",
    "\n",
    "# get the last word from the question\n",
    "df_niki[\"label\"] = df_niki[\"question\"].str.split().str[-1]\n",
    "\n",
    "# change the last words of the question to <MASK>\n",
    "df_niki[\"question\"] = df_niki[\"question\"].str.split().str[:-1].str.join(\" \") + \" [MASK]\""
   ],
   "metadata": {
    "collapsed": false,
    "ExecuteTime": {
     "end_time": "2023-07-11T09:22:23.608300Z",
     "start_time": "2023-07-11T09:22:23.602382Z"
    }
   }
  },
  {
   "cell_type": "code",
   "execution_count": 29,
   "outputs": [],
   "source": [
    "verbs =  df_niki[\"verb\"].unique().tolist()\n",
    "verbs_to_past_dict = {\n",
    "'anger': 'angered',\n",
    "'disrespect': 'disrespected',\n",
    "'excite': 'excited',\n",
    "'threaten': 'threatened',\n",
    "'abuse': 'abused',\n",
    "'care': 'cared',\n",
    "'need': 'needed',\n",
    "'ignore': 'ignored',\n",
    "'pay': 'paid',\n",
    "'watch': 'watched',\n",
    "'help': 'helped',\n",
    "'hear': 'heard',\n",
    "'support': 'supported',\n",
    "'dislike': 'disliked',\n",
    "'mock': 'mocked',\n",
    "'rebel': 'rebelled',\n",
    "'gossip': 'gossiped',\n",
    "'look': 'looked',\n",
    "'fear': 'feared',\n",
    "'harass': 'harassed',\n",
    "'impress': 'impressed',\n",
    "'compliment': 'complimented',\n",
    "'admire': 'admired',\n",
    "'escape': 'escaped',\n",
    "'approach': 'approached',\n",
    "'shoot': 'shot',\n",
    "'trust': 'trusted',\n",
    "'advise': 'advised',\n",
    "'appreciate': 'appreciated',\n",
    "'influence': 'influenced',\n",
    "'disturb': 'disturbed'\n",
    "}"
   ],
   "metadata": {
    "collapsed": false,
    "ExecuteTime": {
     "end_time": "2023-07-11T09:22:24.605264Z",
     "start_time": "2023-07-11T09:22:24.597959Z"
    }
   }
  },
  {
   "cell_type": "code",
   "execution_count": 30,
   "outputs": [],
   "source": [
    "df_niki[\"question\"] = df_niki.apply(lambda row: row[\"question\"].replace(row[\"verb\"], verbs_to_past_dict[row[\"verb\"]]), axis=1)"
   ],
   "metadata": {
    "collapsed": false,
    "ExecuteTime": {
     "end_time": "2023-07-11T09:22:25.049727Z",
     "start_time": "2023-07-11T09:22:25.046609Z"
    }
   }
  },
  {
   "cell_type": "code",
   "execution_count": 31,
   "outputs": [],
   "source": [
    "df_niki[\"prompt\"] = df_niki[\"sentence\"] + \". \" + df_niki[\"question\"]"
   ],
   "metadata": {
    "collapsed": false,
    "ExecuteTime": {
     "end_time": "2023-07-11T09:22:25.440504Z",
     "start_time": "2023-07-11T09:22:25.435231Z"
    }
   }
  },
  {
   "cell_type": "code",
   "execution_count": 32,
   "outputs": [],
   "source": [
    "# rename gender_match column to plural_match\n",
    "df_niki.rename(columns={\"gender_match\": \"plural_match\"}, inplace=True)"
   ],
   "metadata": {
    "collapsed": false,
    "ExecuteTime": {
     "end_time": "2023-07-11T09:22:26.460174Z",
     "start_time": "2023-07-11T09:22:26.451110Z"
    }
   }
  },
  {
   "cell_type": "code",
   "execution_count": 33,
   "outputs": [
    {
     "name": "stderr",
     "output_type": "stream",
     "text": [
      "[nltk_data] Downloading package averaged_perceptron_tagger to\n",
      "[nltk_data]     /Users/yaara.shriki/nltk_data...\n",
      "[nltk_data]   Package averaged_perceptron_tagger is already up-to-\n",
      "[nltk_data]       date!\n"
     ]
    }
   ],
   "source": [
    "nltk.download('averaged_perceptron_tagger')\n",
    "\n",
    "sentences = df_niki[\"sentence\"].tolist()\n",
    "\n",
    "# Function to extract the first and second nouns from a sentence\n",
    "def extract_nouns(sentence):\n",
    "    tokens = nltk.word_tokenize(sentence)\n",
    "    tagged = nltk.pos_tag(tokens)\n",
    "    nouns = [word for word, pos in tagged if pos.startswith('NN')]\n",
    "    return nouns[:2]\n",
    "\n",
    "# Extract nouns from each sentence\n",
    "first_nouns = []\n",
    "second_nouns = []\n",
    "\n",
    "for sentence in sentences:\n",
    "    nouns = extract_nouns(sentence)\n",
    "    if len(nouns) > 0:\n",
    "        first_nouns.append(nouns[0])\n",
    "    else:\n",
    "        first_nouns.append(None)\n",
    "    if len(nouns) > 1:\n",
    "        second_nouns.append(nouns[1])\n",
    "    else:\n",
    "        second_nouns.append(None)\n",
    "\n",
    "# Create Pandas Series\n",
    "first_nouns_series = pd.Series(first_nouns)\n",
    "second_nouns_series = pd.Series(second_nouns)\n",
    "\n",
    "# Add columns to DataFrame\n",
    "df_niki[\"first_noun\"] = first_nouns_series.values\n",
    "df_niki[\"second_noun\"] = second_nouns_series.values\n"
   ],
   "metadata": {
    "collapsed": false,
    "ExecuteTime": {
     "end_time": "2023-07-11T09:22:27.136573Z",
     "start_time": "2023-07-11T09:22:27.042159Z"
    }
   }
  },
  {
   "cell_type": "code",
   "execution_count": 34,
   "outputs": [],
   "source": [
    "# add column with the wrong answer\n",
    "df_niki[\"distractor\"] = df_niki.apply(lambda row: row[\"first_noun\"] if row[\"first_noun\"] != row[\"correct_answer\"] else row[\"second_noun\"], axis=1)"
   ],
   "metadata": {
    "collapsed": false,
    "ExecuteTime": {
     "end_time": "2023-07-11T09:22:27.888130Z",
     "start_time": "2023-07-11T09:22:27.874599Z"
    }
   }
  },
  {
   "cell_type": "code",
   "execution_count": 35,
   "outputs": [
    {
     "data": {
      "text/plain": "                                               prompt first_noun second_noun  \\\n52  The attorney accompanied the defendants that t...   attorney  defendants   \n53  The attorneys accompanied the defendants that ...  attorneys  defendants   \n54  The attorney accompanied the defendants that t...   attorney  defendants   \n55  The attorneys accompanied the defendants that ...  attorneys  defendants   \n\n   label distractor  \n52  ones   attorney  \n53  ones  attorneys  \n54  ones   attorney  \n55  ones  attorneys  ",
      "text/html": "<div>\n<style scoped>\n    .dataframe tbody tr th:only-of-type {\n        vertical-align: middle;\n    }\n\n    .dataframe tbody tr th {\n        vertical-align: top;\n    }\n\n    .dataframe thead th {\n        text-align: right;\n    }\n</style>\n<table border=\"1\" class=\"dataframe\">\n  <thead>\n    <tr style=\"text-align: right;\">\n      <th></th>\n      <th>prompt</th>\n      <th>first_noun</th>\n      <th>second_noun</th>\n      <th>label</th>\n      <th>distractor</th>\n    </tr>\n  </thead>\n  <tbody>\n    <tr>\n      <th>52</th>\n      <td>The attorney accompanied the defendants that t...</td>\n      <td>attorney</td>\n      <td>defendants</td>\n      <td>ones</td>\n      <td>attorney</td>\n    </tr>\n    <tr>\n      <th>53</th>\n      <td>The attorneys accompanied the defendants that ...</td>\n      <td>attorneys</td>\n      <td>defendants</td>\n      <td>ones</td>\n      <td>attorneys</td>\n    </tr>\n    <tr>\n      <th>54</th>\n      <td>The attorney accompanied the defendants that t...</td>\n      <td>attorney</td>\n      <td>defendants</td>\n      <td>ones</td>\n      <td>attorney</td>\n    </tr>\n    <tr>\n      <th>55</th>\n      <td>The attorneys accompanied the defendants that ...</td>\n      <td>attorneys</td>\n      <td>defendants</td>\n      <td>ones</td>\n      <td>attorneys</td>\n    </tr>\n  </tbody>\n</table>\n</div>"
     },
     "execution_count": 35,
     "metadata": {},
     "output_type": "execute_result"
    }
   ],
   "source": [
    "df_niki.loc[df_niki.label == \"ones\"][[\"prompt\",\"first_noun\",\"second_noun\",\"label\",\"distractor\"]]"
   ],
   "metadata": {
    "collapsed": false,
    "ExecuteTime": {
     "end_time": "2023-07-11T09:22:29.796715Z",
     "start_time": "2023-07-11T09:22:29.791100Z"
    }
   }
  },
  {
   "cell_type": "code",
   "execution_count": 36,
   "outputs": [],
   "source": [
    "fix_dict = {\n",
    "    (\"first_noun\", \"ones\"): \"accused ones\",\n",
    "    (\"first_noun\", \"ones\"): \"accused ones\",\n",
    "}"
   ],
   "metadata": {
    "collapsed": false,
    "ExecuteTime": {
     "end_time": "2023-07-11T09:22:31.154100Z",
     "start_time": "2023-07-11T09:22:31.143328Z"
    }
   }
  },
  {
   "cell_type": "code",
   "execution_count": 37,
   "outputs": [
    {
     "data": {
      "text/plain": "                                              sentence  \\\n52   The attorney accompanied the defendants that t...   \n53   The attorneys accompanied the defendants that ...   \n54   The attorney accompanied the defendants that t...   \n55   The attorneys accompanied the defendants that ...   \n64   The tenant hosted the women that the neighbors...   \n65   The tenants hosted the women that the neighbor...   \n66   The tenant hosted the women that last week the...   \n67   The tenants hosted the women that last week th...   \n96   The referee disqualified the players that the ...   \n97   The referees disqualified the players that the...   \n98   The referee disqualified the players who a wee...   \n99   The referees disqualified the players who a we...   \n100  The clerk found the bankers that the robbers s...   \n101  The clerks found the bankers that the robbers ...   \n102  The clerk found the bankers that this morning ...   \n103  The clerks found the bankers that this morning...   \n\n                                              question question_type length  \\\n52   Therefore, the jurors disliked the accused [MASK]      filler-Q  short   \n53   Therefore, the jurors disliked the accused [MASK]  distractor-Q  short   \n54   Therefore, the jurors disliked the accused [MASK]      filler-Q   long   \n55   Therefore, the jurors disliked the accused [MASK]  distractor-Q   long   \n64   Therefore, the neighbors gossiped about the ol...      filler-Q  short   \n65   Therefore, the neighbors gossiped about the ol...  distractor-Q  short   \n66   Therefore, the neighbors gossiped about the ol...      filler-Q   long   \n67   Therefore, the neighbors gossiped about the ol...  distractor-Q   long   \n96   Therefore, the spectators approached the tenni...      filler-Q  short   \n97   Therefore, the spectators approached the tenni...  distractor-Q  short   \n98   Therefore, the spectators approached the tenni...      filler-Q   long   \n99   Therefore, the spectators approached the tenni...  distractor-Q   long   \n100        Therefore, the robbers shot the bank [MASK]      filler-Q  short   \n101        Therefore, the robbers shot the bank [MASK]  distractor-Q  short   \n102        Therefore, the robbers shot the bank [MASK]      filler-Q   long   \n103        Therefore, the robbers shot the bank [MASK]  distractor-Q   long   \n\n    plural_match correct_answer      verb     label  \\\n52      mismatch           true   dislike      ones   \n53         match           true   dislike      ones   \n54      mismatch           true   dislike      ones   \n55         match           true   dislike      ones   \n64      mismatch           true    gossip     women   \n65         match           true    gossip     women   \n66      mismatch           true    gossip     women   \n67         match           true    gossip     women   \n96      mismatch           true  approach   players   \n97         match           true  approach   players   \n98      mismatch           true  approach   players   \n99         match           true  approach   players   \n100     mismatch           true     shoot  managers   \n101        match           true     shoot  managers   \n102     mismatch           true     shoot  managers   \n103        match           true     shoot  managers   \n\n                                                prompt first_noun second_noun  \\\n52   The attorney accompanied the defendants that t...   attorney  defendants   \n53   The attorneys accompanied the defendants that ...  attorneys  defendants   \n54   The attorney accompanied the defendants that t...   attorney  defendants   \n55   The attorneys accompanied the defendants that ...  attorneys  defendants   \n64   The tenant hosted the women that the neighbors...     tenant       women   \n65   The tenants hosted the women that the neighbor...    tenants       women   \n66   The tenant hosted the women that last week the...     tenant       women   \n67   The tenants hosted the women that last week th...    tenants       women   \n96   The referee disqualified the players that the ...    referee     players   \n97   The referees disqualified the players that the...   referees     players   \n98   The referee disqualified the players who a wee...    referee     players   \n99   The referees disqualified the players who a we...   referees     players   \n100  The clerk found the bankers that the robbers s...      clerk     bankers   \n101  The clerks found the bankers that the robbers ...     clerks     bankers   \n102  The clerk found the bankers that this morning ...      clerk     bankers   \n103  The clerks found the bankers that this morning...     clerks     bankers   \n\n    distractor  \n52    attorney  \n53   attorneys  \n54    attorney  \n55   attorneys  \n64      tenant  \n65     tenants  \n66      tenant  \n67     tenants  \n96     referee  \n97    referees  \n98     referee  \n99    referees  \n100      clerk  \n101     clerks  \n102      clerk  \n103     clerks  ",
      "text/html": "<div>\n<style scoped>\n    .dataframe tbody tr th:only-of-type {\n        vertical-align: middle;\n    }\n\n    .dataframe tbody tr th {\n        vertical-align: top;\n    }\n\n    .dataframe thead th {\n        text-align: right;\n    }\n</style>\n<table border=\"1\" class=\"dataframe\">\n  <thead>\n    <tr style=\"text-align: right;\">\n      <th></th>\n      <th>sentence</th>\n      <th>question</th>\n      <th>question_type</th>\n      <th>length</th>\n      <th>plural_match</th>\n      <th>correct_answer</th>\n      <th>verb</th>\n      <th>label</th>\n      <th>prompt</th>\n      <th>first_noun</th>\n      <th>second_noun</th>\n      <th>distractor</th>\n    </tr>\n  </thead>\n  <tbody>\n    <tr>\n      <th>52</th>\n      <td>The attorney accompanied the defendants that t...</td>\n      <td>Therefore, the jurors disliked the accused [MASK]</td>\n      <td>filler-Q</td>\n      <td>short</td>\n      <td>mismatch</td>\n      <td>true</td>\n      <td>dislike</td>\n      <td>ones</td>\n      <td>The attorney accompanied the defendants that t...</td>\n      <td>attorney</td>\n      <td>defendants</td>\n      <td>attorney</td>\n    </tr>\n    <tr>\n      <th>53</th>\n      <td>The attorneys accompanied the defendants that ...</td>\n      <td>Therefore, the jurors disliked the accused [MASK]</td>\n      <td>distractor-Q</td>\n      <td>short</td>\n      <td>match</td>\n      <td>true</td>\n      <td>dislike</td>\n      <td>ones</td>\n      <td>The attorneys accompanied the defendants that ...</td>\n      <td>attorneys</td>\n      <td>defendants</td>\n      <td>attorneys</td>\n    </tr>\n    <tr>\n      <th>54</th>\n      <td>The attorney accompanied the defendants that t...</td>\n      <td>Therefore, the jurors disliked the accused [MASK]</td>\n      <td>filler-Q</td>\n      <td>long</td>\n      <td>mismatch</td>\n      <td>true</td>\n      <td>dislike</td>\n      <td>ones</td>\n      <td>The attorney accompanied the defendants that t...</td>\n      <td>attorney</td>\n      <td>defendants</td>\n      <td>attorney</td>\n    </tr>\n    <tr>\n      <th>55</th>\n      <td>The attorneys accompanied the defendants that ...</td>\n      <td>Therefore, the jurors disliked the accused [MASK]</td>\n      <td>distractor-Q</td>\n      <td>long</td>\n      <td>match</td>\n      <td>true</td>\n      <td>dislike</td>\n      <td>ones</td>\n      <td>The attorneys accompanied the defendants that ...</td>\n      <td>attorneys</td>\n      <td>defendants</td>\n      <td>attorneys</td>\n    </tr>\n    <tr>\n      <th>64</th>\n      <td>The tenant hosted the women that the neighbors...</td>\n      <td>Therefore, the neighbors gossiped about the ol...</td>\n      <td>filler-Q</td>\n      <td>short</td>\n      <td>mismatch</td>\n      <td>true</td>\n      <td>gossip</td>\n      <td>women</td>\n      <td>The tenant hosted the women that the neighbors...</td>\n      <td>tenant</td>\n      <td>women</td>\n      <td>tenant</td>\n    </tr>\n    <tr>\n      <th>65</th>\n      <td>The tenants hosted the women that the neighbor...</td>\n      <td>Therefore, the neighbors gossiped about the ol...</td>\n      <td>distractor-Q</td>\n      <td>short</td>\n      <td>match</td>\n      <td>true</td>\n      <td>gossip</td>\n      <td>women</td>\n      <td>The tenants hosted the women that the neighbor...</td>\n      <td>tenants</td>\n      <td>women</td>\n      <td>tenants</td>\n    </tr>\n    <tr>\n      <th>66</th>\n      <td>The tenant hosted the women that last week the...</td>\n      <td>Therefore, the neighbors gossiped about the ol...</td>\n      <td>filler-Q</td>\n      <td>long</td>\n      <td>mismatch</td>\n      <td>true</td>\n      <td>gossip</td>\n      <td>women</td>\n      <td>The tenant hosted the women that last week the...</td>\n      <td>tenant</td>\n      <td>women</td>\n      <td>tenant</td>\n    </tr>\n    <tr>\n      <th>67</th>\n      <td>The tenants hosted the women that last week th...</td>\n      <td>Therefore, the neighbors gossiped about the ol...</td>\n      <td>distractor-Q</td>\n      <td>long</td>\n      <td>match</td>\n      <td>true</td>\n      <td>gossip</td>\n      <td>women</td>\n      <td>The tenants hosted the women that last week th...</td>\n      <td>tenants</td>\n      <td>women</td>\n      <td>tenants</td>\n    </tr>\n    <tr>\n      <th>96</th>\n      <td>The referee disqualified the players that the ...</td>\n      <td>Therefore, the spectators approached the tenni...</td>\n      <td>filler-Q</td>\n      <td>short</td>\n      <td>mismatch</td>\n      <td>true</td>\n      <td>approach</td>\n      <td>players</td>\n      <td>The referee disqualified the players that the ...</td>\n      <td>referee</td>\n      <td>players</td>\n      <td>referee</td>\n    </tr>\n    <tr>\n      <th>97</th>\n      <td>The referees disqualified the players that the...</td>\n      <td>Therefore, the spectators approached the tenni...</td>\n      <td>distractor-Q</td>\n      <td>short</td>\n      <td>match</td>\n      <td>true</td>\n      <td>approach</td>\n      <td>players</td>\n      <td>The referees disqualified the players that the...</td>\n      <td>referees</td>\n      <td>players</td>\n      <td>referees</td>\n    </tr>\n    <tr>\n      <th>98</th>\n      <td>The referee disqualified the players who a wee...</td>\n      <td>Therefore, the spectators approached the tenni...</td>\n      <td>filler-Q</td>\n      <td>long</td>\n      <td>mismatch</td>\n      <td>true</td>\n      <td>approach</td>\n      <td>players</td>\n      <td>The referee disqualified the players who a wee...</td>\n      <td>referee</td>\n      <td>players</td>\n      <td>referee</td>\n    </tr>\n    <tr>\n      <th>99</th>\n      <td>The referees disqualified the players who a we...</td>\n      <td>Therefore, the spectators approached the tenni...</td>\n      <td>distractor-Q</td>\n      <td>long</td>\n      <td>match</td>\n      <td>true</td>\n      <td>approach</td>\n      <td>players</td>\n      <td>The referees disqualified the players who a we...</td>\n      <td>referees</td>\n      <td>players</td>\n      <td>referees</td>\n    </tr>\n    <tr>\n      <th>100</th>\n      <td>The clerk found the bankers that the robbers s...</td>\n      <td>Therefore, the robbers shot the bank [MASK]</td>\n      <td>filler-Q</td>\n      <td>short</td>\n      <td>mismatch</td>\n      <td>true</td>\n      <td>shoot</td>\n      <td>managers</td>\n      <td>The clerk found the bankers that the robbers s...</td>\n      <td>clerk</td>\n      <td>bankers</td>\n      <td>clerk</td>\n    </tr>\n    <tr>\n      <th>101</th>\n      <td>The clerks found the bankers that the robbers ...</td>\n      <td>Therefore, the robbers shot the bank [MASK]</td>\n      <td>distractor-Q</td>\n      <td>short</td>\n      <td>match</td>\n      <td>true</td>\n      <td>shoot</td>\n      <td>managers</td>\n      <td>The clerks found the bankers that the robbers ...</td>\n      <td>clerks</td>\n      <td>bankers</td>\n      <td>clerks</td>\n    </tr>\n    <tr>\n      <th>102</th>\n      <td>The clerk found the bankers that this morning ...</td>\n      <td>Therefore, the robbers shot the bank [MASK]</td>\n      <td>filler-Q</td>\n      <td>long</td>\n      <td>mismatch</td>\n      <td>true</td>\n      <td>shoot</td>\n      <td>managers</td>\n      <td>The clerk found the bankers that this morning ...</td>\n      <td>clerk</td>\n      <td>bankers</td>\n      <td>clerk</td>\n    </tr>\n    <tr>\n      <th>103</th>\n      <td>The clerks found the bankers that this morning...</td>\n      <td>Therefore, the robbers shot the bank [MASK]</td>\n      <td>distractor-Q</td>\n      <td>long</td>\n      <td>match</td>\n      <td>true</td>\n      <td>shoot</td>\n      <td>managers</td>\n      <td>The clerks found the bankers that this morning...</td>\n      <td>clerks</td>\n      <td>bankers</td>\n      <td>clerks</td>\n    </tr>\n  </tbody>\n</table>\n</div>"
     },
     "execution_count": 37,
     "metadata": {},
     "output_type": "execute_result"
    }
   ],
   "source": [
    "df_niki"
   ],
   "metadata": {
    "collapsed": false,
    "ExecuteTime": {
     "end_time": "2023-07-11T09:22:32.019156Z",
     "start_time": "2023-07-11T09:22:32.013008Z"
    }
   }
  },
  {
   "cell_type": "code",
   "execution_count": 57,
   "outputs": [],
   "source": [
    "# # fix the labels\n",
    "# df_niki.loc[df_niki.label == \"ones\", \"label\"] = \"accused ones\"\n",
    "# df_niki.loc[df_niki.label == \"women\", \"label\"] = \"old women\"\n",
    "# df_niki.loc[df_niki.label == \"players\", \"label\"] = \"tennis players\"\n",
    "# df_niki.loc[df_niki.label == \"managers\", \"label\"] = \"bank managers\""
   ],
   "metadata": {
    "collapsed": false,
    "ExecuteTime": {
     "end_time": "2023-07-11T07:41:55.930674Z",
     "start_time": "2023-07-11T07:41:55.908382Z"
    }
   }
  },
  {
   "cell_type": "code",
   "execution_count": 19,
   "outputs": [
    {
     "data": {
      "text/plain": "                                              sentence\n52   The defense attorney accompanied the accused o...\n53   The defense attorneys accompanied the accused ...\n54   The defense attorney accompanied the accused o...\n55   The defense attorneys accompanied the accused ...\n64   The tenant hosted the old women that the neigh...\n65   The tenants hosted the old women that the neig...\n66   The tenant hosted the old women that last week...\n67   The tenants hosted the old women that last wee...\n96   The referee disqualified the tennis players th...\n97   The referees disqualified the tennis players t...\n98   The referee disqualified the tennis players wh...\n99   The referees disqualified the tennis players w...\n100  The clerk found the bank managers that the rob...\n101  The clerks found the bank managers that the ro...\n102  The clerk found the bank managers that this mo...\n103  The clerks found the bank managers that this m...",
      "text/html": "<div>\n<style scoped>\n    .dataframe tbody tr th:only-of-type {\n        vertical-align: middle;\n    }\n\n    .dataframe tbody tr th {\n        vertical-align: top;\n    }\n\n    .dataframe thead th {\n        text-align: right;\n    }\n</style>\n<table border=\"1\" class=\"dataframe\">\n  <thead>\n    <tr style=\"text-align: right;\">\n      <th></th>\n      <th>sentence</th>\n    </tr>\n  </thead>\n  <tbody>\n    <tr>\n      <th>52</th>\n      <td>The defense attorney accompanied the accused o...</td>\n    </tr>\n    <tr>\n      <th>53</th>\n      <td>The defense attorneys accompanied the accused ...</td>\n    </tr>\n    <tr>\n      <th>54</th>\n      <td>The defense attorney accompanied the accused o...</td>\n    </tr>\n    <tr>\n      <th>55</th>\n      <td>The defense attorneys accompanied the accused ...</td>\n    </tr>\n    <tr>\n      <th>64</th>\n      <td>The tenant hosted the old women that the neigh...</td>\n    </tr>\n    <tr>\n      <th>65</th>\n      <td>The tenants hosted the old women that the neig...</td>\n    </tr>\n    <tr>\n      <th>66</th>\n      <td>The tenant hosted the old women that last week...</td>\n    </tr>\n    <tr>\n      <th>67</th>\n      <td>The tenants hosted the old women that last wee...</td>\n    </tr>\n    <tr>\n      <th>96</th>\n      <td>The referee disqualified the tennis players th...</td>\n    </tr>\n    <tr>\n      <th>97</th>\n      <td>The referees disqualified the tennis players t...</td>\n    </tr>\n    <tr>\n      <th>98</th>\n      <td>The referee disqualified the tennis players wh...</td>\n    </tr>\n    <tr>\n      <th>99</th>\n      <td>The referees disqualified the tennis players w...</td>\n    </tr>\n    <tr>\n      <th>100</th>\n      <td>The clerk found the bank managers that the rob...</td>\n    </tr>\n    <tr>\n      <th>101</th>\n      <td>The clerks found the bank managers that the ro...</td>\n    </tr>\n    <tr>\n      <th>102</th>\n      <td>The clerk found the bank managers that this mo...</td>\n    </tr>\n    <tr>\n      <th>103</th>\n      <td>The clerks found the bank managers that this m...</td>\n    </tr>\n  </tbody>\n</table>\n</div>"
     },
     "execution_count": 19,
     "metadata": {},
     "output_type": "execute_result"
    }
   ],
   "source": [
    "# drop rows\n",
    "df_niki.drop(index = df_niki.query(\"label == 'ones' | label == 'women' | label == 'players' | label == 'managers'\").index, inplace=True)"
   ],
   "metadata": {
    "collapsed": false,
    "ExecuteTime": {
     "end_time": "2023-07-11T09:03:05.885782Z",
     "start_time": "2023-07-11T09:03:05.878478Z"
    }
   }
  },
  {
   "cell_type": "code",
   "execution_count": 21,
   "outputs": [
    {
     "data": {
      "text/plain": "                                              sentence  \\\n52   The defense attorney accompanied the accused o...   \n53   The defense attorneys accompanied the accused ...   \n54   The defense attorney accompanied the accused o...   \n55   The defense attorneys accompanied the accused ...   \n64   The tenant hosted the old women that the neigh...   \n65   The tenants hosted the old women that the neig...   \n66   The tenant hosted the old women that last week...   \n67   The tenants hosted the old women that last wee...   \n96   The referee disqualified the tennis players th...   \n97   The referees disqualified the tennis players t...   \n98   The referee disqualified the tennis players wh...   \n99   The referees disqualified the tennis players w...   \n100  The clerk found the bank managers that the rob...   \n101  The clerks found the bank managers that the ro...   \n102  The clerk found the bank managers that this mo...   \n103  The clerks found the bank managers that this m...   \n\n                                              question question_type length  \\\n52   Therefore, the jurors disliked the accused [MASK]      filler-Q  short   \n53   Therefore, the jurors disliked the accused [MASK]  distractor-Q  short   \n54   Therefore, the jurors disliked the accused [MASK]      filler-Q   long   \n55   Therefore, the jurors disliked the accused [MASK]  distractor-Q   long   \n64   Therefore, the neighbors gossiped about the ol...      filler-Q  short   \n65   Therefore, the neighbors gossiped about the ol...  distractor-Q  short   \n66   Therefore, the neighbors gossiped about the ol...      filler-Q   long   \n67   Therefore, the neighbors gossiped about the ol...  distractor-Q   long   \n96   Therefore, the spectators approached the tenni...      filler-Q  short   \n97   Therefore, the spectators approached the tenni...  distractor-Q  short   \n98   Therefore, the spectators approached the tenni...      filler-Q   long   \n99   Therefore, the spectators approached the tenni...  distractor-Q   long   \n100        Therefore, the robbers shot the bank [MASK]      filler-Q  short   \n101        Therefore, the robbers shot the bank [MASK]  distractor-Q  short   \n102        Therefore, the robbers shot the bank [MASK]      filler-Q   long   \n103        Therefore, the robbers shot the bank [MASK]  distractor-Q   long   \n\n    plural_match correct_answer      verb     label  \\\n52      mismatch           true   dislike      ones   \n53         match           true   dislike      ones   \n54      mismatch           true   dislike      ones   \n55         match           true   dislike      ones   \n64      mismatch           true    gossip     women   \n65         match           true    gossip     women   \n66      mismatch           true    gossip     women   \n67         match           true    gossip     women   \n96      mismatch           true  approach   players   \n97         match           true  approach   players   \n98      mismatch           true  approach   players   \n99         match           true  approach   players   \n100     mismatch           true     shoot  managers   \n101        match           true     shoot  managers   \n102     mismatch           true     shoot  managers   \n103        match           true     shoot  managers   \n\n                                                prompt first_noun second_noun  \\\n52   The defense attorney accompanied the accused o...    defense    attorney   \n53   The defense attorneys accompanied the accused ...    defense   attorneys   \n54   The defense attorney accompanied the accused o...    defense    attorney   \n55   The defense attorneys accompanied the accused ...    defense   attorneys   \n64   The tenant hosted the old women that the neigh...     tenant       women   \n65   The tenants hosted the old women that the neig...    tenants       women   \n66   The tenant hosted the old women that last week...     tenant       women   \n67   The tenants hosted the old women that last wee...    tenants       women   \n96   The referee disqualified the tennis players th...    referee      tennis   \n97   The referees disqualified the tennis players t...   referees      tennis   \n98   The referee disqualified the tennis players wh...    referee      tennis   \n99   The referees disqualified the tennis players w...   referees      tennis   \n100  The clerk found the bank managers that the rob...      clerk        bank   \n101  The clerks found the bank managers that the ro...     clerks        bank   \n102  The clerk found the bank managers that this mo...      clerk        bank   \n103  The clerks found the bank managers that this m...     clerks        bank   \n\n    distractor  \n52     defense  \n53     defense  \n54     defense  \n55     defense  \n64      tenant  \n65     tenants  \n66      tenant  \n67     tenants  \n96     referee  \n97    referees  \n98     referee  \n99    referees  \n100      clerk  \n101     clerks  \n102      clerk  \n103     clerks  ",
      "text/html": "<div>\n<style scoped>\n    .dataframe tbody tr th:only-of-type {\n        vertical-align: middle;\n    }\n\n    .dataframe tbody tr th {\n        vertical-align: top;\n    }\n\n    .dataframe thead th {\n        text-align: right;\n    }\n</style>\n<table border=\"1\" class=\"dataframe\">\n  <thead>\n    <tr style=\"text-align: right;\">\n      <th></th>\n      <th>sentence</th>\n      <th>question</th>\n      <th>question_type</th>\n      <th>length</th>\n      <th>plural_match</th>\n      <th>correct_answer</th>\n      <th>verb</th>\n      <th>label</th>\n      <th>prompt</th>\n      <th>first_noun</th>\n      <th>second_noun</th>\n      <th>distractor</th>\n    </tr>\n  </thead>\n  <tbody>\n    <tr>\n      <th>52</th>\n      <td>The defense attorney accompanied the accused o...</td>\n      <td>Therefore, the jurors disliked the accused [MASK]</td>\n      <td>filler-Q</td>\n      <td>short</td>\n      <td>mismatch</td>\n      <td>true</td>\n      <td>dislike</td>\n      <td>ones</td>\n      <td>The defense attorney accompanied the accused o...</td>\n      <td>defense</td>\n      <td>attorney</td>\n      <td>defense</td>\n    </tr>\n    <tr>\n      <th>53</th>\n      <td>The defense attorneys accompanied the accused ...</td>\n      <td>Therefore, the jurors disliked the accused [MASK]</td>\n      <td>distractor-Q</td>\n      <td>short</td>\n      <td>match</td>\n      <td>true</td>\n      <td>dislike</td>\n      <td>ones</td>\n      <td>The defense attorneys accompanied the accused ...</td>\n      <td>defense</td>\n      <td>attorneys</td>\n      <td>defense</td>\n    </tr>\n    <tr>\n      <th>54</th>\n      <td>The defense attorney accompanied the accused o...</td>\n      <td>Therefore, the jurors disliked the accused [MASK]</td>\n      <td>filler-Q</td>\n      <td>long</td>\n      <td>mismatch</td>\n      <td>true</td>\n      <td>dislike</td>\n      <td>ones</td>\n      <td>The defense attorney accompanied the accused o...</td>\n      <td>defense</td>\n      <td>attorney</td>\n      <td>defense</td>\n    </tr>\n    <tr>\n      <th>55</th>\n      <td>The defense attorneys accompanied the accused ...</td>\n      <td>Therefore, the jurors disliked the accused [MASK]</td>\n      <td>distractor-Q</td>\n      <td>long</td>\n      <td>match</td>\n      <td>true</td>\n      <td>dislike</td>\n      <td>ones</td>\n      <td>The defense attorneys accompanied the accused ...</td>\n      <td>defense</td>\n      <td>attorneys</td>\n      <td>defense</td>\n    </tr>\n    <tr>\n      <th>64</th>\n      <td>The tenant hosted the old women that the neigh...</td>\n      <td>Therefore, the neighbors gossiped about the ol...</td>\n      <td>filler-Q</td>\n      <td>short</td>\n      <td>mismatch</td>\n      <td>true</td>\n      <td>gossip</td>\n      <td>women</td>\n      <td>The tenant hosted the old women that the neigh...</td>\n      <td>tenant</td>\n      <td>women</td>\n      <td>tenant</td>\n    </tr>\n    <tr>\n      <th>65</th>\n      <td>The tenants hosted the old women that the neig...</td>\n      <td>Therefore, the neighbors gossiped about the ol...</td>\n      <td>distractor-Q</td>\n      <td>short</td>\n      <td>match</td>\n      <td>true</td>\n      <td>gossip</td>\n      <td>women</td>\n      <td>The tenants hosted the old women that the neig...</td>\n      <td>tenants</td>\n      <td>women</td>\n      <td>tenants</td>\n    </tr>\n    <tr>\n      <th>66</th>\n      <td>The tenant hosted the old women that last week...</td>\n      <td>Therefore, the neighbors gossiped about the ol...</td>\n      <td>filler-Q</td>\n      <td>long</td>\n      <td>mismatch</td>\n      <td>true</td>\n      <td>gossip</td>\n      <td>women</td>\n      <td>The tenant hosted the old women that last week...</td>\n      <td>tenant</td>\n      <td>women</td>\n      <td>tenant</td>\n    </tr>\n    <tr>\n      <th>67</th>\n      <td>The tenants hosted the old women that last wee...</td>\n      <td>Therefore, the neighbors gossiped about the ol...</td>\n      <td>distractor-Q</td>\n      <td>long</td>\n      <td>match</td>\n      <td>true</td>\n      <td>gossip</td>\n      <td>women</td>\n      <td>The tenants hosted the old women that last wee...</td>\n      <td>tenants</td>\n      <td>women</td>\n      <td>tenants</td>\n    </tr>\n    <tr>\n      <th>96</th>\n      <td>The referee disqualified the tennis players th...</td>\n      <td>Therefore, the spectators approached the tenni...</td>\n      <td>filler-Q</td>\n      <td>short</td>\n      <td>mismatch</td>\n      <td>true</td>\n      <td>approach</td>\n      <td>players</td>\n      <td>The referee disqualified the tennis players th...</td>\n      <td>referee</td>\n      <td>tennis</td>\n      <td>referee</td>\n    </tr>\n    <tr>\n      <th>97</th>\n      <td>The referees disqualified the tennis players t...</td>\n      <td>Therefore, the spectators approached the tenni...</td>\n      <td>distractor-Q</td>\n      <td>short</td>\n      <td>match</td>\n      <td>true</td>\n      <td>approach</td>\n      <td>players</td>\n      <td>The referees disqualified the tennis players t...</td>\n      <td>referees</td>\n      <td>tennis</td>\n      <td>referees</td>\n    </tr>\n    <tr>\n      <th>98</th>\n      <td>The referee disqualified the tennis players wh...</td>\n      <td>Therefore, the spectators approached the tenni...</td>\n      <td>filler-Q</td>\n      <td>long</td>\n      <td>mismatch</td>\n      <td>true</td>\n      <td>approach</td>\n      <td>players</td>\n      <td>The referee disqualified the tennis players wh...</td>\n      <td>referee</td>\n      <td>tennis</td>\n      <td>referee</td>\n    </tr>\n    <tr>\n      <th>99</th>\n      <td>The referees disqualified the tennis players w...</td>\n      <td>Therefore, the spectators approached the tenni...</td>\n      <td>distractor-Q</td>\n      <td>long</td>\n      <td>match</td>\n      <td>true</td>\n      <td>approach</td>\n      <td>players</td>\n      <td>The referees disqualified the tennis players w...</td>\n      <td>referees</td>\n      <td>tennis</td>\n      <td>referees</td>\n    </tr>\n    <tr>\n      <th>100</th>\n      <td>The clerk found the bank managers that the rob...</td>\n      <td>Therefore, the robbers shot the bank [MASK]</td>\n      <td>filler-Q</td>\n      <td>short</td>\n      <td>mismatch</td>\n      <td>true</td>\n      <td>shoot</td>\n      <td>managers</td>\n      <td>The clerk found the bank managers that the rob...</td>\n      <td>clerk</td>\n      <td>bank</td>\n      <td>clerk</td>\n    </tr>\n    <tr>\n      <th>101</th>\n      <td>The clerks found the bank managers that the ro...</td>\n      <td>Therefore, the robbers shot the bank [MASK]</td>\n      <td>distractor-Q</td>\n      <td>short</td>\n      <td>match</td>\n      <td>true</td>\n      <td>shoot</td>\n      <td>managers</td>\n      <td>The clerks found the bank managers that the ro...</td>\n      <td>clerks</td>\n      <td>bank</td>\n      <td>clerks</td>\n    </tr>\n    <tr>\n      <th>102</th>\n      <td>The clerk found the bank managers that this mo...</td>\n      <td>Therefore, the robbers shot the bank [MASK]</td>\n      <td>filler-Q</td>\n      <td>long</td>\n      <td>mismatch</td>\n      <td>true</td>\n      <td>shoot</td>\n      <td>managers</td>\n      <td>The clerk found the bank managers that this mo...</td>\n      <td>clerk</td>\n      <td>bank</td>\n      <td>clerk</td>\n    </tr>\n    <tr>\n      <th>103</th>\n      <td>The clerks found the bank managers that this m...</td>\n      <td>Therefore, the robbers shot the bank [MASK]</td>\n      <td>distractor-Q</td>\n      <td>long</td>\n      <td>match</td>\n      <td>true</td>\n      <td>shoot</td>\n      <td>managers</td>\n      <td>The clerks found the bank managers that this m...</td>\n      <td>clerks</td>\n      <td>bank</td>\n      <td>clerks</td>\n    </tr>\n  </tbody>\n</table>\n</div>"
     },
     "execution_count": 21,
     "metadata": {},
     "output_type": "execute_result"
    }
   ],
   "source": [
    "df_niki"
   ],
   "metadata": {
    "collapsed": false,
    "ExecuteTime": {
     "end_time": "2023-07-11T09:19:30.199734Z",
     "start_time": "2023-07-11T09:19:30.193154Z"
    }
   }
  },
  {
   "cell_type": "code",
   "execution_count": 60,
   "outputs": [],
   "source": [
    "df_niki.query(\"label == 'ones' | label == 'women' | label == 'players' | label == 'managers'\").index"
   ],
   "metadata": {
    "collapsed": false,
    "ExecuteTime": {
     "end_time": "2023-07-11T07:41:55.969470Z",
     "start_time": "2023-07-11T07:41:55.931665Z"
    }
   }
  },
  {
   "cell_type": "code",
   "execution_count": 61,
   "outputs": [
    {
     "data": {
      "text/plain": "                                              sentence  \\\n0    The tourist hired the guides that the locals a...   \n1    The tourists hired the guides that the locals ...   \n2    The tourist hired the guides that two days ago...   \n3    The tourists hired the guides who two days ago...   \n4    The coach removed the gymnasts that the fans d...   \n..                                                 ...   \n123  The editors censored the journalists that last...   \n124  The donor bored the researchers that interns d...   \n125  The donors bored the researchers that interns ...   \n126  The donor bored the researchers that last year...   \n127  The donors bored the researchers that last yea...   \n\n                                         question question_type length  \\\n0        Therefore, the locals angered the [MASK]      filler-Q  short   \n1        Therefore, the locals angered the [MASK]  distractor-Q  short   \n2        Therefore, the locals angered the [MASK]      filler-Q   long   \n3        Therefore, the locals angered the [MASK]  distractor-Q   long   \n4     Therefore, the fans disrespected the [MASK]      filler-Q  short   \n..                                            ...           ...    ...   \n123  Therefore, the readers influenced the [MASK]  distractor-Q   long   \n124   Therefore, the interns disturbed the [MASK]      filler-Q  short   \n125   Therefore, the interns disturbed the [MASK]  distractor-Q  short   \n126   Therefore, the interns disturbed the [MASK]      filler-Q   long   \n127   Therefore, the interns disturbed the [MASK]  distractor-Q   long   \n\n    plural_match correct_answer        verb        label  \\\n0       mismatch           true       anger       guides   \n1          match           true       anger       guides   \n2       mismatch           true       anger       guides   \n3          match           true       anger       guides   \n4       mismatch           true  disrespect     gymnasts   \n..           ...            ...         ...          ...   \n123        match           true   influence  journalists   \n124     mismatch           true     disturb  researchers   \n125        match           true     disturb  researchers   \n126     mismatch           true     disturb  researchers   \n127        match           true     disturb  researchers   \n\n                                                prompt first_noun  \\\n0    The tourist hired the guides that the locals a...    tourist   \n1    The tourists hired the guides that the locals ...   tourists   \n2    The tourist hired the guides that two days ago...    tourist   \n3    The tourists hired the guides who two days ago...   tourists   \n4    The coach removed the gymnasts that the fans d...      coach   \n..                                                 ...        ...   \n123  The editors censored the journalists that last...    editors   \n124  The donor bored the researchers that interns d...      donor   \n125  The donors bored the researchers that interns ...     donors   \n126  The donor bored the researchers that last year...      donor   \n127  The donors bored the researchers that last yea...     donors   \n\n     second_noun distractor  \n0         guides    tourist  \n1         guides   tourists  \n2         guides    tourist  \n3         guides   tourists  \n4       gymnasts      coach  \n..           ...        ...  \n123  journalists    editors  \n124  researchers      donor  \n125  researchers     donors  \n126  researchers      donor  \n127  researchers     donors  \n\n[112 rows x 12 columns]",
      "text/html": "<div>\n<style scoped>\n    .dataframe tbody tr th:only-of-type {\n        vertical-align: middle;\n    }\n\n    .dataframe tbody tr th {\n        vertical-align: top;\n    }\n\n    .dataframe thead th {\n        text-align: right;\n    }\n</style>\n<table border=\"1\" class=\"dataframe\">\n  <thead>\n    <tr style=\"text-align: right;\">\n      <th></th>\n      <th>sentence</th>\n      <th>question</th>\n      <th>question_type</th>\n      <th>length</th>\n      <th>plural_match</th>\n      <th>correct_answer</th>\n      <th>verb</th>\n      <th>label</th>\n      <th>prompt</th>\n      <th>first_noun</th>\n      <th>second_noun</th>\n      <th>distractor</th>\n    </tr>\n  </thead>\n  <tbody>\n    <tr>\n      <th>0</th>\n      <td>The tourist hired the guides that the locals a...</td>\n      <td>Therefore, the locals angered the [MASK]</td>\n      <td>filler-Q</td>\n      <td>short</td>\n      <td>mismatch</td>\n      <td>true</td>\n      <td>anger</td>\n      <td>guides</td>\n      <td>The tourist hired the guides that the locals a...</td>\n      <td>tourist</td>\n      <td>guides</td>\n      <td>tourist</td>\n    </tr>\n    <tr>\n      <th>1</th>\n      <td>The tourists hired the guides that the locals ...</td>\n      <td>Therefore, the locals angered the [MASK]</td>\n      <td>distractor-Q</td>\n      <td>short</td>\n      <td>match</td>\n      <td>true</td>\n      <td>anger</td>\n      <td>guides</td>\n      <td>The tourists hired the guides that the locals ...</td>\n      <td>tourists</td>\n      <td>guides</td>\n      <td>tourists</td>\n    </tr>\n    <tr>\n      <th>2</th>\n      <td>The tourist hired the guides that two days ago...</td>\n      <td>Therefore, the locals angered the [MASK]</td>\n      <td>filler-Q</td>\n      <td>long</td>\n      <td>mismatch</td>\n      <td>true</td>\n      <td>anger</td>\n      <td>guides</td>\n      <td>The tourist hired the guides that two days ago...</td>\n      <td>tourist</td>\n      <td>guides</td>\n      <td>tourist</td>\n    </tr>\n    <tr>\n      <th>3</th>\n      <td>The tourists hired the guides who two days ago...</td>\n      <td>Therefore, the locals angered the [MASK]</td>\n      <td>distractor-Q</td>\n      <td>long</td>\n      <td>match</td>\n      <td>true</td>\n      <td>anger</td>\n      <td>guides</td>\n      <td>The tourists hired the guides who two days ago...</td>\n      <td>tourists</td>\n      <td>guides</td>\n      <td>tourists</td>\n    </tr>\n    <tr>\n      <th>4</th>\n      <td>The coach removed the gymnasts that the fans d...</td>\n      <td>Therefore, the fans disrespected the [MASK]</td>\n      <td>filler-Q</td>\n      <td>short</td>\n      <td>mismatch</td>\n      <td>true</td>\n      <td>disrespect</td>\n      <td>gymnasts</td>\n      <td>The coach removed the gymnasts that the fans d...</td>\n      <td>coach</td>\n      <td>gymnasts</td>\n      <td>coach</td>\n    </tr>\n    <tr>\n      <th>...</th>\n      <td>...</td>\n      <td>...</td>\n      <td>...</td>\n      <td>...</td>\n      <td>...</td>\n      <td>...</td>\n      <td>...</td>\n      <td>...</td>\n      <td>...</td>\n      <td>...</td>\n      <td>...</td>\n      <td>...</td>\n    </tr>\n    <tr>\n      <th>123</th>\n      <td>The editors censored the journalists that last...</td>\n      <td>Therefore, the readers influenced the [MASK]</td>\n      <td>distractor-Q</td>\n      <td>long</td>\n      <td>match</td>\n      <td>true</td>\n      <td>influence</td>\n      <td>journalists</td>\n      <td>The editors censored the journalists that last...</td>\n      <td>editors</td>\n      <td>journalists</td>\n      <td>editors</td>\n    </tr>\n    <tr>\n      <th>124</th>\n      <td>The donor bored the researchers that interns d...</td>\n      <td>Therefore, the interns disturbed the [MASK]</td>\n      <td>filler-Q</td>\n      <td>short</td>\n      <td>mismatch</td>\n      <td>true</td>\n      <td>disturb</td>\n      <td>researchers</td>\n      <td>The donor bored the researchers that interns d...</td>\n      <td>donor</td>\n      <td>researchers</td>\n      <td>donor</td>\n    </tr>\n    <tr>\n      <th>125</th>\n      <td>The donors bored the researchers that interns ...</td>\n      <td>Therefore, the interns disturbed the [MASK]</td>\n      <td>distractor-Q</td>\n      <td>short</td>\n      <td>match</td>\n      <td>true</td>\n      <td>disturb</td>\n      <td>researchers</td>\n      <td>The donors bored the researchers that interns ...</td>\n      <td>donors</td>\n      <td>researchers</td>\n      <td>donors</td>\n    </tr>\n    <tr>\n      <th>126</th>\n      <td>The donor bored the researchers that last year...</td>\n      <td>Therefore, the interns disturbed the [MASK]</td>\n      <td>filler-Q</td>\n      <td>long</td>\n      <td>mismatch</td>\n      <td>true</td>\n      <td>disturb</td>\n      <td>researchers</td>\n      <td>The donor bored the researchers that last year...</td>\n      <td>donor</td>\n      <td>researchers</td>\n      <td>donor</td>\n    </tr>\n    <tr>\n      <th>127</th>\n      <td>The donors bored the researchers that last yea...</td>\n      <td>Therefore, the interns disturbed the [MASK]</td>\n      <td>distractor-Q</td>\n      <td>long</td>\n      <td>match</td>\n      <td>true</td>\n      <td>disturb</td>\n      <td>researchers</td>\n      <td>The donors bored the researchers that last yea...</td>\n      <td>donors</td>\n      <td>researchers</td>\n      <td>donors</td>\n    </tr>\n  </tbody>\n</table>\n<p>112 rows × 12 columns</p>\n</div>"
     },
     "execution_count": 61,
     "metadata": {},
     "output_type": "execute_result"
    }
   ],
   "source": [
    "# drop all rows where the label is one of the following: \"ones\", \"women\", \"players\", \"managers\"\n"
   ],
   "metadata": {
    "collapsed": false,
    "ExecuteTime": {
     "end_time": "2023-07-11T07:41:55.998802Z",
     "start_time": "2023-07-11T07:41:55.940833Z"
    }
   }
  },
  {
   "cell_type": "code",
   "execution_count": 62,
   "outputs": [],
   "source": [
    "df_niki"
   ],
   "metadata": {
    "collapsed": false,
    "ExecuteTime": {
     "end_time": "2023-07-11T07:41:55.998945Z",
     "start_time": "2023-07-11T07:41:55.944317Z"
    }
   }
  },
  {
   "cell_type": "code",
   "execution_count": 63,
   "outputs": [],
   "source": [
    "# # fix second noun\n",
    "# df_niki.loc[df_niki.second_noun == \"women\", \"second_noun\"] = \"old women\"\n",
    "# df_niki.loc[df_niki.second_noun == \"women\", \"second_noun\"] = \"old women\"\n",
    "#\n",
    "# # fix question\n",
    "# df_niki[\"question\"] = df_niki[\"question\"].str.replace(\"old \", \"\")"
   ],
   "metadata": {
    "collapsed": false,
    "ExecuteTime": {
     "end_time": "2023-07-11T07:41:55.998994Z",
     "start_time": "2023-07-11T07:41:55.946824Z"
    }
   }
  },
  {
   "cell_type": "code",
   "execution_count": 64,
   "outputs": [],
   "source": [
    "# # fix first noun\n",
    "# df_niki.loc[(df_niki.first_noun == \"defense\") & (df_niki.second_noun == \"attorney\"), \"first_noun\"] = \"defense attorney\"\n",
    "# df_niki.loc[(df_niki.first_noun == \"defense\") & (df_niki.second_noun == \"attorneys\"), \"first_noun\"] = \"defense attorneys\"\n",
    "#\n",
    "# # fix second noun\n",
    "# df_niki.loc[df_niki.second_noun == \"attorney\", \"second_noun\"] = \"accused ones\"\n",
    "# df_niki.loc[df_niki.second_noun == \"attorneys\", \"second_noun\"] = \"accused ones\"\n",
    "#\n",
    "# # fix question\n",
    "# df_niki[\"question\"] = df_niki[\"question\"].str.replace(\"accused \", \"\")\n",
    "#\n",
    "# # fix distractor\n",
    "# df_niki.loc[df_niki.distractor == \"defense\", \"distractor\"] = df_niki.loc[df_niki.distractor == \"defense\", \"first_noun\"]"
   ],
   "metadata": {
    "collapsed": false,
    "ExecuteTime": {
     "end_time": "2023-07-11T07:41:55.999469Z",
     "start_time": "2023-07-11T07:41:55.951860Z"
    }
   }
  },
  {
   "cell_type": "code",
   "execution_count": 65,
   "outputs": [],
   "source": [
    "df_niki.drop([\"question_type\", \"correct_answer\", \"verb\"], axis=1, inplace=True)\n",
    "df_niki.drop([\"sentence\", \"question\"], axis=1, inplace=True)"
   ],
   "metadata": {
    "collapsed": false,
    "ExecuteTime": {
     "end_time": "2023-07-11T07:41:55.999571Z",
     "start_time": "2023-07-11T07:41:55.963629Z"
    }
   }
  },
  {
   "cell_type": "code",
   "execution_count": 66,
   "outputs": [
    {
     "data": {
      "text/plain": "                                                prompt        label  \\\n0    The tourist hired the guides that the locals a...       guides   \n1    The tourists hired the guides that the locals ...       guides   \n2    The tourist hired the guides that two days ago...       guides   \n3    The tourists hired the guides who two days ago...       guides   \n4    The coach removed the gymnasts that the fans d...     gymnasts   \n..                                                 ...          ...   \n123  The editors censored the journalists that last...  journalists   \n124  The donor bored the researchers that interns d...  researchers   \n125  The donors bored the researchers that interns ...  researchers   \n126  The donor bored the researchers that last year...  researchers   \n127  The donors bored the researchers that last yea...  researchers   \n\n    distractor length plural_match  \n0      tourist  short     mismatch  \n1     tourists  short        match  \n2      tourist   long     mismatch  \n3     tourists   long        match  \n4        coach  short     mismatch  \n..         ...    ...          ...  \n123    editors   long        match  \n124      donor  short     mismatch  \n125     donors  short        match  \n126      donor   long     mismatch  \n127     donors   long        match  \n\n[112 rows x 5 columns]",
      "text/html": "<div>\n<style scoped>\n    .dataframe tbody tr th:only-of-type {\n        vertical-align: middle;\n    }\n\n    .dataframe tbody tr th {\n        vertical-align: top;\n    }\n\n    .dataframe thead th {\n        text-align: right;\n    }\n</style>\n<table border=\"1\" class=\"dataframe\">\n  <thead>\n    <tr style=\"text-align: right;\">\n      <th></th>\n      <th>prompt</th>\n      <th>label</th>\n      <th>distractor</th>\n      <th>length</th>\n      <th>plural_match</th>\n    </tr>\n  </thead>\n  <tbody>\n    <tr>\n      <th>0</th>\n      <td>The tourist hired the guides that the locals a...</td>\n      <td>guides</td>\n      <td>tourist</td>\n      <td>short</td>\n      <td>mismatch</td>\n    </tr>\n    <tr>\n      <th>1</th>\n      <td>The tourists hired the guides that the locals ...</td>\n      <td>guides</td>\n      <td>tourists</td>\n      <td>short</td>\n      <td>match</td>\n    </tr>\n    <tr>\n      <th>2</th>\n      <td>The tourist hired the guides that two days ago...</td>\n      <td>guides</td>\n      <td>tourist</td>\n      <td>long</td>\n      <td>mismatch</td>\n    </tr>\n    <tr>\n      <th>3</th>\n      <td>The tourists hired the guides who two days ago...</td>\n      <td>guides</td>\n      <td>tourists</td>\n      <td>long</td>\n      <td>match</td>\n    </tr>\n    <tr>\n      <th>4</th>\n      <td>The coach removed the gymnasts that the fans d...</td>\n      <td>gymnasts</td>\n      <td>coach</td>\n      <td>short</td>\n      <td>mismatch</td>\n    </tr>\n    <tr>\n      <th>...</th>\n      <td>...</td>\n      <td>...</td>\n      <td>...</td>\n      <td>...</td>\n      <td>...</td>\n    </tr>\n    <tr>\n      <th>123</th>\n      <td>The editors censored the journalists that last...</td>\n      <td>journalists</td>\n      <td>editors</td>\n      <td>long</td>\n      <td>match</td>\n    </tr>\n    <tr>\n      <th>124</th>\n      <td>The donor bored the researchers that interns d...</td>\n      <td>researchers</td>\n      <td>donor</td>\n      <td>short</td>\n      <td>mismatch</td>\n    </tr>\n    <tr>\n      <th>125</th>\n      <td>The donors bored the researchers that interns ...</td>\n      <td>researchers</td>\n      <td>donors</td>\n      <td>short</td>\n      <td>match</td>\n    </tr>\n    <tr>\n      <th>126</th>\n      <td>The donor bored the researchers that last year...</td>\n      <td>researchers</td>\n      <td>donor</td>\n      <td>long</td>\n      <td>mismatch</td>\n    </tr>\n    <tr>\n      <th>127</th>\n      <td>The donors bored the researchers that last yea...</td>\n      <td>researchers</td>\n      <td>donors</td>\n      <td>long</td>\n      <td>match</td>\n    </tr>\n  </tbody>\n</table>\n<p>112 rows × 5 columns</p>\n</div>"
     },
     "execution_count": 66,
     "metadata": {},
     "output_type": "execute_result"
    }
   ],
   "source": [
    "# change the order of the columns\n",
    "df_niki = df_niki[[\"prompt\", \"label\", \"distractor\", \"length\", \"plural_match\"]]"
   ],
   "metadata": {
    "collapsed": false,
    "ExecuteTime": {
     "end_time": "2023-07-11T07:41:59.809962Z",
     "start_time": "2023-07-11T07:41:59.781286Z"
    }
   }
  },
  {
   "cell_type": "code",
   "execution_count": 211,
   "outputs": [
    {
     "data": {
      "text/plain": "                                                prompt        label  \\\n0    The tourist hired the guides that the locals a...       guides   \n1    The tourists hired the guides that the locals ...       guides   \n2    The tourist hired the guides that two days ago...       guides   \n3    The tourists hired the guides who two days ago...       guides   \n4    The coach removed the gymnasts that the fans d...     gymnasts   \n..                                                 ...          ...   \n123  The editors censored the journalists that last...  journalists   \n124  The donor bored the researchers that interns d...  researchers   \n125  The donors bored the researchers that interns ...  researchers   \n126  The donor bored the researchers that last year...  researchers   \n127  The donors bored the researchers that last yea...  researchers   \n\n    distractor length plural_match  \n0      tourist  short     mismatch  \n1     tourists  short        match  \n2      tourist   long     mismatch  \n3     tourists   long        match  \n4        coach  short     mismatch  \n..         ...    ...          ...  \n123    editors   long        match  \n124      donor  short     mismatch  \n125     donors  short        match  \n126      donor   long     mismatch  \n127     donors   long        match  \n\n[112 rows x 5 columns]",
      "text/html": "<div>\n<style scoped>\n    .dataframe tbody tr th:only-of-type {\n        vertical-align: middle;\n    }\n\n    .dataframe tbody tr th {\n        vertical-align: top;\n    }\n\n    .dataframe thead th {\n        text-align: right;\n    }\n</style>\n<table border=\"1\" class=\"dataframe\">\n  <thead>\n    <tr style=\"text-align: right;\">\n      <th></th>\n      <th>prompt</th>\n      <th>label</th>\n      <th>distractor</th>\n      <th>length</th>\n      <th>plural_match</th>\n    </tr>\n  </thead>\n  <tbody>\n    <tr>\n      <th>0</th>\n      <td>The tourist hired the guides that the locals a...</td>\n      <td>guides</td>\n      <td>tourist</td>\n      <td>short</td>\n      <td>mismatch</td>\n    </tr>\n    <tr>\n      <th>1</th>\n      <td>The tourists hired the guides that the locals ...</td>\n      <td>guides</td>\n      <td>tourists</td>\n      <td>short</td>\n      <td>match</td>\n    </tr>\n    <tr>\n      <th>2</th>\n      <td>The tourist hired the guides that two days ago...</td>\n      <td>guides</td>\n      <td>tourist</td>\n      <td>long</td>\n      <td>mismatch</td>\n    </tr>\n    <tr>\n      <th>3</th>\n      <td>The tourists hired the guides who two days ago...</td>\n      <td>guides</td>\n      <td>tourists</td>\n      <td>long</td>\n      <td>match</td>\n    </tr>\n    <tr>\n      <th>4</th>\n      <td>The coach removed the gymnasts that the fans d...</td>\n      <td>gymnasts</td>\n      <td>coach</td>\n      <td>short</td>\n      <td>mismatch</td>\n    </tr>\n    <tr>\n      <th>...</th>\n      <td>...</td>\n      <td>...</td>\n      <td>...</td>\n      <td>...</td>\n      <td>...</td>\n    </tr>\n    <tr>\n      <th>123</th>\n      <td>The editors censored the journalists that last...</td>\n      <td>journalists</td>\n      <td>editors</td>\n      <td>long</td>\n      <td>match</td>\n    </tr>\n    <tr>\n      <th>124</th>\n      <td>The donor bored the researchers that interns d...</td>\n      <td>researchers</td>\n      <td>donor</td>\n      <td>short</td>\n      <td>mismatch</td>\n    </tr>\n    <tr>\n      <th>125</th>\n      <td>The donors bored the researchers that interns ...</td>\n      <td>researchers</td>\n      <td>donors</td>\n      <td>short</td>\n      <td>match</td>\n    </tr>\n    <tr>\n      <th>126</th>\n      <td>The donor bored the researchers that last year...</td>\n      <td>researchers</td>\n      <td>donor</td>\n      <td>long</td>\n      <td>mismatch</td>\n    </tr>\n    <tr>\n      <th>127</th>\n      <td>The donors bored the researchers that last yea...</td>\n      <td>researchers</td>\n      <td>donors</td>\n      <td>long</td>\n      <td>match</td>\n    </tr>\n  </tbody>\n</table>\n<p>112 rows × 5 columns</p>\n</div>"
     },
     "execution_count": 211,
     "metadata": {},
     "output_type": "execute_result"
    }
   ],
   "source": [
    "df_niki"
   ],
   "metadata": {
    "collapsed": false,
    "ExecuteTime": {
     "end_time": "2023-06-14T20:03:44.727783Z",
     "start_time": "2023-06-14T20:03:44.707127Z"
    }
   }
  },
  {
   "cell_type": "code",
   "execution_count": 212,
   "outputs": [],
   "source": [
    "df_niki.to_csv(\"data_processed/niki.csv\", index=False)"
   ],
   "metadata": {
    "collapsed": false,
    "ExecuteTime": {
     "end_time": "2023-06-14T20:03:47.608314Z",
     "start_time": "2023-06-14T20:03:47.589578Z"
    }
   }
  },
  {
   "cell_type": "markdown",
   "source": [
    "# Gordon"
   ],
   "metadata": {
    "collapsed": false
   }
  },
  {
   "cell_type": "code",
   "execution_count": 213,
   "outputs": [],
   "source": [
    "# object extracted -> the subject is the correct answer, otherwise remove the row\n",
    "# subject extracted -> if condition question == \"matrix verb\" -> the subject is the correct answer, otherwise the distractor is the correct answer\n",
    "# subject extracted -> if condition question == \"embedded verb\" -> the distractor is the correct answer, otherwise the subject is the correct answer"
   ],
   "metadata": {
    "collapsed": false,
    "ExecuteTime": {
     "end_time": "2023-06-14T20:03:49.172431Z",
     "start_time": "2023-06-14T20:03:49.168296Z"
    }
   }
  },
  {
   "cell_type": "code",
   "execution_count": 214,
   "outputs": [
    {
     "data": {
      "text/plain": "                                             sentence condition_sentence  \\\n0   The banker that the barber praised climbed the...  subject_extracted   \n1   The banker that the barber praised climbed the...  subject_extracted   \n2   The banker that you praised climbed the mounta...  subject_extracted   \n3   The banker that you praised climbed the mounta...  subject_extracted   \n4   The banker that Sue praised climbed the mounta...  subject_extracted   \n5   The banker that Sue praised climbed the mounta...  subject_extracted   \n6   The banker that the barber praised climbed the...  subject_extracted   \n7   The banker that the barber praised climbed the...  subject_extracted   \n8   The banker that you praised climbed the mounta...  subject_extracted   \n9   The banker that you praised climbed the mounta...  subject_extracted   \n10  The banker that Sue praised climbed the mounta...  subject_extracted   \n11  The banker that Sue praised climbed the mounta...  subject_extracted   \n12  The banker that praised the barber climbed the...   object_extracted   \n13  The banker that praised the barber climbed the...   object_extracted   \n14  The banker that praised you climbed the mounta...   object_extracted   \n15  The banker that praised you climbed the mounta...   object_extracted   \n16  The banker that praised Sue climbed the mounta...   object_extracted   \n17  The banker that praised Sue climbed the mounta...   object_extracted   \n18  The banker that praised the barber climbed the...   object_extracted   \n19  The banker that praised the barber climbed the...   object_extracted   \n\n    condition_distractor condition_question distractor_value subject_value  \\\n0   definite_description        matrix_verb       The barber    The banker   \n1   definite_description        matrix_verb       The barber    The banker   \n2      indexical_pronoun        matrix_verb              You    The banker   \n3      indexical_pronoun        matrix_verb              You    The banker   \n4                   name        matrix_verb              Sue    The banker   \n5                   name        matrix_verb              Sue    The banker   \n6   definite_description      embedded_verb       The barber    The banker   \n7   definite_description      embedded_verb       The barber    The banker   \n8      indexical_pronoun      embedded_verb              You    The banker   \n9      indexical_pronoun      embedded_verb              You    The banker   \n10                  name      embedded_verb              Sue    The banker   \n11                  name      embedded_verb              Sue    The banker   \n12  definite_description        matrix_verb       The barber    The banker   \n13  definite_description        matrix_verb       The barber    The banker   \n14     indexical_pronoun        matrix_verb              You    The banker   \n15     indexical_pronoun        matrix_verb              You    The banker   \n16                  name        matrix_verb              Sue    The banker   \n17                  name        matrix_verb              Sue    The banker   \n18  definite_description      embedded_verb       The barber    The banker   \n19  definite_description      embedded_verb       The barber    The banker   \n\n   question_center                          question  \n0          subject  The banker climbed the mountain.  \n1       distractor  The barber climbed the mountain.  \n2          subject  The banker climbed the mountain.  \n3       distractor         You climbed the mountain.  \n4          subject  The banker climbed the mountain.  \n5       distractor         Sue climbed the mountain.  \n6          subject    The banker praised the barber.  \n7       distractor    The barber praised the banker.  \n8          subject           The banker praised you.  \n9       distractor           You praised the banker.  \n10         subject           The banker praised Sue.  \n11      distractor           Sue praised the banker.  \n12         subject  The banker climbed the mountain.  \n13      distractor  The barber climbed the mountain.  \n14         subject  The banker climbed the mountain.  \n15      distractor         You climbed the mountain.  \n16         subject  The banker climbed the mountain.  \n17      distractor         Sue climbed the mountain.  \n18         subject    The banker praised the barber.  \n19      distractor    The barber praised the banker.  ",
      "text/html": "<div>\n<style scoped>\n    .dataframe tbody tr th:only-of-type {\n        vertical-align: middle;\n    }\n\n    .dataframe tbody tr th {\n        vertical-align: top;\n    }\n\n    .dataframe thead th {\n        text-align: right;\n    }\n</style>\n<table border=\"1\" class=\"dataframe\">\n  <thead>\n    <tr style=\"text-align: right;\">\n      <th></th>\n      <th>sentence</th>\n      <th>condition_sentence</th>\n      <th>condition_distractor</th>\n      <th>condition_question</th>\n      <th>distractor_value</th>\n      <th>subject_value</th>\n      <th>question_center</th>\n      <th>question</th>\n    </tr>\n  </thead>\n  <tbody>\n    <tr>\n      <th>0</th>\n      <td>The banker that the barber praised climbed the...</td>\n      <td>subject_extracted</td>\n      <td>definite_description</td>\n      <td>matrix_verb</td>\n      <td>The barber</td>\n      <td>The banker</td>\n      <td>subject</td>\n      <td>The banker climbed the mountain.</td>\n    </tr>\n    <tr>\n      <th>1</th>\n      <td>The banker that the barber praised climbed the...</td>\n      <td>subject_extracted</td>\n      <td>definite_description</td>\n      <td>matrix_verb</td>\n      <td>The barber</td>\n      <td>The banker</td>\n      <td>distractor</td>\n      <td>The barber climbed the mountain.</td>\n    </tr>\n    <tr>\n      <th>2</th>\n      <td>The banker that you praised climbed the mounta...</td>\n      <td>subject_extracted</td>\n      <td>indexical_pronoun</td>\n      <td>matrix_verb</td>\n      <td>You</td>\n      <td>The banker</td>\n      <td>subject</td>\n      <td>The banker climbed the mountain.</td>\n    </tr>\n    <tr>\n      <th>3</th>\n      <td>The banker that you praised climbed the mounta...</td>\n      <td>subject_extracted</td>\n      <td>indexical_pronoun</td>\n      <td>matrix_verb</td>\n      <td>You</td>\n      <td>The banker</td>\n      <td>distractor</td>\n      <td>You climbed the mountain.</td>\n    </tr>\n    <tr>\n      <th>4</th>\n      <td>The banker that Sue praised climbed the mounta...</td>\n      <td>subject_extracted</td>\n      <td>name</td>\n      <td>matrix_verb</td>\n      <td>Sue</td>\n      <td>The banker</td>\n      <td>subject</td>\n      <td>The banker climbed the mountain.</td>\n    </tr>\n    <tr>\n      <th>5</th>\n      <td>The banker that Sue praised climbed the mounta...</td>\n      <td>subject_extracted</td>\n      <td>name</td>\n      <td>matrix_verb</td>\n      <td>Sue</td>\n      <td>The banker</td>\n      <td>distractor</td>\n      <td>Sue climbed the mountain.</td>\n    </tr>\n    <tr>\n      <th>6</th>\n      <td>The banker that the barber praised climbed the...</td>\n      <td>subject_extracted</td>\n      <td>definite_description</td>\n      <td>embedded_verb</td>\n      <td>The barber</td>\n      <td>The banker</td>\n      <td>subject</td>\n      <td>The banker praised the barber.</td>\n    </tr>\n    <tr>\n      <th>7</th>\n      <td>The banker that the barber praised climbed the...</td>\n      <td>subject_extracted</td>\n      <td>definite_description</td>\n      <td>embedded_verb</td>\n      <td>The barber</td>\n      <td>The banker</td>\n      <td>distractor</td>\n      <td>The barber praised the banker.</td>\n    </tr>\n    <tr>\n      <th>8</th>\n      <td>The banker that you praised climbed the mounta...</td>\n      <td>subject_extracted</td>\n      <td>indexical_pronoun</td>\n      <td>embedded_verb</td>\n      <td>You</td>\n      <td>The banker</td>\n      <td>subject</td>\n      <td>The banker praised you.</td>\n    </tr>\n    <tr>\n      <th>9</th>\n      <td>The banker that you praised climbed the mounta...</td>\n      <td>subject_extracted</td>\n      <td>indexical_pronoun</td>\n      <td>embedded_verb</td>\n      <td>You</td>\n      <td>The banker</td>\n      <td>distractor</td>\n      <td>You praised the banker.</td>\n    </tr>\n    <tr>\n      <th>10</th>\n      <td>The banker that Sue praised climbed the mounta...</td>\n      <td>subject_extracted</td>\n      <td>name</td>\n      <td>embedded_verb</td>\n      <td>Sue</td>\n      <td>The banker</td>\n      <td>subject</td>\n      <td>The banker praised Sue.</td>\n    </tr>\n    <tr>\n      <th>11</th>\n      <td>The banker that Sue praised climbed the mounta...</td>\n      <td>subject_extracted</td>\n      <td>name</td>\n      <td>embedded_verb</td>\n      <td>Sue</td>\n      <td>The banker</td>\n      <td>distractor</td>\n      <td>Sue praised the banker.</td>\n    </tr>\n    <tr>\n      <th>12</th>\n      <td>The banker that praised the barber climbed the...</td>\n      <td>object_extracted</td>\n      <td>definite_description</td>\n      <td>matrix_verb</td>\n      <td>The barber</td>\n      <td>The banker</td>\n      <td>subject</td>\n      <td>The banker climbed the mountain.</td>\n    </tr>\n    <tr>\n      <th>13</th>\n      <td>The banker that praised the barber climbed the...</td>\n      <td>object_extracted</td>\n      <td>definite_description</td>\n      <td>matrix_verb</td>\n      <td>The barber</td>\n      <td>The banker</td>\n      <td>distractor</td>\n      <td>The barber climbed the mountain.</td>\n    </tr>\n    <tr>\n      <th>14</th>\n      <td>The banker that praised you climbed the mounta...</td>\n      <td>object_extracted</td>\n      <td>indexical_pronoun</td>\n      <td>matrix_verb</td>\n      <td>You</td>\n      <td>The banker</td>\n      <td>subject</td>\n      <td>The banker climbed the mountain.</td>\n    </tr>\n    <tr>\n      <th>15</th>\n      <td>The banker that praised you climbed the mounta...</td>\n      <td>object_extracted</td>\n      <td>indexical_pronoun</td>\n      <td>matrix_verb</td>\n      <td>You</td>\n      <td>The banker</td>\n      <td>distractor</td>\n      <td>You climbed the mountain.</td>\n    </tr>\n    <tr>\n      <th>16</th>\n      <td>The banker that praised Sue climbed the mounta...</td>\n      <td>object_extracted</td>\n      <td>name</td>\n      <td>matrix_verb</td>\n      <td>Sue</td>\n      <td>The banker</td>\n      <td>subject</td>\n      <td>The banker climbed the mountain.</td>\n    </tr>\n    <tr>\n      <th>17</th>\n      <td>The banker that praised Sue climbed the mounta...</td>\n      <td>object_extracted</td>\n      <td>name</td>\n      <td>matrix_verb</td>\n      <td>Sue</td>\n      <td>The banker</td>\n      <td>distractor</td>\n      <td>Sue climbed the mountain.</td>\n    </tr>\n    <tr>\n      <th>18</th>\n      <td>The banker that praised the barber climbed the...</td>\n      <td>object_extracted</td>\n      <td>definite_description</td>\n      <td>embedded_verb</td>\n      <td>The barber</td>\n      <td>The banker</td>\n      <td>subject</td>\n      <td>The banker praised the barber.</td>\n    </tr>\n    <tr>\n      <th>19</th>\n      <td>The banker that praised the barber climbed the...</td>\n      <td>object_extracted</td>\n      <td>definite_description</td>\n      <td>embedded_verb</td>\n      <td>The barber</td>\n      <td>The banker</td>\n      <td>distractor</td>\n      <td>The barber praised the banker.</td>\n    </tr>\n  </tbody>\n</table>\n</div>"
     },
     "execution_count": 214,
     "metadata": {},
     "output_type": "execute_result"
    }
   ],
   "source": [
    "df_gordon = pd.read_json(path_or_buf=\"data/experiment_gordon.jsonl\", lines=True)\n",
    "df_gordon.head(20)"
   ],
   "metadata": {
    "collapsed": false,
    "ExecuteTime": {
     "end_time": "2023-06-14T20:03:49.683041Z",
     "start_time": "2023-06-14T20:03:49.658849Z"
    }
   }
  },
  {
   "cell_type": "code",
   "execution_count": 215,
   "outputs": [
    {
     "data": {
      "text/plain": "The banker       24\nThe dancer       24\nThe clerk        24\nThe clown        24\nThe salesman     24\nThe plumber      24\nThe lawyer       24\nThe coach        24\nThe admiral      24\nThe tailor       24\nThe editor       24\nThe teacher      24\nThe violinist    24\nThe aunt         24\nThe chef         24\nThe poet         24\nThe actor        24\nThe governor     24\nThe robber       24\nThe judge        24\nThe detective    24\nThe waiter       24\nThe architect    24\nThe gardener     24\nName: subject_value, dtype: int64"
     },
     "execution_count": 215,
     "metadata": {},
     "output_type": "execute_result"
    }
   ],
   "source": [
    "df_gordon.subject_value.value_counts()"
   ],
   "metadata": {
    "collapsed": false,
    "ExecuteTime": {
     "end_time": "2023-06-14T20:03:52.124952Z",
     "start_time": "2023-06-14T20:03:52.110019Z"
    }
   }
  },
  {
   "cell_type": "code",
   "execution_count": 9,
   "outputs": [
    {
     "data": {
      "text/plain": "                                              sentence condition_sentence  \\\n12   The banker that praised the barber climbed the...   object_extracted   \n13   The banker that praised the barber climbed the...   object_extracted   \n14   The banker that praised you climbed the mounta...   object_extracted   \n15   The banker that praised you climbed the mounta...   object_extracted   \n16   The banker that praised Sue climbed the mounta...   object_extracted   \n..                                                 ...                ...   \n571  The gardener that envied the homeowner was ver...   object_extracted   \n572    The gardener that envied you was very friendly.   object_extracted   \n573    The gardener that envied you was very friendly.   object_extracted   \n574    The gardener that envied Liz was very friendly.   object_extracted   \n575    The gardener that envied Liz was very friendly.   object_extracted   \n\n     condition_distractor condition_question distractor_value subject_value  \\\n12   definite_description        matrix_verb       The barber    The banker   \n13   definite_description        matrix_verb       The barber    The banker   \n14      indexical_pronoun        matrix_verb              You    The banker   \n15      indexical_pronoun        matrix_verb              You    The banker   \n16                   name        matrix_verb              Sue    The banker   \n..                    ...                ...              ...           ...   \n571  definite_description      embedded_verb    The homeowner  The gardener   \n572     indexical_pronoun      embedded_verb              You  The gardener   \n573     indexical_pronoun      embedded_verb              You  The gardener   \n574                  name      embedded_verb              Liz  The gardener   \n575                  name      embedded_verb              Liz  The gardener   \n\n    question_center                            question  \n12          subject    The banker climbed the mountain.  \n13       distractor    The barber climbed the mountain.  \n14          subject    The banker climbed the mountain.  \n15       distractor           You climbed the mountain.  \n16          subject    The banker climbed the mountain.  \n..              ...                                 ...  \n571      distractor  The homeowner envied the gardener.  \n572         subject            The gardener envied you.  \n573      distractor            You envied the gardener.  \n574         subject            The gardener envied Liz.  \n575      distractor            Liz envied the gardener.  \n\n[288 rows x 8 columns]",
      "text/html": "<div>\n<style scoped>\n    .dataframe tbody tr th:only-of-type {\n        vertical-align: middle;\n    }\n\n    .dataframe tbody tr th {\n        vertical-align: top;\n    }\n\n    .dataframe thead th {\n        text-align: right;\n    }\n</style>\n<table border=\"1\" class=\"dataframe\">\n  <thead>\n    <tr style=\"text-align: right;\">\n      <th></th>\n      <th>sentence</th>\n      <th>condition_sentence</th>\n      <th>condition_distractor</th>\n      <th>condition_question</th>\n      <th>distractor_value</th>\n      <th>subject_value</th>\n      <th>question_center</th>\n      <th>question</th>\n    </tr>\n  </thead>\n  <tbody>\n    <tr>\n      <th>12</th>\n      <td>The banker that praised the barber climbed the...</td>\n      <td>object_extracted</td>\n      <td>definite_description</td>\n      <td>matrix_verb</td>\n      <td>The barber</td>\n      <td>The banker</td>\n      <td>subject</td>\n      <td>The banker climbed the mountain.</td>\n    </tr>\n    <tr>\n      <th>13</th>\n      <td>The banker that praised the barber climbed the...</td>\n      <td>object_extracted</td>\n      <td>definite_description</td>\n      <td>matrix_verb</td>\n      <td>The barber</td>\n      <td>The banker</td>\n      <td>distractor</td>\n      <td>The barber climbed the mountain.</td>\n    </tr>\n    <tr>\n      <th>14</th>\n      <td>The banker that praised you climbed the mounta...</td>\n      <td>object_extracted</td>\n      <td>indexical_pronoun</td>\n      <td>matrix_verb</td>\n      <td>You</td>\n      <td>The banker</td>\n      <td>subject</td>\n      <td>The banker climbed the mountain.</td>\n    </tr>\n    <tr>\n      <th>15</th>\n      <td>The banker that praised you climbed the mounta...</td>\n      <td>object_extracted</td>\n      <td>indexical_pronoun</td>\n      <td>matrix_verb</td>\n      <td>You</td>\n      <td>The banker</td>\n      <td>distractor</td>\n      <td>You climbed the mountain.</td>\n    </tr>\n    <tr>\n      <th>16</th>\n      <td>The banker that praised Sue climbed the mounta...</td>\n      <td>object_extracted</td>\n      <td>name</td>\n      <td>matrix_verb</td>\n      <td>Sue</td>\n      <td>The banker</td>\n      <td>subject</td>\n      <td>The banker climbed the mountain.</td>\n    </tr>\n    <tr>\n      <th>...</th>\n      <td>...</td>\n      <td>...</td>\n      <td>...</td>\n      <td>...</td>\n      <td>...</td>\n      <td>...</td>\n      <td>...</td>\n      <td>...</td>\n    </tr>\n    <tr>\n      <th>571</th>\n      <td>The gardener that envied the homeowner was ver...</td>\n      <td>object_extracted</td>\n      <td>definite_description</td>\n      <td>embedded_verb</td>\n      <td>The homeowner</td>\n      <td>The gardener</td>\n      <td>distractor</td>\n      <td>The homeowner envied the gardener.</td>\n    </tr>\n    <tr>\n      <th>572</th>\n      <td>The gardener that envied you was very friendly.</td>\n      <td>object_extracted</td>\n      <td>indexical_pronoun</td>\n      <td>embedded_verb</td>\n      <td>You</td>\n      <td>The gardener</td>\n      <td>subject</td>\n      <td>The gardener envied you.</td>\n    </tr>\n    <tr>\n      <th>573</th>\n      <td>The gardener that envied you was very friendly.</td>\n      <td>object_extracted</td>\n      <td>indexical_pronoun</td>\n      <td>embedded_verb</td>\n      <td>You</td>\n      <td>The gardener</td>\n      <td>distractor</td>\n      <td>You envied the gardener.</td>\n    </tr>\n    <tr>\n      <th>574</th>\n      <td>The gardener that envied Liz was very friendly.</td>\n      <td>object_extracted</td>\n      <td>name</td>\n      <td>embedded_verb</td>\n      <td>Liz</td>\n      <td>The gardener</td>\n      <td>subject</td>\n      <td>The gardener envied Liz.</td>\n    </tr>\n    <tr>\n      <th>575</th>\n      <td>The gardener that envied Liz was very friendly.</td>\n      <td>object_extracted</td>\n      <td>name</td>\n      <td>embedded_verb</td>\n      <td>Liz</td>\n      <td>The gardener</td>\n      <td>distractor</td>\n      <td>Liz envied the gardener.</td>\n    </tr>\n  </tbody>\n</table>\n<p>288 rows × 8 columns</p>\n</div>"
     },
     "execution_count": 9,
     "metadata": {},
     "output_type": "execute_result"
    }
   ],
   "source": [
    "df_gordon.query(\"condition_sentence == 'object_extracted'\")"
   ],
   "metadata": {
    "collapsed": false,
    "ExecuteTime": {
     "end_time": "2023-06-11T18:50:21.132007Z",
     "start_time": "2023-06-11T18:50:21.114360Z"
    }
   }
  },
  {
   "cell_type": "code",
   "execution_count": 10,
   "outputs": [
    {
     "data": {
      "text/plain": "matrix_verb      288\nembedded_verb    288\nName: condition_question, dtype: int64"
     },
     "execution_count": 10,
     "metadata": {},
     "output_type": "execute_result"
    }
   ],
   "source": [
    "df_gordon.condition_question.value_counts()"
   ],
   "metadata": {
    "collapsed": false,
    "ExecuteTime": {
     "end_time": "2023-06-11T18:50:21.622915Z",
     "start_time": "2023-06-11T18:50:21.617171Z"
    }
   }
  },
  {
   "cell_type": "code",
   "execution_count": 11,
   "outputs": [
    {
     "data": {
      "text/plain": "                                              sentence  \\\n0    The actress who was in the French director's s...   \n1    The camera that was in the French director's s...   \n2    This is the actress who this week in the Frenc...   \n3    This is the camera that this week in the Frenc...   \n4    The student who was yesterday in the class of ...   \n..                                                 ...   \n155  This is the alarm that in the morning in the s...   \n156  The witness who was this week in the hardened ...   \n157  The evidence that was this week in the hardene...   \n158  This is the witness who this week in the harde...   \n159  This is the evidence that this week in the har...   \n\n                                     question dependency    animacy gender  \\\n0                   The actress hit the vase.        S-V    animate   נקבה   \n1                    The camera hit the vase.        S-V  inanimate   נקבה   \n2                   The actress hit the vase.        F-G    animate   נקבה   \n3                    The camera hit the vase.        F-G  inanimate   נקבה   \n4                The student bored the class.        S-V    animate   נקבה   \n..                                        ...        ...        ...    ...   \n155  The officer woke up the combat soldiers.        F-G  inanimate   נקבה   \n156     The criminal indicted the accomplice.        S-V    animate   נקבה   \n157     The criminal indicted the accomplice.        S-V  inanimate   נקבה   \n158     The criminal indicted the accomplice.        F-G    animate   נקבה   \n159     The criminal indicted the accomplice.        F-G  inanimate   נקבה   \n\n    distractor correct_answer  \n0        Match           true  \n1     Mismatch           true  \n2        Match           true  \n3     Mismatch           true  \n4        Match           true  \n..         ...            ...  \n155   Mismatch          false  \n156      Match          false  \n157   Mismatch          false  \n158      Match          false  \n159   Mismatch          false  \n\n[160 rows x 7 columns]",
      "text/html": "<div>\n<style scoped>\n    .dataframe tbody tr th:only-of-type {\n        vertical-align: middle;\n    }\n\n    .dataframe tbody tr th {\n        vertical-align: top;\n    }\n\n    .dataframe thead th {\n        text-align: right;\n    }\n</style>\n<table border=\"1\" class=\"dataframe\">\n  <thead>\n    <tr style=\"text-align: right;\">\n      <th></th>\n      <th>sentence</th>\n      <th>question</th>\n      <th>dependency</th>\n      <th>animacy</th>\n      <th>gender</th>\n      <th>distractor</th>\n      <th>correct_answer</th>\n    </tr>\n  </thead>\n  <tbody>\n    <tr>\n      <th>0</th>\n      <td>The actress who was in the French director's s...</td>\n      <td>The actress hit the vase.</td>\n      <td>S-V</td>\n      <td>animate</td>\n      <td>נקבה</td>\n      <td>Match</td>\n      <td>true</td>\n    </tr>\n    <tr>\n      <th>1</th>\n      <td>The camera that was in the French director's s...</td>\n      <td>The camera hit the vase.</td>\n      <td>S-V</td>\n      <td>inanimate</td>\n      <td>נקבה</td>\n      <td>Mismatch</td>\n      <td>true</td>\n    </tr>\n    <tr>\n      <th>2</th>\n      <td>This is the actress who this week in the Frenc...</td>\n      <td>The actress hit the vase.</td>\n      <td>F-G</td>\n      <td>animate</td>\n      <td>נקבה</td>\n      <td>Match</td>\n      <td>true</td>\n    </tr>\n    <tr>\n      <th>3</th>\n      <td>This is the camera that this week in the Frenc...</td>\n      <td>The camera hit the vase.</td>\n      <td>F-G</td>\n      <td>inanimate</td>\n      <td>נקבה</td>\n      <td>Mismatch</td>\n      <td>true</td>\n    </tr>\n    <tr>\n      <th>4</th>\n      <td>The student who was yesterday in the class of ...</td>\n      <td>The student bored the class.</td>\n      <td>S-V</td>\n      <td>animate</td>\n      <td>נקבה</td>\n      <td>Match</td>\n      <td>true</td>\n    </tr>\n    <tr>\n      <th>...</th>\n      <td>...</td>\n      <td>...</td>\n      <td>...</td>\n      <td>...</td>\n      <td>...</td>\n      <td>...</td>\n      <td>...</td>\n    </tr>\n    <tr>\n      <th>155</th>\n      <td>This is the alarm that in the morning in the s...</td>\n      <td>The officer woke up the combat soldiers.</td>\n      <td>F-G</td>\n      <td>inanimate</td>\n      <td>נקבה</td>\n      <td>Mismatch</td>\n      <td>false</td>\n    </tr>\n    <tr>\n      <th>156</th>\n      <td>The witness who was this week in the hardened ...</td>\n      <td>The criminal indicted the accomplice.</td>\n      <td>S-V</td>\n      <td>animate</td>\n      <td>נקבה</td>\n      <td>Match</td>\n      <td>false</td>\n    </tr>\n    <tr>\n      <th>157</th>\n      <td>The evidence that was this week in the hardene...</td>\n      <td>The criminal indicted the accomplice.</td>\n      <td>S-V</td>\n      <td>inanimate</td>\n      <td>נקבה</td>\n      <td>Mismatch</td>\n      <td>false</td>\n    </tr>\n    <tr>\n      <th>158</th>\n      <td>This is the witness who this week in the harde...</td>\n      <td>The criminal indicted the accomplice.</td>\n      <td>F-G</td>\n      <td>animate</td>\n      <td>נקבה</td>\n      <td>Match</td>\n      <td>false</td>\n    </tr>\n    <tr>\n      <th>159</th>\n      <td>This is the evidence that this week in the har...</td>\n      <td>The criminal indicted the accomplice.</td>\n      <td>F-G</td>\n      <td>inanimate</td>\n      <td>נקבה</td>\n      <td>Mismatch</td>\n      <td>false</td>\n    </tr>\n  </tbody>\n</table>\n<p>160 rows × 7 columns</p>\n</div>"
     },
     "execution_count": 11,
     "metadata": {},
     "output_type": "execute_result"
    }
   ],
   "source": [
    "df_naama = pd.read_json(path_or_buf=\"data/experiment_naama.jsonl\", lines=True)\n",
    "df_naama"
   ],
   "metadata": {
    "collapsed": false,
    "ExecuteTime": {
     "end_time": "2023-06-11T18:50:22.115911Z",
     "start_time": "2023-06-11T18:50:22.094504Z"
    }
   }
  },
  {
   "cell_type": "code",
   "execution_count": 12,
   "outputs": [
    {
     "data": {
      "text/plain": "                                             sentence  \\\n0   The actress who was in the French director's s...   \n80  The actress who was in the French director's s...   \n\n                      question dependency  animacy gender distractor  \\\n0    The actress hit the vase.        S-V  animate   נקבה      Match   \n80  The director hit the vase.        S-V  animate   נקבה      Match   \n\n   correct_answer  \n0            true  \n80          false  ",
      "text/html": "<div>\n<style scoped>\n    .dataframe tbody tr th:only-of-type {\n        vertical-align: middle;\n    }\n\n    .dataframe tbody tr th {\n        vertical-align: top;\n    }\n\n    .dataframe thead th {\n        text-align: right;\n    }\n</style>\n<table border=\"1\" class=\"dataframe\">\n  <thead>\n    <tr style=\"text-align: right;\">\n      <th></th>\n      <th>sentence</th>\n      <th>question</th>\n      <th>dependency</th>\n      <th>animacy</th>\n      <th>gender</th>\n      <th>distractor</th>\n      <th>correct_answer</th>\n    </tr>\n  </thead>\n  <tbody>\n    <tr>\n      <th>0</th>\n      <td>The actress who was in the French director's s...</td>\n      <td>The actress hit the vase.</td>\n      <td>S-V</td>\n      <td>animate</td>\n      <td>נקבה</td>\n      <td>Match</td>\n      <td>true</td>\n    </tr>\n    <tr>\n      <th>80</th>\n      <td>The actress who was in the French director's s...</td>\n      <td>The director hit the vase.</td>\n      <td>S-V</td>\n      <td>animate</td>\n      <td>נקבה</td>\n      <td>Match</td>\n      <td>false</td>\n    </tr>\n  </tbody>\n</table>\n</div>"
     },
     "execution_count": 12,
     "metadata": {},
     "output_type": "execute_result"
    }
   ],
   "source": [
    "df_naama[df_naama.sentence==\"The actress who was in the French director's studio this week hit the expensive vase at the entrance.\"]"
   ],
   "metadata": {
    "collapsed": false,
    "ExecuteTime": {
     "end_time": "2023-06-11T18:50:22.486194Z",
     "start_time": "2023-06-11T18:50:22.482774Z"
    }
   }
  },
  {
   "cell_type": "code",
   "execution_count": 12,
   "outputs": [],
   "source": [],
   "metadata": {
    "collapsed": false,
    "ExecuteTime": {
     "end_time": "2023-06-11T18:50:22.866886Z",
     "start_time": "2023-06-11T18:50:22.856495Z"
    }
   }
  },
  {
   "cell_type": "markdown",
   "source": [
    "# Data Exploration"
   ],
   "metadata": {
    "collapsed": false
   }
  },
  {
   "cell_type": "code",
   "execution_count": 13,
   "outputs": [
    {
     "data": {
      "text/plain": "sentence          The tourists hired the guides that the locals ...\nquestion                           Did the locals anger the guides?\nquestion_type                                          distractor-Q\nlength                                                        short\ngender_match                                                  match\ncorrect_answer                                                 true\nName: 1, dtype: object"
     },
     "execution_count": 13,
     "metadata": {},
     "output_type": "execute_result"
    }
   ],
   "source": [
    "df_niki.iloc[1]\n"
   ],
   "metadata": {
    "collapsed": false,
    "ExecuteTime": {
     "end_time": "2023-06-11T18:50:23.826130Z",
     "start_time": "2023-06-11T18:50:23.814575Z"
    }
   }
  },
  {
   "cell_type": "code",
   "execution_count": null,
   "outputs": [],
   "source": [],
   "metadata": {
    "collapsed": false
   }
  }
 ],
 "metadata": {
  "kernelspec": {
   "display_name": "Python 3",
   "language": "python",
   "name": "python3"
  },
  "language_info": {
   "codemirror_mode": {
    "name": "ipython",
    "version": 2
   },
   "file_extension": ".py",
   "mimetype": "text/x-python",
   "name": "python",
   "nbconvert_exporter": "python",
   "pygments_lexer": "ipython2",
   "version": "2.7.6"
  }
 },
 "nbformat": 4,
 "nbformat_minor": 0
}
