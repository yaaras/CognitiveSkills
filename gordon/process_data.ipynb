{
 "cells": [
  {
   "cell_type": "markdown",
   "source": [
    "# Gordon"
   ],
   "metadata": {
    "collapsed": false
   }
  },
  {
   "cell_type": "code",
   "execution_count": 12,
   "outputs": [
    {
     "name": "stderr",
     "output_type": "stream",
     "text": [
      "[nltk_data] Downloading package punkt to\n",
      "[nltk_data]     C:\\Users\\markf\\AppData\\Roaming\\nltk_data...\n",
      "[nltk_data]   Package punkt is already up-to-date!\n"
     ]
    },
    {
     "data": {
      "text/plain": "True"
     },
     "execution_count": 12,
     "metadata": {},
     "output_type": "execute_result"
    }
   ],
   "source": [
    "import pandas as pd\n",
    "import nltk\n",
    "nltk.download('punkt')"
   ],
   "metadata": {
    "collapsed": false,
    "ExecuteTime": {
     "end_time": "2023-07-11T09:02:36.854902Z",
     "start_time": "2023-07-11T09:02:35.668181Z"
    }
   }
  },
  {
   "cell_type": "code",
   "execution_count": 13,
   "outputs": [
    {
     "data": {
      "text/plain": "                                              sentence condition_sentence   \n0    The banker that the barber praised climbed the...  subject_extracted  \\\n1    The banker that the barber praised climbed the...  subject_extracted   \n2    The banker that you praised climbed the mounta...  subject_extracted   \n3    The banker that you praised climbed the mounta...  subject_extracted   \n4    The banker that Sue praised climbed the mounta...  subject_extracted   \n..                                                 ...                ...   \n571  The gardener that envied the homeowner was ver...   object_extracted   \n572    The gardener that envied you was very friendly.   object_extracted   \n573    The gardener that envied you was very friendly.   object_extracted   \n574    The gardener that envied Liz was very friendly.   object_extracted   \n575    The gardener that envied Liz was very friendly.   object_extracted   \n\n     condition_distractor condition_question distractor_value subject_value   \n0    definite_description        matrix_verb       The barber    The banker  \\\n1    definite_description        matrix_verb       The barber    The banker   \n2       indexical_pronoun        matrix_verb              You    The banker   \n3       indexical_pronoun        matrix_verb              You    The banker   \n4                    name        matrix_verb              Sue    The banker   \n..                    ...                ...              ...           ...   \n571  definite_description      embedded_verb    The homeowner  The gardener   \n572     indexical_pronoun      embedded_verb              You  The gardener   \n573     indexical_pronoun      embedded_verb              You  The gardener   \n574                  name      embedded_verb              Liz  The gardener   \n575                  name      embedded_verb              Liz  The gardener   \n\n    question_center                            question  \n0           subject    The banker climbed the mountain.  \n1        distractor    The barber climbed the mountain.  \n2           subject    The banker climbed the mountain.  \n3        distractor           You climbed the mountain.  \n4           subject    The banker climbed the mountain.  \n..              ...                                 ...  \n571      distractor  The homeowner envied the gardener.  \n572         subject            The gardener envied you.  \n573      distractor            You envied the gardener.  \n574         subject            The gardener envied Liz.  \n575      distractor            Liz envied the gardener.  \n\n[576 rows x 8 columns]",
      "text/html": "<div>\n<style scoped>\n    .dataframe tbody tr th:only-of-type {\n        vertical-align: middle;\n    }\n\n    .dataframe tbody tr th {\n        vertical-align: top;\n    }\n\n    .dataframe thead th {\n        text-align: right;\n    }\n</style>\n<table border=\"1\" class=\"dataframe\">\n  <thead>\n    <tr style=\"text-align: right;\">\n      <th></th>\n      <th>sentence</th>\n      <th>condition_sentence</th>\n      <th>condition_distractor</th>\n      <th>condition_question</th>\n      <th>distractor_value</th>\n      <th>subject_value</th>\n      <th>question_center</th>\n      <th>question</th>\n    </tr>\n  </thead>\n  <tbody>\n    <tr>\n      <th>0</th>\n      <td>The banker that the barber praised climbed the...</td>\n      <td>subject_extracted</td>\n      <td>definite_description</td>\n      <td>matrix_verb</td>\n      <td>The barber</td>\n      <td>The banker</td>\n      <td>subject</td>\n      <td>The banker climbed the mountain.</td>\n    </tr>\n    <tr>\n      <th>1</th>\n      <td>The banker that the barber praised climbed the...</td>\n      <td>subject_extracted</td>\n      <td>definite_description</td>\n      <td>matrix_verb</td>\n      <td>The barber</td>\n      <td>The banker</td>\n      <td>distractor</td>\n      <td>The barber climbed the mountain.</td>\n    </tr>\n    <tr>\n      <th>2</th>\n      <td>The banker that you praised climbed the mounta...</td>\n      <td>subject_extracted</td>\n      <td>indexical_pronoun</td>\n      <td>matrix_verb</td>\n      <td>You</td>\n      <td>The banker</td>\n      <td>subject</td>\n      <td>The banker climbed the mountain.</td>\n    </tr>\n    <tr>\n      <th>3</th>\n      <td>The banker that you praised climbed the mounta...</td>\n      <td>subject_extracted</td>\n      <td>indexical_pronoun</td>\n      <td>matrix_verb</td>\n      <td>You</td>\n      <td>The banker</td>\n      <td>distractor</td>\n      <td>You climbed the mountain.</td>\n    </tr>\n    <tr>\n      <th>4</th>\n      <td>The banker that Sue praised climbed the mounta...</td>\n      <td>subject_extracted</td>\n      <td>name</td>\n      <td>matrix_verb</td>\n      <td>Sue</td>\n      <td>The banker</td>\n      <td>subject</td>\n      <td>The banker climbed the mountain.</td>\n    </tr>\n    <tr>\n      <th>...</th>\n      <td>...</td>\n      <td>...</td>\n      <td>...</td>\n      <td>...</td>\n      <td>...</td>\n      <td>...</td>\n      <td>...</td>\n      <td>...</td>\n    </tr>\n    <tr>\n      <th>571</th>\n      <td>The gardener that envied the homeowner was ver...</td>\n      <td>object_extracted</td>\n      <td>definite_description</td>\n      <td>embedded_verb</td>\n      <td>The homeowner</td>\n      <td>The gardener</td>\n      <td>distractor</td>\n      <td>The homeowner envied the gardener.</td>\n    </tr>\n    <tr>\n      <th>572</th>\n      <td>The gardener that envied you was very friendly.</td>\n      <td>object_extracted</td>\n      <td>indexical_pronoun</td>\n      <td>embedded_verb</td>\n      <td>You</td>\n      <td>The gardener</td>\n      <td>subject</td>\n      <td>The gardener envied you.</td>\n    </tr>\n    <tr>\n      <th>573</th>\n      <td>The gardener that envied you was very friendly.</td>\n      <td>object_extracted</td>\n      <td>indexical_pronoun</td>\n      <td>embedded_verb</td>\n      <td>You</td>\n      <td>The gardener</td>\n      <td>distractor</td>\n      <td>You envied the gardener.</td>\n    </tr>\n    <tr>\n      <th>574</th>\n      <td>The gardener that envied Liz was very friendly.</td>\n      <td>object_extracted</td>\n      <td>name</td>\n      <td>embedded_verb</td>\n      <td>Liz</td>\n      <td>The gardener</td>\n      <td>subject</td>\n      <td>The gardener envied Liz.</td>\n    </tr>\n    <tr>\n      <th>575</th>\n      <td>The gardener that envied Liz was very friendly.</td>\n      <td>object_extracted</td>\n      <td>name</td>\n      <td>embedded_verb</td>\n      <td>Liz</td>\n      <td>The gardener</td>\n      <td>distractor</td>\n      <td>Liz envied the gardener.</td>\n    </tr>\n  </tbody>\n</table>\n<p>576 rows × 8 columns</p>\n</div>"
     },
     "execution_count": 13,
     "metadata": {},
     "output_type": "execute_result"
    }
   ],
   "source": [
    "df_gordon = pd.read_json(\"../data/experiment_gordon.jsonl\", lines=True)\n",
    "df_gordon"
   ],
   "metadata": {
    "collapsed": false,
    "ExecuteTime": {
     "end_time": "2023-07-11T09:22:15.680462Z",
     "start_time": "2023-07-11T09:22:15.652309Z"
    }
   }
  },
  {
   "cell_type": "code",
   "execution_count": 14,
   "outputs": [
    {
     "data": {
      "text/plain": "                                              sentence condition_sentence   \n0    The banker that the barber praised climbed the...  subject_extracted  \\\n2    The banker that you praised climbed the mounta...  subject_extracted   \n4    The banker that Sue praised climbed the mounta...  subject_extracted   \n7    The banker that the barber praised climbed the...  subject_extracted   \n9    The banker that you praised climbed the mounta...  subject_extracted   \n..                                                 ...                ...   \n566    The gardener that envied you was very friendly.   object_extracted   \n568    The gardener that envied Liz was very friendly.   object_extracted   \n570  The gardener that envied the homeowner was ver...   object_extracted   \n572    The gardener that envied you was very friendly.   object_extracted   \n574    The gardener that envied Liz was very friendly.   object_extracted   \n\n     condition_distractor condition_question distractor_value subject_value   \n0    definite_description        matrix_verb       The barber    The banker  \\\n2       indexical_pronoun        matrix_verb              You    The banker   \n4                    name        matrix_verb              Sue    The banker   \n7    definite_description      embedded_verb       The barber    The banker   \n9       indexical_pronoun      embedded_verb              You    The banker   \n..                    ...                ...              ...           ...   \n566     indexical_pronoun        matrix_verb              You  The gardener   \n568                  name        matrix_verb              Liz  The gardener   \n570  definite_description      embedded_verb    The homeowner  The gardener   \n572     indexical_pronoun      embedded_verb              You  The gardener   \n574                  name      embedded_verb              Liz  The gardener   \n\n    question_center                            question  \n0           subject    The banker climbed the mountain.  \n2           subject    The banker climbed the mountain.  \n4           subject    The banker climbed the mountain.  \n7        distractor      The barber praised the banker.  \n9        distractor             You praised the banker.  \n..              ...                                 ...  \n566         subject     The gardener was very friendly.  \n568         subject     The gardener was very friendly.  \n570         subject  The gardener envied the homeowner.  \n572         subject            The gardener envied you.  \n574         subject            The gardener envied Liz.  \n\n[288 rows x 8 columns]",
      "text/html": "<div>\n<style scoped>\n    .dataframe tbody tr th:only-of-type {\n        vertical-align: middle;\n    }\n\n    .dataframe tbody tr th {\n        vertical-align: top;\n    }\n\n    .dataframe thead th {\n        text-align: right;\n    }\n</style>\n<table border=\"1\" class=\"dataframe\">\n  <thead>\n    <tr style=\"text-align: right;\">\n      <th></th>\n      <th>sentence</th>\n      <th>condition_sentence</th>\n      <th>condition_distractor</th>\n      <th>condition_question</th>\n      <th>distractor_value</th>\n      <th>subject_value</th>\n      <th>question_center</th>\n      <th>question</th>\n    </tr>\n  </thead>\n  <tbody>\n    <tr>\n      <th>0</th>\n      <td>The banker that the barber praised climbed the...</td>\n      <td>subject_extracted</td>\n      <td>definite_description</td>\n      <td>matrix_verb</td>\n      <td>The barber</td>\n      <td>The banker</td>\n      <td>subject</td>\n      <td>The banker climbed the mountain.</td>\n    </tr>\n    <tr>\n      <th>2</th>\n      <td>The banker that you praised climbed the mounta...</td>\n      <td>subject_extracted</td>\n      <td>indexical_pronoun</td>\n      <td>matrix_verb</td>\n      <td>You</td>\n      <td>The banker</td>\n      <td>subject</td>\n      <td>The banker climbed the mountain.</td>\n    </tr>\n    <tr>\n      <th>4</th>\n      <td>The banker that Sue praised climbed the mounta...</td>\n      <td>subject_extracted</td>\n      <td>name</td>\n      <td>matrix_verb</td>\n      <td>Sue</td>\n      <td>The banker</td>\n      <td>subject</td>\n      <td>The banker climbed the mountain.</td>\n    </tr>\n    <tr>\n      <th>7</th>\n      <td>The banker that the barber praised climbed the...</td>\n      <td>subject_extracted</td>\n      <td>definite_description</td>\n      <td>embedded_verb</td>\n      <td>The barber</td>\n      <td>The banker</td>\n      <td>distractor</td>\n      <td>The barber praised the banker.</td>\n    </tr>\n    <tr>\n      <th>9</th>\n      <td>The banker that you praised climbed the mounta...</td>\n      <td>subject_extracted</td>\n      <td>indexical_pronoun</td>\n      <td>embedded_verb</td>\n      <td>You</td>\n      <td>The banker</td>\n      <td>distractor</td>\n      <td>You praised the banker.</td>\n    </tr>\n    <tr>\n      <th>...</th>\n      <td>...</td>\n      <td>...</td>\n      <td>...</td>\n      <td>...</td>\n      <td>...</td>\n      <td>...</td>\n      <td>...</td>\n      <td>...</td>\n    </tr>\n    <tr>\n      <th>566</th>\n      <td>The gardener that envied you was very friendly.</td>\n      <td>object_extracted</td>\n      <td>indexical_pronoun</td>\n      <td>matrix_verb</td>\n      <td>You</td>\n      <td>The gardener</td>\n      <td>subject</td>\n      <td>The gardener was very friendly.</td>\n    </tr>\n    <tr>\n      <th>568</th>\n      <td>The gardener that envied Liz was very friendly.</td>\n      <td>object_extracted</td>\n      <td>name</td>\n      <td>matrix_verb</td>\n      <td>Liz</td>\n      <td>The gardener</td>\n      <td>subject</td>\n      <td>The gardener was very friendly.</td>\n    </tr>\n    <tr>\n      <th>570</th>\n      <td>The gardener that envied the homeowner was ver...</td>\n      <td>object_extracted</td>\n      <td>definite_description</td>\n      <td>embedded_verb</td>\n      <td>The homeowner</td>\n      <td>The gardener</td>\n      <td>subject</td>\n      <td>The gardener envied the homeowner.</td>\n    </tr>\n    <tr>\n      <th>572</th>\n      <td>The gardener that envied you was very friendly.</td>\n      <td>object_extracted</td>\n      <td>indexical_pronoun</td>\n      <td>embedded_verb</td>\n      <td>You</td>\n      <td>The gardener</td>\n      <td>subject</td>\n      <td>The gardener envied you.</td>\n    </tr>\n    <tr>\n      <th>574</th>\n      <td>The gardener that envied Liz was very friendly.</td>\n      <td>object_extracted</td>\n      <td>name</td>\n      <td>embedded_verb</td>\n      <td>Liz</td>\n      <td>The gardener</td>\n      <td>subject</td>\n      <td>The gardener envied Liz.</td>\n    </tr>\n  </tbody>\n</table>\n<p>288 rows × 8 columns</p>\n</div>"
     },
     "execution_count": 14,
     "metadata": {},
     "output_type": "execute_result"
    }
   ],
   "source": [
    "# remove the rows with wrong questions\n",
    "rows_to_drop = []\n",
    "rows_to_drop.extend(df_gordon[\n",
    "    (df_gordon['condition_sentence'] == 'object_extracted') &\n",
    "    (df_gordon['question_center'] == 'distractor')\n",
    "].index)\n",
    "\n",
    "rows_to_drop.extend(df_gordon[\n",
    "    (df_gordon['condition_sentence'] == 'subject_extracted') &\n",
    "    (df_gordon['condition_question'] == 'matrix_verb') &\n",
    "    (df_gordon['question_center'] == 'distractor')\n",
    "].index)\n",
    "\n",
    "rows_to_drop.extend(df_gordon[\n",
    "    (df_gordon['condition_sentence'] == 'subject_extracted') &\n",
    "    (df_gordon['condition_question'] == 'embedded_verb') &\n",
    "    (df_gordon['question_center'] == 'subject')\n",
    "].index)\n",
    "\n",
    "df_gordon = df_gordon.drop(rows_to_drop)\n",
    "\n",
    "df_gordon"
   ],
   "metadata": {
    "collapsed": false,
    "ExecuteTime": {
     "end_time": "2023-07-11T09:22:19.458152Z",
     "start_time": "2023-07-11T09:22:19.450916Z"
    }
   }
  },
  {
   "cell_type": "code",
   "execution_count": 15,
   "outputs": [
    {
     "data": {
      "text/plain": "                                              sentence condition_sentence   \n0    The banker that the barber praised climbed the...  subject_extracted  \\\n2    The banker that you praised climbed the mounta...  subject_extracted   \n4    The banker that Sue praised climbed the mounta...  subject_extracted   \n7    The banker that the barber praised climbed the...  subject_extracted   \n9    The banker that you praised climbed the mounta...  subject_extracted   \n..                                                 ...                ...   \n566    The gardener that envied you was very friendly.   object_extracted   \n568    The gardener that envied Liz was very friendly.   object_extracted   \n570  The gardener that envied the homeowner was ver...   object_extracted   \n572    The gardener that envied you was very friendly.   object_extracted   \n574    The gardener that envied Liz was very friendly.   object_extracted   \n\n     condition_distractor condition_question distractor_value subject_value   \n0    definite_description        matrix_verb       The barber    The banker  \\\n2       indexical_pronoun        matrix_verb              You    The banker   \n4                    name        matrix_verb              Sue    The banker   \n7    definite_description      embedded_verb       The barber    The banker   \n9       indexical_pronoun      embedded_verb              You    The banker   \n..                    ...                ...              ...           ...   \n566     indexical_pronoun        matrix_verb              You  The gardener   \n568                  name        matrix_verb              Liz  The gardener   \n570  definite_description      embedded_verb    The homeowner  The gardener   \n572     indexical_pronoun      embedded_verb              You  The gardener   \n574                  name      embedded_verb              Liz  The gardener   \n\n    question_center                                       question  \n0           subject    Therefore, the banker climbed the mountain.  \n2           subject    Therefore, the banker climbed the mountain.  \n4           subject    Therefore, the banker climbed the mountain.  \n7        distractor      Therefore, the barber praised the banker.  \n9        distractor             Therefore, you praised the banker.  \n..              ...                                            ...  \n566         subject     Therefore, the gardener was very friendly.  \n568         subject     Therefore, the gardener was very friendly.  \n570         subject  Therefore, the gardener envied the homeowner.  \n572         subject            Therefore, the gardener envied you.  \n574         subject            Therefore, the gardener envied Liz.  \n\n[288 rows x 8 columns]",
      "text/html": "<div>\n<style scoped>\n    .dataframe tbody tr th:only-of-type {\n        vertical-align: middle;\n    }\n\n    .dataframe tbody tr th {\n        vertical-align: top;\n    }\n\n    .dataframe thead th {\n        text-align: right;\n    }\n</style>\n<table border=\"1\" class=\"dataframe\">\n  <thead>\n    <tr style=\"text-align: right;\">\n      <th></th>\n      <th>sentence</th>\n      <th>condition_sentence</th>\n      <th>condition_distractor</th>\n      <th>condition_question</th>\n      <th>distractor_value</th>\n      <th>subject_value</th>\n      <th>question_center</th>\n      <th>question</th>\n    </tr>\n  </thead>\n  <tbody>\n    <tr>\n      <th>0</th>\n      <td>The banker that the barber praised climbed the...</td>\n      <td>subject_extracted</td>\n      <td>definite_description</td>\n      <td>matrix_verb</td>\n      <td>The barber</td>\n      <td>The banker</td>\n      <td>subject</td>\n      <td>Therefore, the banker climbed the mountain.</td>\n    </tr>\n    <tr>\n      <th>2</th>\n      <td>The banker that you praised climbed the mounta...</td>\n      <td>subject_extracted</td>\n      <td>indexical_pronoun</td>\n      <td>matrix_verb</td>\n      <td>You</td>\n      <td>The banker</td>\n      <td>subject</td>\n      <td>Therefore, the banker climbed the mountain.</td>\n    </tr>\n    <tr>\n      <th>4</th>\n      <td>The banker that Sue praised climbed the mounta...</td>\n      <td>subject_extracted</td>\n      <td>name</td>\n      <td>matrix_verb</td>\n      <td>Sue</td>\n      <td>The banker</td>\n      <td>subject</td>\n      <td>Therefore, the banker climbed the mountain.</td>\n    </tr>\n    <tr>\n      <th>7</th>\n      <td>The banker that the barber praised climbed the...</td>\n      <td>subject_extracted</td>\n      <td>definite_description</td>\n      <td>embedded_verb</td>\n      <td>The barber</td>\n      <td>The banker</td>\n      <td>distractor</td>\n      <td>Therefore, the barber praised the banker.</td>\n    </tr>\n    <tr>\n      <th>9</th>\n      <td>The banker that you praised climbed the mounta...</td>\n      <td>subject_extracted</td>\n      <td>indexical_pronoun</td>\n      <td>embedded_verb</td>\n      <td>You</td>\n      <td>The banker</td>\n      <td>distractor</td>\n      <td>Therefore, you praised the banker.</td>\n    </tr>\n    <tr>\n      <th>...</th>\n      <td>...</td>\n      <td>...</td>\n      <td>...</td>\n      <td>...</td>\n      <td>...</td>\n      <td>...</td>\n      <td>...</td>\n      <td>...</td>\n    </tr>\n    <tr>\n      <th>566</th>\n      <td>The gardener that envied you was very friendly.</td>\n      <td>object_extracted</td>\n      <td>indexical_pronoun</td>\n      <td>matrix_verb</td>\n      <td>You</td>\n      <td>The gardener</td>\n      <td>subject</td>\n      <td>Therefore, the gardener was very friendly.</td>\n    </tr>\n    <tr>\n      <th>568</th>\n      <td>The gardener that envied Liz was very friendly.</td>\n      <td>object_extracted</td>\n      <td>name</td>\n      <td>matrix_verb</td>\n      <td>Liz</td>\n      <td>The gardener</td>\n      <td>subject</td>\n      <td>Therefore, the gardener was very friendly.</td>\n    </tr>\n    <tr>\n      <th>570</th>\n      <td>The gardener that envied the homeowner was ver...</td>\n      <td>object_extracted</td>\n      <td>definite_description</td>\n      <td>embedded_verb</td>\n      <td>The homeowner</td>\n      <td>The gardener</td>\n      <td>subject</td>\n      <td>Therefore, the gardener envied the homeowner.</td>\n    </tr>\n    <tr>\n      <th>572</th>\n      <td>The gardener that envied you was very friendly.</td>\n      <td>object_extracted</td>\n      <td>indexical_pronoun</td>\n      <td>embedded_verb</td>\n      <td>You</td>\n      <td>The gardener</td>\n      <td>subject</td>\n      <td>Therefore, the gardener envied you.</td>\n    </tr>\n    <tr>\n      <th>574</th>\n      <td>The gardener that envied Liz was very friendly.</td>\n      <td>object_extracted</td>\n      <td>name</td>\n      <td>embedded_verb</td>\n      <td>Liz</td>\n      <td>The gardener</td>\n      <td>subject</td>\n      <td>Therefore, the gardener envied Liz.</td>\n    </tr>\n  </tbody>\n</table>\n<p>288 rows × 8 columns</p>\n</div>"
     },
     "execution_count": 15,
     "metadata": {},
     "output_type": "execute_result"
    }
   ],
   "source": [
    "# fix some lowercase problems\n",
    "df_gordon.loc[df_gordon.question.str.contains(\"The\"), \"question\"] = df_gordon.question.str.replace(\"The\", \"the\")\n",
    "df_gordon.loc[df_gordon.question.str.contains(\"You\"), \"question\"] = df_gordon.question.str.replace(\"You\", \"you\")\n",
    "df_gordon['question'] = df_gordon['question'].apply(lambda x: 'Therefore, ' + x)\n",
    "\n",
    "# fix questions with # instead of the subject\n",
    "def replace_question(row):\n",
    "    lower_case_words = ['the', 'you']\n",
    "    if row['condition_sentence'] == 'subject_extracted':\n",
    "        value = row['subject_value']\n",
    "        if any(word in value.lower() for word in lower_case_words):\n",
    "            value = value.lower()\n",
    "        return row['question'].replace('#', value)\n",
    "    elif row['condition_sentence'] == 'object_extracted':\n",
    "        value = row['distractor_value']\n",
    "        if any(word in value.lower() for word in lower_case_words):\n",
    "            value = value.lower()\n",
    "        return row['question'].replace('#', value)\n",
    "    else:\n",
    "        return row['question']\n",
    "\n",
    "df_gordon['question'] = df_gordon.apply(replace_question, axis=1)\n",
    "\n",
    "df_gordon"
   ],
   "metadata": {
    "collapsed": false
   }
  },
  {
   "cell_type": "code",
   "execution_count": 16,
   "outputs": [],
   "source": [
    "# create 'label' column\n",
    "\n",
    "df_gordon['label'] = df_gordon.apply(lambda row: row['subject_value'].split()[-1] if row['question_center'] == 'subject' else row['distractor_value'].split()[-1], axis=1)\n",
    "\n",
    "# 'you' label should be in lowercase\n",
    "df_gordon['label'] = df_gordon['label'].str.replace('You', 'you', case=False)"
   ],
   "metadata": {
    "collapsed": false
   }
  },
  {
   "cell_type": "code",
   "execution_count": 17,
   "outputs": [],
   "source": [
    "# create 'distractor' column\n",
    "\n",
    "df_gordon['distractor'] = df_gordon.apply(lambda row: row['subject_value'].split()[-1] if row['question_center'] == 'distractor' else row['distractor_value'].split()[-1], axis=1)\n",
    "\n",
    "# 'you' label should be in lowercase\n",
    "df_gordon['distractor'] = df_gordon['distractor'].str.replace('You', 'you', case=False)"
   ],
   "metadata": {
    "collapsed": false
   }
  },
  {
   "cell_type": "code",
   "execution_count": 18,
   "outputs": [
    {
     "data": {
      "text/plain": "                                              sentence condition_sentence   \n0    The banker that the barber praised climbed the...  subject_extracted  \\\n2    The banker that you praised climbed the mounta...  subject_extracted   \n4    The banker that Sue praised climbed the mounta...  subject_extracted   \n7    The banker that the barber praised climbed the...  subject_extracted   \n9    The banker that you praised climbed the mounta...  subject_extracted   \n..                                                 ...                ...   \n566    The gardener that envied you was very friendly.   object_extracted   \n568    The gardener that envied Liz was very friendly.   object_extracted   \n570  The gardener that envied the homeowner was ver...   object_extracted   \n572    The gardener that envied you was very friendly.   object_extracted   \n574    The gardener that envied Liz was very friendly.   object_extracted   \n\n     condition_distractor condition_question distractor_value subject_value   \n0    definite_description        matrix_verb       The barber    The banker  \\\n2       indexical_pronoun        matrix_verb              You    The banker   \n4                    name        matrix_verb              Sue    The banker   \n7    definite_description      embedded_verb       The barber    The banker   \n9       indexical_pronoun      embedded_verb              You    The banker   \n..                    ...                ...              ...           ...   \n566     indexical_pronoun        matrix_verb              You  The gardener   \n568                  name        matrix_verb              Liz  The gardener   \n570  definite_description      embedded_verb    The homeowner  The gardener   \n572     indexical_pronoun      embedded_verb              You  The gardener   \n574                  name      embedded_verb              Liz  The gardener   \n\n    question_center                                     question     label   \n0           subject  Therefore, the [MASK] climbed the mountain.    banker  \\\n2           subject  Therefore, the [MASK] climbed the mountain.    banker   \n4           subject  Therefore, the [MASK] climbed the mountain.    banker   \n7        distractor    Therefore, the [MASK] praised the banker.    barber   \n9        distractor        Therefore, [MASK] praised the banker.       you   \n..              ...                                          ...       ...   \n566         subject     Therefore, the [MASK] was very friendly.  gardener   \n568         subject     Therefore, the [MASK] was very friendly.  gardener   \n570         subject  Therefore, the [MASK] envied the homeowner.  gardener   \n572         subject            Therefore, the [MASK] envied you.  gardener   \n574         subject            Therefore, the [MASK] envied Liz.  gardener   \n\n    distractor  \n0       barber  \n2          you  \n4          Sue  \n7       banker  \n9       banker  \n..         ...  \n566        you  \n568        Liz  \n570  homeowner  \n572        you  \n574        Liz  \n\n[288 rows x 10 columns]",
      "text/html": "<div>\n<style scoped>\n    .dataframe tbody tr th:only-of-type {\n        vertical-align: middle;\n    }\n\n    .dataframe tbody tr th {\n        vertical-align: top;\n    }\n\n    .dataframe thead th {\n        text-align: right;\n    }\n</style>\n<table border=\"1\" class=\"dataframe\">\n  <thead>\n    <tr style=\"text-align: right;\">\n      <th></th>\n      <th>sentence</th>\n      <th>condition_sentence</th>\n      <th>condition_distractor</th>\n      <th>condition_question</th>\n      <th>distractor_value</th>\n      <th>subject_value</th>\n      <th>question_center</th>\n      <th>question</th>\n      <th>label</th>\n      <th>distractor</th>\n    </tr>\n  </thead>\n  <tbody>\n    <tr>\n      <th>0</th>\n      <td>The banker that the barber praised climbed the...</td>\n      <td>subject_extracted</td>\n      <td>definite_description</td>\n      <td>matrix_verb</td>\n      <td>The barber</td>\n      <td>The banker</td>\n      <td>subject</td>\n      <td>Therefore, the [MASK] climbed the mountain.</td>\n      <td>banker</td>\n      <td>barber</td>\n    </tr>\n    <tr>\n      <th>2</th>\n      <td>The banker that you praised climbed the mounta...</td>\n      <td>subject_extracted</td>\n      <td>indexical_pronoun</td>\n      <td>matrix_verb</td>\n      <td>You</td>\n      <td>The banker</td>\n      <td>subject</td>\n      <td>Therefore, the [MASK] climbed the mountain.</td>\n      <td>banker</td>\n      <td>you</td>\n    </tr>\n    <tr>\n      <th>4</th>\n      <td>The banker that Sue praised climbed the mounta...</td>\n      <td>subject_extracted</td>\n      <td>name</td>\n      <td>matrix_verb</td>\n      <td>Sue</td>\n      <td>The banker</td>\n      <td>subject</td>\n      <td>Therefore, the [MASK] climbed the mountain.</td>\n      <td>banker</td>\n      <td>Sue</td>\n    </tr>\n    <tr>\n      <th>7</th>\n      <td>The banker that the barber praised climbed the...</td>\n      <td>subject_extracted</td>\n      <td>definite_description</td>\n      <td>embedded_verb</td>\n      <td>The barber</td>\n      <td>The banker</td>\n      <td>distractor</td>\n      <td>Therefore, the [MASK] praised the banker.</td>\n      <td>barber</td>\n      <td>banker</td>\n    </tr>\n    <tr>\n      <th>9</th>\n      <td>The banker that you praised climbed the mounta...</td>\n      <td>subject_extracted</td>\n      <td>indexical_pronoun</td>\n      <td>embedded_verb</td>\n      <td>You</td>\n      <td>The banker</td>\n      <td>distractor</td>\n      <td>Therefore, [MASK] praised the banker.</td>\n      <td>you</td>\n      <td>banker</td>\n    </tr>\n    <tr>\n      <th>...</th>\n      <td>...</td>\n      <td>...</td>\n      <td>...</td>\n      <td>...</td>\n      <td>...</td>\n      <td>...</td>\n      <td>...</td>\n      <td>...</td>\n      <td>...</td>\n      <td>...</td>\n    </tr>\n    <tr>\n      <th>566</th>\n      <td>The gardener that envied you was very friendly.</td>\n      <td>object_extracted</td>\n      <td>indexical_pronoun</td>\n      <td>matrix_verb</td>\n      <td>You</td>\n      <td>The gardener</td>\n      <td>subject</td>\n      <td>Therefore, the [MASK] was very friendly.</td>\n      <td>gardener</td>\n      <td>you</td>\n    </tr>\n    <tr>\n      <th>568</th>\n      <td>The gardener that envied Liz was very friendly.</td>\n      <td>object_extracted</td>\n      <td>name</td>\n      <td>matrix_verb</td>\n      <td>Liz</td>\n      <td>The gardener</td>\n      <td>subject</td>\n      <td>Therefore, the [MASK] was very friendly.</td>\n      <td>gardener</td>\n      <td>Liz</td>\n    </tr>\n    <tr>\n      <th>570</th>\n      <td>The gardener that envied the homeowner was ver...</td>\n      <td>object_extracted</td>\n      <td>definite_description</td>\n      <td>embedded_verb</td>\n      <td>The homeowner</td>\n      <td>The gardener</td>\n      <td>subject</td>\n      <td>Therefore, the [MASK] envied the homeowner.</td>\n      <td>gardener</td>\n      <td>homeowner</td>\n    </tr>\n    <tr>\n      <th>572</th>\n      <td>The gardener that envied you was very friendly.</td>\n      <td>object_extracted</td>\n      <td>indexical_pronoun</td>\n      <td>embedded_verb</td>\n      <td>You</td>\n      <td>The gardener</td>\n      <td>subject</td>\n      <td>Therefore, the [MASK] envied you.</td>\n      <td>gardener</td>\n      <td>you</td>\n    </tr>\n    <tr>\n      <th>574</th>\n      <td>The gardener that envied Liz was very friendly.</td>\n      <td>object_extracted</td>\n      <td>name</td>\n      <td>embedded_verb</td>\n      <td>Liz</td>\n      <td>The gardener</td>\n      <td>subject</td>\n      <td>Therefore, the [MASK] envied Liz.</td>\n      <td>gardener</td>\n      <td>Liz</td>\n    </tr>\n  </tbody>\n</table>\n<p>288 rows × 10 columns</p>\n</div>"
     },
     "execution_count": 18,
     "metadata": {},
     "output_type": "execute_result"
    }
   ],
   "source": [
    "# mask the label\n",
    "\n",
    "def mask_prompt(row):\n",
    "    mask = '[MASK]'\n",
    "    label = row['label']\n",
    "    if row['question_center'] == 'subject':\n",
    "        if len(label.split()) > 1:\n",
    "            label = label.split()[1]\n",
    "        new_row = row['question'].replace(label, mask)\n",
    "        new_row = new_row.replace(label.lower(), mask)\n",
    "        return new_row\n",
    "    elif row['question_center'] == 'distractor':\n",
    "        if len(label.split()) > 1:\n",
    "            label = label.split()[1]\n",
    "        new_row = row['question'].replace(label, mask)\n",
    "        new_row = new_row.replace(label.lower(), mask)\n",
    "        return new_row\n",
    "    else:\n",
    "        return row['question']\n",
    "\n",
    "df_gordon['question'] = df_gordon.apply(mask_prompt, axis=1)\n",
    "df_gordon"
   ],
   "metadata": {
    "collapsed": false
   }
  },
  {
   "cell_type": "code",
   "execution_count": 19,
   "outputs": [
    {
     "data": {
      "text/plain": "                                              sentence condition_sentence   \n0    The banker that the barber praised climbed the...  subject_extracted  \\\n2    The banker that you praised climbed the mounta...  subject_extracted   \n4    The banker that Sue praised climbed the mounta...  subject_extracted   \n7    The banker that the barber praised climbed the...  subject_extracted   \n9    The banker that you praised climbed the mounta...  subject_extracted   \n..                                                 ...                ...   \n566    The gardener that envied you was very friendly.   object_extracted   \n568    The gardener that envied Liz was very friendly.   object_extracted   \n570  The gardener that envied the homeowner was ver...   object_extracted   \n572    The gardener that envied you was very friendly.   object_extracted   \n574    The gardener that envied Liz was very friendly.   object_extracted   \n\n     condition_distractor condition_question distractor_value subject_value   \n0    definite_description        matrix_verb       The barber    The banker  \\\n2       indexical_pronoun        matrix_verb              You    The banker   \n4                    name        matrix_verb              Sue    The banker   \n7    definite_description      embedded_verb       The barber    The banker   \n9       indexical_pronoun      embedded_verb              You    The banker   \n..                    ...                ...              ...           ...   \n566     indexical_pronoun        matrix_verb              You  The gardener   \n568                  name        matrix_verb              Liz  The gardener   \n570  definite_description      embedded_verb    The homeowner  The gardener   \n572     indexical_pronoun      embedded_verb              You  The gardener   \n574                  name      embedded_verb              Liz  The gardener   \n\n    question_center                                     question     label   \n0           subject  Therefore, the [MASK] climbed the mountain.    banker  \\\n2           subject  Therefore, the [MASK] climbed the mountain.    banker   \n4           subject  Therefore, the [MASK] climbed the mountain.    banker   \n7        distractor    Therefore, the [MASK] praised the banker.    barber   \n9        distractor        Therefore, [MASK] praised the banker.       you   \n..              ...                                          ...       ...   \n566         subject     Therefore, the [MASK] was very friendly.  gardener   \n568         subject     Therefore, the [MASK] was very friendly.  gardener   \n570         subject  Therefore, the [MASK] envied the homeowner.  gardener   \n572         subject            Therefore, the [MASK] envied you.  gardener   \n574         subject            Therefore, the [MASK] envied Liz.  gardener   \n\n    distractor                                             prompt  \n0       barber  The banker that the barber praised climbed the...  \n2          you  The banker that you praised climbed the mounta...  \n4          Sue  The banker that Sue praised climbed the mounta...  \n7       banker  The banker that the barber praised climbed the...  \n9       banker  The banker that you praised climbed the mounta...  \n..         ...                                                ...  \n566        you  The gardener that envied you was very friendly...  \n568        Liz  The gardener that envied Liz was very friendly...  \n570  homeowner  The gardener that envied the homeowner was ver...  \n572        you  The gardener that envied you was very friendly...  \n574        Liz  The gardener that envied Liz was very friendly...  \n\n[288 rows x 11 columns]",
      "text/html": "<div>\n<style scoped>\n    .dataframe tbody tr th:only-of-type {\n        vertical-align: middle;\n    }\n\n    .dataframe tbody tr th {\n        vertical-align: top;\n    }\n\n    .dataframe thead th {\n        text-align: right;\n    }\n</style>\n<table border=\"1\" class=\"dataframe\">\n  <thead>\n    <tr style=\"text-align: right;\">\n      <th></th>\n      <th>sentence</th>\n      <th>condition_sentence</th>\n      <th>condition_distractor</th>\n      <th>condition_question</th>\n      <th>distractor_value</th>\n      <th>subject_value</th>\n      <th>question_center</th>\n      <th>question</th>\n      <th>label</th>\n      <th>distractor</th>\n      <th>prompt</th>\n    </tr>\n  </thead>\n  <tbody>\n    <tr>\n      <th>0</th>\n      <td>The banker that the barber praised climbed the...</td>\n      <td>subject_extracted</td>\n      <td>definite_description</td>\n      <td>matrix_verb</td>\n      <td>The barber</td>\n      <td>The banker</td>\n      <td>subject</td>\n      <td>Therefore, the [MASK] climbed the mountain.</td>\n      <td>banker</td>\n      <td>barber</td>\n      <td>The banker that the barber praised climbed the...</td>\n    </tr>\n    <tr>\n      <th>2</th>\n      <td>The banker that you praised climbed the mounta...</td>\n      <td>subject_extracted</td>\n      <td>indexical_pronoun</td>\n      <td>matrix_verb</td>\n      <td>You</td>\n      <td>The banker</td>\n      <td>subject</td>\n      <td>Therefore, the [MASK] climbed the mountain.</td>\n      <td>banker</td>\n      <td>you</td>\n      <td>The banker that you praised climbed the mounta...</td>\n    </tr>\n    <tr>\n      <th>4</th>\n      <td>The banker that Sue praised climbed the mounta...</td>\n      <td>subject_extracted</td>\n      <td>name</td>\n      <td>matrix_verb</td>\n      <td>Sue</td>\n      <td>The banker</td>\n      <td>subject</td>\n      <td>Therefore, the [MASK] climbed the mountain.</td>\n      <td>banker</td>\n      <td>Sue</td>\n      <td>The banker that Sue praised climbed the mounta...</td>\n    </tr>\n    <tr>\n      <th>7</th>\n      <td>The banker that the barber praised climbed the...</td>\n      <td>subject_extracted</td>\n      <td>definite_description</td>\n      <td>embedded_verb</td>\n      <td>The barber</td>\n      <td>The banker</td>\n      <td>distractor</td>\n      <td>Therefore, the [MASK] praised the banker.</td>\n      <td>barber</td>\n      <td>banker</td>\n      <td>The banker that the barber praised climbed the...</td>\n    </tr>\n    <tr>\n      <th>9</th>\n      <td>The banker that you praised climbed the mounta...</td>\n      <td>subject_extracted</td>\n      <td>indexical_pronoun</td>\n      <td>embedded_verb</td>\n      <td>You</td>\n      <td>The banker</td>\n      <td>distractor</td>\n      <td>Therefore, [MASK] praised the banker.</td>\n      <td>you</td>\n      <td>banker</td>\n      <td>The banker that you praised climbed the mounta...</td>\n    </tr>\n    <tr>\n      <th>...</th>\n      <td>...</td>\n      <td>...</td>\n      <td>...</td>\n      <td>...</td>\n      <td>...</td>\n      <td>...</td>\n      <td>...</td>\n      <td>...</td>\n      <td>...</td>\n      <td>...</td>\n      <td>...</td>\n    </tr>\n    <tr>\n      <th>566</th>\n      <td>The gardener that envied you was very friendly.</td>\n      <td>object_extracted</td>\n      <td>indexical_pronoun</td>\n      <td>matrix_verb</td>\n      <td>You</td>\n      <td>The gardener</td>\n      <td>subject</td>\n      <td>Therefore, the [MASK] was very friendly.</td>\n      <td>gardener</td>\n      <td>you</td>\n      <td>The gardener that envied you was very friendly...</td>\n    </tr>\n    <tr>\n      <th>568</th>\n      <td>The gardener that envied Liz was very friendly.</td>\n      <td>object_extracted</td>\n      <td>name</td>\n      <td>matrix_verb</td>\n      <td>Liz</td>\n      <td>The gardener</td>\n      <td>subject</td>\n      <td>Therefore, the [MASK] was very friendly.</td>\n      <td>gardener</td>\n      <td>Liz</td>\n      <td>The gardener that envied Liz was very friendly...</td>\n    </tr>\n    <tr>\n      <th>570</th>\n      <td>The gardener that envied the homeowner was ver...</td>\n      <td>object_extracted</td>\n      <td>definite_description</td>\n      <td>embedded_verb</td>\n      <td>The homeowner</td>\n      <td>The gardener</td>\n      <td>subject</td>\n      <td>Therefore, the [MASK] envied the homeowner.</td>\n      <td>gardener</td>\n      <td>homeowner</td>\n      <td>The gardener that envied the homeowner was ver...</td>\n    </tr>\n    <tr>\n      <th>572</th>\n      <td>The gardener that envied you was very friendly.</td>\n      <td>object_extracted</td>\n      <td>indexical_pronoun</td>\n      <td>embedded_verb</td>\n      <td>You</td>\n      <td>The gardener</td>\n      <td>subject</td>\n      <td>Therefore, the [MASK] envied you.</td>\n      <td>gardener</td>\n      <td>you</td>\n      <td>The gardener that envied you was very friendly...</td>\n    </tr>\n    <tr>\n      <th>574</th>\n      <td>The gardener that envied Liz was very friendly.</td>\n      <td>object_extracted</td>\n      <td>name</td>\n      <td>embedded_verb</td>\n      <td>Liz</td>\n      <td>The gardener</td>\n      <td>subject</td>\n      <td>Therefore, the [MASK] envied Liz.</td>\n      <td>gardener</td>\n      <td>Liz</td>\n      <td>The gardener that envied Liz was very friendly...</td>\n    </tr>\n  </tbody>\n</table>\n<p>288 rows × 11 columns</p>\n</div>"
     },
     "execution_count": 19,
     "metadata": {},
     "output_type": "execute_result"
    }
   ],
   "source": [
    "# create 'prompt' column\n",
    "\n",
    "df_gordon[\"prompt\"] = df_gordon[\"sentence\"] + \" \" + df_gordon[\"question\"]\n",
    "df_gordon"
   ],
   "metadata": {
    "collapsed": false
   }
  },
  {
   "cell_type": "code",
   "execution_count": 20,
   "outputs": [],
   "source": [
    "# drop columns\n",
    "\n",
    "# df_gordon.drop([\"condition_sentence\", \"condition_distractor\", \"condition_question\", \"distractor_value\",  \"subject_value\", \"question_center\"], axis=1, inplace=True)\n",
    "df_gordon.drop([\"sentence\", \"question\"], axis=1, inplace=True)"
   ],
   "metadata": {
    "collapsed": false,
    "ExecuteTime": {
     "end_time": "2023-07-11T07:41:55.999571Z",
     "start_time": "2023-07-11T07:41:55.963629Z"
    }
   }
  },
  {
   "cell_type": "code",
   "execution_count": 21,
   "outputs": [],
   "source": [
    "# change the order of the columns\n",
    "\n",
    "df_gordon = df_gordon[[\"prompt\", \"label\", \"distractor\", \"condition_sentence\", \"condition_distractor\", \"condition_question\", \"distractor_value\",  \"subject_value\", \"question_center\"]]"
   ],
   "metadata": {
    "collapsed": false,
    "ExecuteTime": {
     "end_time": "2023-07-11T07:41:59.809962Z",
     "start_time": "2023-07-11T07:41:59.781286Z"
    }
   }
  },
  {
   "cell_type": "code",
   "execution_count": 22,
   "outputs": [
    {
     "data": {
      "text/plain": "                                                prompt     label distractor   \n0    The banker that the barber praised climbed the...    banker     barber  \\\n2    The banker that you praised climbed the mounta...    banker        you   \n4    The banker that Sue praised climbed the mounta...    banker        Sue   \n7    The banker that the barber praised climbed the...    barber     banker   \n9    The banker that you praised climbed the mounta...       you     banker   \n..                                                 ...       ...        ...   \n566  The gardener that envied you was very friendly...  gardener        you   \n568  The gardener that envied Liz was very friendly...  gardener        Liz   \n570  The gardener that envied the homeowner was ver...  gardener  homeowner   \n572  The gardener that envied you was very friendly...  gardener        you   \n574  The gardener that envied Liz was very friendly...  gardener        Liz   \n\n    condition_sentence  condition_distractor condition_question   \n0    subject_extracted  definite_description        matrix_verb  \\\n2    subject_extracted     indexical_pronoun        matrix_verb   \n4    subject_extracted                  name        matrix_verb   \n7    subject_extracted  definite_description      embedded_verb   \n9    subject_extracted     indexical_pronoun      embedded_verb   \n..                 ...                   ...                ...   \n566   object_extracted     indexical_pronoun        matrix_verb   \n568   object_extracted                  name        matrix_verb   \n570   object_extracted  definite_description      embedded_verb   \n572   object_extracted     indexical_pronoun      embedded_verb   \n574   object_extracted                  name      embedded_verb   \n\n    distractor_value subject_value question_center  \n0         The barber    The banker         subject  \n2                You    The banker         subject  \n4                Sue    The banker         subject  \n7         The barber    The banker      distractor  \n9                You    The banker      distractor  \n..               ...           ...             ...  \n566              You  The gardener         subject  \n568              Liz  The gardener         subject  \n570    The homeowner  The gardener         subject  \n572              You  The gardener         subject  \n574              Liz  The gardener         subject  \n\n[288 rows x 9 columns]",
      "text/html": "<div>\n<style scoped>\n    .dataframe tbody tr th:only-of-type {\n        vertical-align: middle;\n    }\n\n    .dataframe tbody tr th {\n        vertical-align: top;\n    }\n\n    .dataframe thead th {\n        text-align: right;\n    }\n</style>\n<table border=\"1\" class=\"dataframe\">\n  <thead>\n    <tr style=\"text-align: right;\">\n      <th></th>\n      <th>prompt</th>\n      <th>label</th>\n      <th>distractor</th>\n      <th>condition_sentence</th>\n      <th>condition_distractor</th>\n      <th>condition_question</th>\n      <th>distractor_value</th>\n      <th>subject_value</th>\n      <th>question_center</th>\n    </tr>\n  </thead>\n  <tbody>\n    <tr>\n      <th>0</th>\n      <td>The banker that the barber praised climbed the...</td>\n      <td>banker</td>\n      <td>barber</td>\n      <td>subject_extracted</td>\n      <td>definite_description</td>\n      <td>matrix_verb</td>\n      <td>The barber</td>\n      <td>The banker</td>\n      <td>subject</td>\n    </tr>\n    <tr>\n      <th>2</th>\n      <td>The banker that you praised climbed the mounta...</td>\n      <td>banker</td>\n      <td>you</td>\n      <td>subject_extracted</td>\n      <td>indexical_pronoun</td>\n      <td>matrix_verb</td>\n      <td>You</td>\n      <td>The banker</td>\n      <td>subject</td>\n    </tr>\n    <tr>\n      <th>4</th>\n      <td>The banker that Sue praised climbed the mounta...</td>\n      <td>banker</td>\n      <td>Sue</td>\n      <td>subject_extracted</td>\n      <td>name</td>\n      <td>matrix_verb</td>\n      <td>Sue</td>\n      <td>The banker</td>\n      <td>subject</td>\n    </tr>\n    <tr>\n      <th>7</th>\n      <td>The banker that the barber praised climbed the...</td>\n      <td>barber</td>\n      <td>banker</td>\n      <td>subject_extracted</td>\n      <td>definite_description</td>\n      <td>embedded_verb</td>\n      <td>The barber</td>\n      <td>The banker</td>\n      <td>distractor</td>\n    </tr>\n    <tr>\n      <th>9</th>\n      <td>The banker that you praised climbed the mounta...</td>\n      <td>you</td>\n      <td>banker</td>\n      <td>subject_extracted</td>\n      <td>indexical_pronoun</td>\n      <td>embedded_verb</td>\n      <td>You</td>\n      <td>The banker</td>\n      <td>distractor</td>\n    </tr>\n    <tr>\n      <th>...</th>\n      <td>...</td>\n      <td>...</td>\n      <td>...</td>\n      <td>...</td>\n      <td>...</td>\n      <td>...</td>\n      <td>...</td>\n      <td>...</td>\n      <td>...</td>\n    </tr>\n    <tr>\n      <th>566</th>\n      <td>The gardener that envied you was very friendly...</td>\n      <td>gardener</td>\n      <td>you</td>\n      <td>object_extracted</td>\n      <td>indexical_pronoun</td>\n      <td>matrix_verb</td>\n      <td>You</td>\n      <td>The gardener</td>\n      <td>subject</td>\n    </tr>\n    <tr>\n      <th>568</th>\n      <td>The gardener that envied Liz was very friendly...</td>\n      <td>gardener</td>\n      <td>Liz</td>\n      <td>object_extracted</td>\n      <td>name</td>\n      <td>matrix_verb</td>\n      <td>Liz</td>\n      <td>The gardener</td>\n      <td>subject</td>\n    </tr>\n    <tr>\n      <th>570</th>\n      <td>The gardener that envied the homeowner was ver...</td>\n      <td>gardener</td>\n      <td>homeowner</td>\n      <td>object_extracted</td>\n      <td>definite_description</td>\n      <td>embedded_verb</td>\n      <td>The homeowner</td>\n      <td>The gardener</td>\n      <td>subject</td>\n    </tr>\n    <tr>\n      <th>572</th>\n      <td>The gardener that envied you was very friendly...</td>\n      <td>gardener</td>\n      <td>you</td>\n      <td>object_extracted</td>\n      <td>indexical_pronoun</td>\n      <td>embedded_verb</td>\n      <td>You</td>\n      <td>The gardener</td>\n      <td>subject</td>\n    </tr>\n    <tr>\n      <th>574</th>\n      <td>The gardener that envied Liz was very friendly...</td>\n      <td>gardener</td>\n      <td>Liz</td>\n      <td>object_extracted</td>\n      <td>name</td>\n      <td>embedded_verb</td>\n      <td>Liz</td>\n      <td>The gardener</td>\n      <td>subject</td>\n    </tr>\n  </tbody>\n</table>\n<p>288 rows × 9 columns</p>\n</div>"
     },
     "execution_count": 22,
     "metadata": {},
     "output_type": "execute_result"
    }
   ],
   "source": [
    "df_gordon"
   ],
   "metadata": {
    "collapsed": false,
    "ExecuteTime": {
     "end_time": "2023-06-14T20:03:44.727783Z",
     "start_time": "2023-06-14T20:03:44.707127Z"
    }
   }
  },
  {
   "cell_type": "code",
   "execution_count": 23,
   "outputs": [],
   "source": [
    "df_gordon.to_csv(\"../data_processed/gordon.csv\", index=False)"
   ],
   "metadata": {
    "collapsed": false,
    "ExecuteTime": {
     "end_time": "2023-06-14T20:03:47.608314Z",
     "start_time": "2023-06-14T20:03:47.589578Z"
    }
   }
  }
 ],
 "metadata": {
  "kernelspec": {
   "display_name": "Python 3",
   "language": "python",
   "name": "python3"
  },
  "language_info": {
   "codemirror_mode": {
    "name": "ipython",
    "version": 2
   },
   "file_extension": ".py",
   "mimetype": "text/x-python",
   "name": "python",
   "nbconvert_exporter": "python",
   "pygments_lexer": "ipython2",
   "version": "2.7.6"
  }
 },
 "nbformat": 4,
 "nbformat_minor": 0
}
