{
 "cells": [
  {
   "cell_type": "code",
   "execution_count": 17,
   "outputs": [],
   "source": [
    "import pandas as pd\n",
    "import torch\n"
   ],
   "metadata": {
    "collapsed": false,
    "ExecuteTime": {
     "end_time": "2023-07-11T10:03:09.048587Z",
     "start_time": "2023-07-11T10:03:08.988710Z"
    }
   }
  },
  {
   "cell_type": "code",
   "execution_count": 18,
   "outputs": [
    {
     "name": "stderr",
     "output_type": "stream",
     "text": [
      "Some weights of the model checkpoint at google/multiberts-seed_0-step_2000k were not used when initializing BertForMaskedLM: ['cls.seq_relationship.weight', 'cls.seq_relationship.bias']\n",
      "- This IS expected if you are initializing BertForMaskedLM from the checkpoint of a model trained on another task or with another architecture (e.g. initializing a BertForSequenceClassification model from a BertForPreTraining model).\n",
      "- This IS NOT expected if you are initializing BertForMaskedLM from the checkpoint of a model that you expect to be exactly identical (initializing a BertForSequenceClassification model from a BertForSequenceClassification model).\n"
     ]
    }
   ],
   "source": [
    "from transformers import BertTokenizer, BertForMaskedLM\n",
    "\n",
    "tokenizer = BertTokenizer.from_pretrained('google/multiberts-seed_0-step_2000k')\n",
    "model = BertForMaskedLM.from_pretrained('google/multiberts-seed_0-step_2000k')"
   ],
   "metadata": {
    "collapsed": false,
    "ExecuteTime": {
     "end_time": "2023-07-11T10:03:11.297991Z",
     "start_time": "2023-07-11T10:03:08.994239Z"
    }
   }
  },
  {
   "cell_type": "code",
   "execution_count": 19,
   "outputs": [],
   "source": [
    "list_of_checkpoints = [f'google/multiberts-seed_0-step_{i}k' for i in range(0, 200, 20)] + [f'google/multiberts-seed_0-step_{i}k' for i in range(200, 2001, 100)]"
   ],
   "metadata": {
    "collapsed": false,
    "ExecuteTime": {
     "end_time": "2023-07-11T10:03:11.302641Z",
     "start_time": "2023-07-11T10:03:11.298678Z"
    }
   }
  },
  {
   "cell_type": "code",
   "execution_count": 20,
   "outputs": [],
   "source": [
    "# load the data\n",
    "df = pd.read_csv('data_processed/niki.csv')"
   ],
   "metadata": {
    "collapsed": false,
    "ExecuteTime": {
     "end_time": "2023-07-11T10:03:11.311347Z",
     "start_time": "2023-07-11T10:03:11.304559Z"
    }
   }
  },
  {
   "cell_type": "code",
   "execution_count": 21,
   "outputs": [
    {
     "data": {
      "text/plain": "                                                prompt        label  \\\n0    The tourist hired the guides that the locals a...       guides   \n1    The tourists hired the guides that the locals ...       guides   \n2    The tourist hired the guides that two days ago...       guides   \n3    The tourists hired the guides who two days ago...       guides   \n4    The coach removed the gymnasts that the fans d...     gymnasts   \n..                                                 ...          ...   \n107  The editors censored the journalists that last...  journalists   \n108  The donor bored the researchers that interns d...  researchers   \n109  The donors bored the researchers that interns ...  researchers   \n110  The donor bored the researchers that last year...  researchers   \n111  The donors bored the researchers that last yea...  researchers   \n\n    distractor length plural_match  \n0      tourist  short     mismatch  \n1     tourists  short        match  \n2      tourist   long     mismatch  \n3     tourists   long        match  \n4        coach  short     mismatch  \n..         ...    ...          ...  \n107    editors   long        match  \n108      donor  short     mismatch  \n109     donors  short        match  \n110      donor   long     mismatch  \n111     donors   long        match  \n\n[112 rows x 5 columns]",
      "text/html": "<div>\n<style scoped>\n    .dataframe tbody tr th:only-of-type {\n        vertical-align: middle;\n    }\n\n    .dataframe tbody tr th {\n        vertical-align: top;\n    }\n\n    .dataframe thead th {\n        text-align: right;\n    }\n</style>\n<table border=\"1\" class=\"dataframe\">\n  <thead>\n    <tr style=\"text-align: right;\">\n      <th></th>\n      <th>prompt</th>\n      <th>label</th>\n      <th>distractor</th>\n      <th>length</th>\n      <th>plural_match</th>\n    </tr>\n  </thead>\n  <tbody>\n    <tr>\n      <th>0</th>\n      <td>The tourist hired the guides that the locals a...</td>\n      <td>guides</td>\n      <td>tourist</td>\n      <td>short</td>\n      <td>mismatch</td>\n    </tr>\n    <tr>\n      <th>1</th>\n      <td>The tourists hired the guides that the locals ...</td>\n      <td>guides</td>\n      <td>tourists</td>\n      <td>short</td>\n      <td>match</td>\n    </tr>\n    <tr>\n      <th>2</th>\n      <td>The tourist hired the guides that two days ago...</td>\n      <td>guides</td>\n      <td>tourist</td>\n      <td>long</td>\n      <td>mismatch</td>\n    </tr>\n    <tr>\n      <th>3</th>\n      <td>The tourists hired the guides who two days ago...</td>\n      <td>guides</td>\n      <td>tourists</td>\n      <td>long</td>\n      <td>match</td>\n    </tr>\n    <tr>\n      <th>4</th>\n      <td>The coach removed the gymnasts that the fans d...</td>\n      <td>gymnasts</td>\n      <td>coach</td>\n      <td>short</td>\n      <td>mismatch</td>\n    </tr>\n    <tr>\n      <th>...</th>\n      <td>...</td>\n      <td>...</td>\n      <td>...</td>\n      <td>...</td>\n      <td>...</td>\n    </tr>\n    <tr>\n      <th>107</th>\n      <td>The editors censored the journalists that last...</td>\n      <td>journalists</td>\n      <td>editors</td>\n      <td>long</td>\n      <td>match</td>\n    </tr>\n    <tr>\n      <th>108</th>\n      <td>The donor bored the researchers that interns d...</td>\n      <td>researchers</td>\n      <td>donor</td>\n      <td>short</td>\n      <td>mismatch</td>\n    </tr>\n    <tr>\n      <th>109</th>\n      <td>The donors bored the researchers that interns ...</td>\n      <td>researchers</td>\n      <td>donors</td>\n      <td>short</td>\n      <td>match</td>\n    </tr>\n    <tr>\n      <th>110</th>\n      <td>The donor bored the researchers that last year...</td>\n      <td>researchers</td>\n      <td>donor</td>\n      <td>long</td>\n      <td>mismatch</td>\n    </tr>\n    <tr>\n      <th>111</th>\n      <td>The donors bored the researchers that last yea...</td>\n      <td>researchers</td>\n      <td>donors</td>\n      <td>long</td>\n      <td>match</td>\n    </tr>\n  </tbody>\n</table>\n<p>112 rows × 5 columns</p>\n</div>"
     },
     "execution_count": 21,
     "metadata": {},
     "output_type": "execute_result"
    }
   ],
   "source": [
    "df"
   ],
   "metadata": {
    "collapsed": false,
    "ExecuteTime": {
     "end_time": "2023-07-11T10:03:11.323768Z",
     "start_time": "2023-07-11T10:03:11.314654Z"
    }
   }
  },
  {
   "cell_type": "code",
   "execution_count": 22,
   "outputs": [
    {
     "data": {
      "text/plain": "'tourist'"
     },
     "execution_count": 22,
     "metadata": {},
     "output_type": "execute_result"
    }
   ],
   "source": [
    "text = \"The tourist hired the guides that the locals angered due to a misunderstanding. Therefore, the locals angered the [MASK]\"\n",
    "encoded_input = tokenizer(text, return_tensors='pt')\n",
    "mask_token_index = torch.where(encoded_input['input_ids'] == tokenizer.mask_token_id)[1].item()\n",
    "\n",
    "with torch.no_grad():\n",
    "    output = model(**encoded_input)\n",
    "\n",
    "predictions = output.logits\n",
    "masked_token_predictions = predictions[0, mask_token_index]\n",
    "predicted_token_index = torch.argmax(masked_token_predictions).item()\n",
    "predicted_token = tokenizer.convert_ids_to_tokens([predicted_token_index])[0]\n",
    "\n",
    "predicted_token"
   ],
   "metadata": {
    "collapsed": false,
    "ExecuteTime": {
     "end_time": "2023-07-11T10:03:11.449377Z",
     "start_time": "2023-07-11T10:03:11.324949Z"
    }
   }
  },
  {
   "cell_type": "code",
   "execution_count": 23,
   "outputs": [
    {
     "data": {
      "text/plain": "tensor([1.8282e-09, 3.0457e-10, 6.1019e-10,  ..., 4.7334e-09, 9.1330e-10,\n        1.0664e-09])"
     },
     "execution_count": 23,
     "metadata": {},
     "output_type": "execute_result"
    }
   ],
   "source": [
    "torch.softmax(masked_token_predictions, dim=0)"
   ],
   "metadata": {
    "collapsed": false,
    "ExecuteTime": {
     "end_time": "2023-07-11T10:03:11.460403Z",
     "start_time": "2023-07-11T10:03:11.452364Z"
    }
   }
  },
  {
   "cell_type": "code",
   "execution_count": 24,
   "outputs": [],
   "source": [
    "first_index = tokenizer.encode(\"guides\", add_special_tokens=False)"
   ],
   "metadata": {
    "collapsed": false,
    "ExecuteTime": {
     "end_time": "2023-07-11T10:03:11.463780Z",
     "start_time": "2023-07-11T10:03:11.460746Z"
    }
   }
  },
  {
   "cell_type": "code",
   "execution_count": 25,
   "outputs": [],
   "source": [
    "second_index = tokenizer.encode(\"tourist\", add_special_tokens=False)"
   ],
   "metadata": {
    "collapsed": false,
    "ExecuteTime": {
     "end_time": "2023-07-11T10:03:11.467931Z",
     "start_time": "2023-07-11T10:03:11.465533Z"
    }
   }
  },
  {
   "cell_type": "code",
   "execution_count": 26,
   "outputs": [
    {
     "data": {
      "text/plain": "tensor([0.0010])"
     },
     "execution_count": 26,
     "metadata": {},
     "output_type": "execute_result"
    }
   ],
   "source": [
    "torch.softmax(masked_token_predictions, dim=0)[first_index]"
   ],
   "metadata": {
    "collapsed": false,
    "ExecuteTime": {
     "end_time": "2023-07-11T10:03:11.501091Z",
     "start_time": "2023-07-11T10:03:11.468785Z"
    }
   }
  },
  {
   "cell_type": "code",
   "execution_count": 27,
   "outputs": [
    {
     "data": {
      "text/plain": "tensor([0.7780])"
     },
     "execution_count": 27,
     "metadata": {},
     "output_type": "execute_result"
    }
   ],
   "source": [
    "torch.softmax(masked_token_predictions, dim=0)[second_index]"
   ],
   "metadata": {
    "collapsed": false,
    "ExecuteTime": {
     "end_time": "2023-07-11T10:03:11.501792Z",
     "start_time": "2023-07-11T10:03:11.493816Z"
    }
   }
  },
  {
   "cell_type": "code",
   "execution_count": 28,
   "outputs": [],
   "source": [
    "# Function to predict the masked token in a given text\n",
    "def predict_masked_token(text):\n",
    "    encoded_input = tokenizer(text, return_tensors='pt')\n",
    "    mask_token_index = torch.where(encoded_input['input_ids'] == tokenizer.mask_token_id)[1].item()\n",
    "\n",
    "    with torch.no_grad():\n",
    "        output = model(**encoded_input)\n",
    "\n",
    "    predictions = output.logits\n",
    "    masked_token_predictions = predictions[0, mask_token_index]\n",
    "    predicted_token_index = torch.argmax(masked_token_predictions).item()\n",
    "    predicted_token = tokenizer.convert_ids_to_tokens([predicted_token_index])[0]\n",
    "\n",
    "    return predicted_token"
   ],
   "metadata": {
    "collapsed": false,
    "ExecuteTime": {
     "end_time": "2023-07-11T10:03:11.501967Z",
     "start_time": "2023-07-11T10:03:11.494252Z"
    }
   }
  },
  {
   "cell_type": "code",
   "execution_count": 29,
   "outputs": [
    {
     "name": "stdout",
     "output_type": "stream",
     "text": [
      "Accuracy: 0.19642857142857142\n"
     ]
    }
   ],
   "source": [
    "# Apply the prediction function to the \"prompt\" column\n",
    "df['predicted_token'] = df['prompt'].apply(predict_masked_token)\n",
    "\n",
    "# Calculate accuracy\n",
    "accuracy = (df['predicted_token'] == df['label']).mean()\n",
    "\n",
    "# Print accuracy\n",
    "print(\"Accuracy:\", accuracy)"
   ],
   "metadata": {
    "collapsed": false,
    "ExecuteTime": {
     "end_time": "2023-07-11T10:03:24.125825Z",
     "start_time": "2023-07-11T10:03:11.494456Z"
    }
   }
  },
  {
   "cell_type": "code",
   "execution_count": 30,
   "outputs": [
    {
     "data": {
      "text/plain": "                                                prompt        label  \\\n0    The tourist hired the guides that the locals a...       guides   \n1    The tourists hired the guides that the locals ...       guides   \n2    The tourist hired the guides that two days ago...       guides   \n3    The tourists hired the guides who two days ago...       guides   \n4    The coach removed the gymnasts that the fans d...     gymnasts   \n..                                                 ...          ...   \n107  The editors censored the journalists that last...  journalists   \n108  The donor bored the researchers that interns d...  researchers   \n109  The donors bored the researchers that interns ...  researchers   \n110  The donor bored the researchers that last year...  researchers   \n111  The donors bored the researchers that last yea...  researchers   \n\n    distractor length plural_match predicted_token  \n0      tourist  short     mismatch         tourist  \n1     tourists  short        match        tourists  \n2      tourist   long     mismatch         tourist  \n3     tourists   long        match        tourists  \n4        coach  short     mismatch           coach  \n..         ...    ...          ...             ...  \n107    editors   long        match         editors  \n108      donor  short     mismatch           grant  \n109     donors  short        match     researchers  \n110      donor   long     mismatch           whole  \n111     donors   long        match           whole  \n\n[112 rows x 6 columns]",
      "text/html": "<div>\n<style scoped>\n    .dataframe tbody tr th:only-of-type {\n        vertical-align: middle;\n    }\n\n    .dataframe tbody tr th {\n        vertical-align: top;\n    }\n\n    .dataframe thead th {\n        text-align: right;\n    }\n</style>\n<table border=\"1\" class=\"dataframe\">\n  <thead>\n    <tr style=\"text-align: right;\">\n      <th></th>\n      <th>prompt</th>\n      <th>label</th>\n      <th>distractor</th>\n      <th>length</th>\n      <th>plural_match</th>\n      <th>predicted_token</th>\n    </tr>\n  </thead>\n  <tbody>\n    <tr>\n      <th>0</th>\n      <td>The tourist hired the guides that the locals a...</td>\n      <td>guides</td>\n      <td>tourist</td>\n      <td>short</td>\n      <td>mismatch</td>\n      <td>tourist</td>\n    </tr>\n    <tr>\n      <th>1</th>\n      <td>The tourists hired the guides that the locals ...</td>\n      <td>guides</td>\n      <td>tourists</td>\n      <td>short</td>\n      <td>match</td>\n      <td>tourists</td>\n    </tr>\n    <tr>\n      <th>2</th>\n      <td>The tourist hired the guides that two days ago...</td>\n      <td>guides</td>\n      <td>tourist</td>\n      <td>long</td>\n      <td>mismatch</td>\n      <td>tourist</td>\n    </tr>\n    <tr>\n      <th>3</th>\n      <td>The tourists hired the guides who two days ago...</td>\n      <td>guides</td>\n      <td>tourists</td>\n      <td>long</td>\n      <td>match</td>\n      <td>tourists</td>\n    </tr>\n    <tr>\n      <th>4</th>\n      <td>The coach removed the gymnasts that the fans d...</td>\n      <td>gymnasts</td>\n      <td>coach</td>\n      <td>short</td>\n      <td>mismatch</td>\n      <td>coach</td>\n    </tr>\n    <tr>\n      <th>...</th>\n      <td>...</td>\n      <td>...</td>\n      <td>...</td>\n      <td>...</td>\n      <td>...</td>\n      <td>...</td>\n    </tr>\n    <tr>\n      <th>107</th>\n      <td>The editors censored the journalists that last...</td>\n      <td>journalists</td>\n      <td>editors</td>\n      <td>long</td>\n      <td>match</td>\n      <td>editors</td>\n    </tr>\n    <tr>\n      <th>108</th>\n      <td>The donor bored the researchers that interns d...</td>\n      <td>researchers</td>\n      <td>donor</td>\n      <td>short</td>\n      <td>mismatch</td>\n      <td>grant</td>\n    </tr>\n    <tr>\n      <th>109</th>\n      <td>The donors bored the researchers that interns ...</td>\n      <td>researchers</td>\n      <td>donors</td>\n      <td>short</td>\n      <td>match</td>\n      <td>researchers</td>\n    </tr>\n    <tr>\n      <th>110</th>\n      <td>The donor bored the researchers that last year...</td>\n      <td>researchers</td>\n      <td>donor</td>\n      <td>long</td>\n      <td>mismatch</td>\n      <td>whole</td>\n    </tr>\n    <tr>\n      <th>111</th>\n      <td>The donors bored the researchers that last yea...</td>\n      <td>researchers</td>\n      <td>donors</td>\n      <td>long</td>\n      <td>match</td>\n      <td>whole</td>\n    </tr>\n  </tbody>\n</table>\n<p>112 rows × 6 columns</p>\n</div>"
     },
     "execution_count": 30,
     "metadata": {},
     "output_type": "execute_result"
    }
   ],
   "source": [
    "df"
   ],
   "metadata": {
    "collapsed": false,
    "ExecuteTime": {
     "end_time": "2023-07-11T10:03:24.138195Z",
     "start_time": "2023-07-11T10:03:24.134831Z"
    }
   }
  },
  {
   "cell_type": "code",
   "execution_count": 31,
   "outputs": [],
   "source": [
    "df['correct'] = df['predicted_token'] == df['label']"
   ],
   "metadata": {
    "collapsed": false,
    "ExecuteTime": {
     "end_time": "2023-07-11T10:03:24.144308Z",
     "start_time": "2023-07-11T10:03:24.140739Z"
    }
   }
  },
  {
   "cell_type": "code",
   "execution_count": 9,
   "outputs": [
    {
     "data": {
      "text/plain": "plural_match  length\nmatch         long      0.142857\n              short     0.321429\nmismatch      long      0.107143\n              short     0.214286\nName: correct, dtype: float64"
     },
     "execution_count": 9,
     "metadata": {},
     "output_type": "execute_result"
    }
   ],
   "source": [
    "df.groupby(['plural_match', 'length'])[\"correct\"].mean()"
   ],
   "metadata": {
    "collapsed": false,
    "ExecuteTime": {
     "end_time": "2023-07-11T07:54:38.538793Z",
     "start_time": "2023-07-11T07:54:38.533083Z"
    }
   }
  },
  {
   "cell_type": "code",
   "execution_count": 16,
   "outputs": [
    {
     "ename": "KeyError",
     "evalue": "'Column not found: correct'",
     "output_type": "error",
     "traceback": [
      "\u001B[0;31m---------------------------------------------------------------------------\u001B[0m",
      "\u001B[0;31mKeyError\u001B[0m                                  Traceback (most recent call last)",
      "Cell \u001B[0;32mIn[16], line 1\u001B[0m\n\u001B[0;32m----> 1\u001B[0m \u001B[43mdf\u001B[49m\u001B[38;5;241;43m.\u001B[39;49m\u001B[43mgroupby\u001B[49m\u001B[43m(\u001B[49m\u001B[43m[\u001B[49m\u001B[38;5;124;43m'\u001B[39;49m\u001B[38;5;124;43mplural_match\u001B[39;49m\u001B[38;5;124;43m'\u001B[39;49m\u001B[43m,\u001B[49m\u001B[43m \u001B[49m\u001B[38;5;124;43m'\u001B[39;49m\u001B[38;5;124;43mlength\u001B[39;49m\u001B[38;5;124;43m'\u001B[39;49m\u001B[43m]\u001B[49m\u001B[43m)\u001B[49m\u001B[43m[\u001B[49m\u001B[38;5;124;43m\"\u001B[39;49m\u001B[38;5;124;43mcorrect\u001B[39;49m\u001B[38;5;124;43m\"\u001B[39;49m\u001B[43m]\u001B[49m\u001B[38;5;241m.\u001B[39mmean()\n",
      "File \u001B[0;32m/opt/anaconda3/envs/jupyter_39/lib/python3.9/site-packages/pandas/core/groupby/generic.py:1416\u001B[0m, in \u001B[0;36mDataFrameGroupBy.__getitem__\u001B[0;34m(self, key)\u001B[0m\n\u001B[1;32m   1407\u001B[0m \u001B[38;5;28;01mif\u001B[39;00m \u001B[38;5;28misinstance\u001B[39m(key, \u001B[38;5;28mtuple\u001B[39m) \u001B[38;5;129;01mand\u001B[39;00m \u001B[38;5;28mlen\u001B[39m(key) \u001B[38;5;241m>\u001B[39m \u001B[38;5;241m1\u001B[39m:\n\u001B[1;32m   1408\u001B[0m     \u001B[38;5;66;03m# if len == 1, then it becomes a SeriesGroupBy and this is actually\u001B[39;00m\n\u001B[1;32m   1409\u001B[0m     \u001B[38;5;66;03m# valid syntax, so don't raise warning\u001B[39;00m\n\u001B[1;32m   1410\u001B[0m     warnings\u001B[38;5;241m.\u001B[39mwarn(\n\u001B[1;32m   1411\u001B[0m         \u001B[38;5;124m\"\u001B[39m\u001B[38;5;124mIndexing with multiple keys (implicitly converted to a tuple \u001B[39m\u001B[38;5;124m\"\u001B[39m\n\u001B[1;32m   1412\u001B[0m         \u001B[38;5;124m\"\u001B[39m\u001B[38;5;124mof keys) will be deprecated, use a list instead.\u001B[39m\u001B[38;5;124m\"\u001B[39m,\n\u001B[1;32m   1413\u001B[0m         \u001B[38;5;167;01mFutureWarning\u001B[39;00m,\n\u001B[1;32m   1414\u001B[0m         stacklevel\u001B[38;5;241m=\u001B[39mfind_stack_level(),\n\u001B[1;32m   1415\u001B[0m     )\n\u001B[0;32m-> 1416\u001B[0m \u001B[38;5;28;01mreturn\u001B[39;00m \u001B[38;5;28;43msuper\u001B[39;49m\u001B[43m(\u001B[49m\u001B[43m)\u001B[49m\u001B[38;5;241;43m.\u001B[39;49m\u001B[38;5;21;43m__getitem__\u001B[39;49m\u001B[43m(\u001B[49m\u001B[43mkey\u001B[49m\u001B[43m)\u001B[49m\n",
      "File \u001B[0;32m/opt/anaconda3/envs/jupyter_39/lib/python3.9/site-packages/pandas/core/base.py:248\u001B[0m, in \u001B[0;36mSelectionMixin.__getitem__\u001B[0;34m(self, key)\u001B[0m\n\u001B[1;32m    246\u001B[0m \u001B[38;5;28;01melse\u001B[39;00m:\n\u001B[1;32m    247\u001B[0m     \u001B[38;5;28;01mif\u001B[39;00m key \u001B[38;5;129;01mnot\u001B[39;00m \u001B[38;5;129;01min\u001B[39;00m \u001B[38;5;28mself\u001B[39m\u001B[38;5;241m.\u001B[39mobj:\n\u001B[0;32m--> 248\u001B[0m         \u001B[38;5;28;01mraise\u001B[39;00m \u001B[38;5;167;01mKeyError\u001B[39;00m(\u001B[38;5;124mf\u001B[39m\u001B[38;5;124m\"\u001B[39m\u001B[38;5;124mColumn not found: \u001B[39m\u001B[38;5;132;01m{\u001B[39;00mkey\u001B[38;5;132;01m}\u001B[39;00m\u001B[38;5;124m\"\u001B[39m)\n\u001B[1;32m    249\u001B[0m     subset \u001B[38;5;241m=\u001B[39m \u001B[38;5;28mself\u001B[39m\u001B[38;5;241m.\u001B[39mobj[key]\n\u001B[1;32m    250\u001B[0m     ndim \u001B[38;5;241m=\u001B[39m subset\u001B[38;5;241m.\u001B[39mndim\n",
      "\u001B[0;31mKeyError\u001B[0m: 'Column not found: correct'"
     ]
    }
   ],
   "source": [],
   "metadata": {
    "collapsed": false,
    "ExecuteTime": {
     "end_time": "2023-07-11T10:03:05.127795Z",
     "start_time": "2023-07-11T10:03:04.373653Z"
    }
   }
  },
  {
   "cell_type": "code",
   "execution_count": 10,
   "outputs": [
    {
     "data": {
      "text/plain": "<Figure size 640x480 with 1 Axes>",
      "image/png": "[encoded data removed]"
     },
     "metadata": {},
     "output_type": "display_data"
    }
   ],
   "source": [
    "# plot the accuracy by length\n",
    "import seaborn as sns\n",
    "import matplotlib.pyplot as plt\n",
    "sns.set_theme(style=\"whitegrid\")\n",
    "ax = sns.barplot(x=\"length\", y=\"correct\", hue=\"plural_match\", data=df)\n",
    "plt.show()\n"
   ],
   "metadata": {
    "collapsed": false,
    "ExecuteTime": {
     "end_time": "2023-07-11T07:54:41.256944Z",
     "start_time": "2023-07-11T07:54:41.071865Z"
    }
   }
  },
  {
   "cell_type": "code",
   "execution_count": null,
   "outputs": [],
   "source": [
    "\n",
    "\n"
   ],
   "metadata": {
    "collapsed": false
   }
  }
 ],
 "metadata": {
  "kernelspec": {
   "display_name": "Python 3",
   "language": "python",
   "name": "python3"
  },
  "language_info": {
   "codemirror_mode": {
    "name": "ipython",
    "version": 2
   },
   "file_extension": ".py",
   "mimetype": "text/x-python",
   "name": "python",
   "nbconvert_exporter": "python",
   "pygments_lexer": "ipython2",
   "version": "2.7.6"
  }
 },
 "nbformat": 4,
 "nbformat_minor": 0
}
