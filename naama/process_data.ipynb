{
 "cells": [
  {
   "cell_type": "markdown",
   "source": [
    "# Gordon"
   ],
   "metadata": {
    "collapsed": false
   }
  },
  {
   "cell_type": "code",
   "execution_count": 38,
   "outputs": [
    {
     "name": "stderr",
     "output_type": "stream",
     "text": [
      "[nltk_data] Downloading package punkt to\n",
      "[nltk_data]     C:\\Users\\markf\\AppData\\Roaming\\nltk_data...\n",
      "[nltk_data]   Package punkt is already up-to-date!\n"
     ]
    },
    {
     "data": {
      "text/plain": "True"
     },
     "execution_count": 38,
     "metadata": {},
     "output_type": "execute_result"
    }
   ],
   "source": [
    "import pandas as pd\n",
    "import nltk\n",
    "nltk.download('punkt')"
   ],
   "metadata": {
    "collapsed": false,
    "ExecuteTime": {
     "end_time": "2023-09-02T09:46:46.473740400Z",
     "start_time": "2023-09-02T09:46:46.403528600Z"
    }
   }
  },
  {
   "cell_type": "code",
   "execution_count": 51,
   "outputs": [
    {
     "data": {
      "text/plain": "                                              sentence   \n0    The actress who was in the French director's s...  \\\n1    The camera that was in the French director's s...   \n2    This is the actress who this week in the Frenc...   \n3    This is the camera that this week in the Frenc...   \n4    The student who was yesterday in the class of ...   \n..                                                 ...   \n155  This is the alarm that in the morning in the s...   \n156  The witness who was this week in the hardened ...   \n157  The evidence that was this week in the hardene...   \n158  This is the witness who this week in the harde...   \n159  This is the evidence that this week in the har...   \n\n                                     question dependency    animacy gender   \n0                   The actress hit the vase.        S-V    animate   נקבה  \\\n1                    The camera hit the vase.        S-V  inanimate   נקבה   \n2                   The actress hit the vase.        F-G    animate   נקבה   \n3                    The camera hit the vase.        F-G  inanimate   נקבה   \n4                The student bored the class.        S-V    animate   נקבה   \n..                                        ...        ...        ...    ...   \n155  The officer woke up the combat soldiers.        F-G  inanimate   נקבה   \n156     The criminal indicted the accomplice.        S-V    animate   נקבה   \n157     The criminal indicted the accomplice.        S-V  inanimate   נקבה   \n158     The criminal indicted the accomplice.        F-G    animate   נקבה   \n159     The criminal indicted the accomplice.        F-G  inanimate   נקבה   \n\n    distractor correct_answer  \n0        Match           true  \n1     Mismatch           true  \n2        Match           true  \n3     Mismatch           true  \n4        Match           true  \n..         ...            ...  \n155   Mismatch          false  \n156      Match          false  \n157   Mismatch          false  \n158      Match          false  \n159   Mismatch          false  \n\n[160 rows x 7 columns]",
      "text/html": "<div>\n<style scoped>\n    .dataframe tbody tr th:only-of-type {\n        vertical-align: middle;\n    }\n\n    .dataframe tbody tr th {\n        vertical-align: top;\n    }\n\n    .dataframe thead th {\n        text-align: right;\n    }\n</style>\n<table border=\"1\" class=\"dataframe\">\n  <thead>\n    <tr style=\"text-align: right;\">\n      <th></th>\n      <th>sentence</th>\n      <th>question</th>\n      <th>dependency</th>\n      <th>animacy</th>\n      <th>gender</th>\n      <th>distractor</th>\n      <th>correct_answer</th>\n    </tr>\n  </thead>\n  <tbody>\n    <tr>\n      <th>0</th>\n      <td>The actress who was in the French director's s...</td>\n      <td>The actress hit the vase.</td>\n      <td>S-V</td>\n      <td>animate</td>\n      <td>נקבה</td>\n      <td>Match</td>\n      <td>true</td>\n    </tr>\n    <tr>\n      <th>1</th>\n      <td>The camera that was in the French director's s...</td>\n      <td>The camera hit the vase.</td>\n      <td>S-V</td>\n      <td>inanimate</td>\n      <td>נקבה</td>\n      <td>Mismatch</td>\n      <td>true</td>\n    </tr>\n    <tr>\n      <th>2</th>\n      <td>This is the actress who this week in the Frenc...</td>\n      <td>The actress hit the vase.</td>\n      <td>F-G</td>\n      <td>animate</td>\n      <td>נקבה</td>\n      <td>Match</td>\n      <td>true</td>\n    </tr>\n    <tr>\n      <th>3</th>\n      <td>This is the camera that this week in the Frenc...</td>\n      <td>The camera hit the vase.</td>\n      <td>F-G</td>\n      <td>inanimate</td>\n      <td>נקבה</td>\n      <td>Mismatch</td>\n      <td>true</td>\n    </tr>\n    <tr>\n      <th>4</th>\n      <td>The student who was yesterday in the class of ...</td>\n      <td>The student bored the class.</td>\n      <td>S-V</td>\n      <td>animate</td>\n      <td>נקבה</td>\n      <td>Match</td>\n      <td>true</td>\n    </tr>\n    <tr>\n      <th>...</th>\n      <td>...</td>\n      <td>...</td>\n      <td>...</td>\n      <td>...</td>\n      <td>...</td>\n      <td>...</td>\n      <td>...</td>\n    </tr>\n    <tr>\n      <th>155</th>\n      <td>This is the alarm that in the morning in the s...</td>\n      <td>The officer woke up the combat soldiers.</td>\n      <td>F-G</td>\n      <td>inanimate</td>\n      <td>נקבה</td>\n      <td>Mismatch</td>\n      <td>false</td>\n    </tr>\n    <tr>\n      <th>156</th>\n      <td>The witness who was this week in the hardened ...</td>\n      <td>The criminal indicted the accomplice.</td>\n      <td>S-V</td>\n      <td>animate</td>\n      <td>נקבה</td>\n      <td>Match</td>\n      <td>false</td>\n    </tr>\n    <tr>\n      <th>157</th>\n      <td>The evidence that was this week in the hardene...</td>\n      <td>The criminal indicted the accomplice.</td>\n      <td>S-V</td>\n      <td>inanimate</td>\n      <td>נקבה</td>\n      <td>Mismatch</td>\n      <td>false</td>\n    </tr>\n    <tr>\n      <th>158</th>\n      <td>This is the witness who this week in the harde...</td>\n      <td>The criminal indicted the accomplice.</td>\n      <td>F-G</td>\n      <td>animate</td>\n      <td>נקבה</td>\n      <td>Match</td>\n      <td>false</td>\n    </tr>\n    <tr>\n      <th>159</th>\n      <td>This is the evidence that this week in the har...</td>\n      <td>The criminal indicted the accomplice.</td>\n      <td>F-G</td>\n      <td>inanimate</td>\n      <td>נקבה</td>\n      <td>Mismatch</td>\n      <td>false</td>\n    </tr>\n  </tbody>\n</table>\n<p>160 rows × 7 columns</p>\n</div>"
     },
     "execution_count": 51,
     "metadata": {},
     "output_type": "execute_result"
    }
   ],
   "source": [
    "df_naama = pd.read_json(\"../data/experiment_naama.jsonl\", lines=True)\n",
    "df_naama "
   ],
   "metadata": {
    "collapsed": false,
    "ExecuteTime": {
     "end_time": "2023-09-02T09:51:32.798031100Z",
     "start_time": "2023-09-02T09:51:32.768688700Z"
    }
   }
  },
  {
   "cell_type": "code",
   "execution_count": 52,
   "outputs": [
    {
     "data": {
      "text/plain": "                                             sentence   \n0   The actress who was in the French director's s...  \\\n1   The camera that was in the French director's s...   \n2   This is the actress who this week in the Frenc...   \n3   This is the camera that this week in the Frenc...   \n4   The student who was yesterday in the class of ...   \n..                                                ...   \n75  This is the alarm that in the morning in the s...   \n76  The witness who was this week in the hardened ...   \n77  The evidence that was this week in the hardene...   \n78  This is the witness who this week in the harde...   \n79  This is the evidence that this week in the har...   \n\n                                     question    label1    label2   \n0                   The actress hit the vase.   actress   actress  \\\n1                    The camera hit the vase.    camera    camera   \n2                   The actress hit the vase.   actress   actress   \n3                    The camera hit the vase.    camera    camera   \n4                The student bored the class.   student   student   \n..                                        ...       ...       ...   \n75     The alarm woke up the combat soldiers.     alarm     alarm   \n76   The witness incriminated the accomplice.   witness   witness   \n77  The evidence incriminated the accomplice.  evidence  evidence   \n78   The witness incriminated the accomplice.   witness   witness   \n79  The evidence incriminated the accomplice.  evidence  evidence   \n\n     distractor1   distractor2 dependency    animacy  match  \n0       director      director        S-V    animate   True  \n1       director      director        S-V  inanimate  False  \n2       director      director        F-G    animate   True  \n3       director      director        F-G  inanimate  False  \n4   practitioner  practitioner        S-V    animate   True  \n..           ...           ...        ...        ...    ...  \n75       officer       officer        F-G  inanimate  False  \n76      criminal      criminal        S-V    animate   True  \n77      criminal      criminal        S-V  inanimate  False  \n78      criminal      criminal        F-G    animate   True  \n79      criminal      criminal        F-G  inanimate  False  \n\n[80 rows x 9 columns]",
      "text/html": "<div>\n<style scoped>\n    .dataframe tbody tr th:only-of-type {\n        vertical-align: middle;\n    }\n\n    .dataframe tbody tr th {\n        vertical-align: top;\n    }\n\n    .dataframe thead th {\n        text-align: right;\n    }\n</style>\n<table border=\"1\" class=\"dataframe\">\n  <thead>\n    <tr style=\"text-align: right;\">\n      <th></th>\n      <th>sentence</th>\n      <th>question</th>\n      <th>label1</th>\n      <th>label2</th>\n      <th>distractor1</th>\n      <th>distractor2</th>\n      <th>dependency</th>\n      <th>animacy</th>\n      <th>match</th>\n    </tr>\n  </thead>\n  <tbody>\n    <tr>\n      <th>0</th>\n      <td>The actress who was in the French director's s...</td>\n      <td>The actress hit the vase.</td>\n      <td>actress</td>\n      <td>actress</td>\n      <td>director</td>\n      <td>director</td>\n      <td>S-V</td>\n      <td>animate</td>\n      <td>True</td>\n    </tr>\n    <tr>\n      <th>1</th>\n      <td>The camera that was in the French director's s...</td>\n      <td>The camera hit the vase.</td>\n      <td>camera</td>\n      <td>camera</td>\n      <td>director</td>\n      <td>director</td>\n      <td>S-V</td>\n      <td>inanimate</td>\n      <td>False</td>\n    </tr>\n    <tr>\n      <th>2</th>\n      <td>This is the actress who this week in the Frenc...</td>\n      <td>The actress hit the vase.</td>\n      <td>actress</td>\n      <td>actress</td>\n      <td>director</td>\n      <td>director</td>\n      <td>F-G</td>\n      <td>animate</td>\n      <td>True</td>\n    </tr>\n    <tr>\n      <th>3</th>\n      <td>This is the camera that this week in the Frenc...</td>\n      <td>The camera hit the vase.</td>\n      <td>camera</td>\n      <td>camera</td>\n      <td>director</td>\n      <td>director</td>\n      <td>F-G</td>\n      <td>inanimate</td>\n      <td>False</td>\n    </tr>\n    <tr>\n      <th>4</th>\n      <td>The student who was yesterday in the class of ...</td>\n      <td>The student bored the class.</td>\n      <td>student</td>\n      <td>student</td>\n      <td>practitioner</td>\n      <td>practitioner</td>\n      <td>S-V</td>\n      <td>animate</td>\n      <td>True</td>\n    </tr>\n    <tr>\n      <th>...</th>\n      <td>...</td>\n      <td>...</td>\n      <td>...</td>\n      <td>...</td>\n      <td>...</td>\n      <td>...</td>\n      <td>...</td>\n      <td>...</td>\n      <td>...</td>\n    </tr>\n    <tr>\n      <th>75</th>\n      <td>This is the alarm that in the morning in the s...</td>\n      <td>The alarm woke up the combat soldiers.</td>\n      <td>alarm</td>\n      <td>alarm</td>\n      <td>officer</td>\n      <td>officer</td>\n      <td>F-G</td>\n      <td>inanimate</td>\n      <td>False</td>\n    </tr>\n    <tr>\n      <th>76</th>\n      <td>The witness who was this week in the hardened ...</td>\n      <td>The witness incriminated the accomplice.</td>\n      <td>witness</td>\n      <td>witness</td>\n      <td>criminal</td>\n      <td>criminal</td>\n      <td>S-V</td>\n      <td>animate</td>\n      <td>True</td>\n    </tr>\n    <tr>\n      <th>77</th>\n      <td>The evidence that was this week in the hardene...</td>\n      <td>The evidence incriminated the accomplice.</td>\n      <td>evidence</td>\n      <td>evidence</td>\n      <td>criminal</td>\n      <td>criminal</td>\n      <td>S-V</td>\n      <td>inanimate</td>\n      <td>False</td>\n    </tr>\n    <tr>\n      <th>78</th>\n      <td>This is the witness who this week in the harde...</td>\n      <td>The witness incriminated the accomplice.</td>\n      <td>witness</td>\n      <td>witness</td>\n      <td>criminal</td>\n      <td>criminal</td>\n      <td>F-G</td>\n      <td>animate</td>\n      <td>True</td>\n    </tr>\n    <tr>\n      <th>79</th>\n      <td>This is the evidence that this week in the har...</td>\n      <td>The evidence incriminated the accomplice.</td>\n      <td>evidence</td>\n      <td>evidence</td>\n      <td>criminal</td>\n      <td>criminal</td>\n      <td>F-G</td>\n      <td>inanimate</td>\n      <td>False</td>\n    </tr>\n  </tbody>\n</table>\n<p>80 rows × 9 columns</p>\n</div>"
     },
     "execution_count": 52,
     "metadata": {},
     "output_type": "execute_result"
    }
   ],
   "source": [
    "# add 'distractor' and 'label' columns\n",
    "\n",
    "pd.options.mode.chained_assignment = None  # default='warn'\n",
    "\n",
    "df_naama['match'] = df_naama['distractor'].apply(lambda x: True if x == 'Match' else False)\n",
    "\n",
    "new_naama_df = df_naama[df_naama['correct_answer'] == 'true']\n",
    "new_naama_df_false = df_naama[df_naama['correct_answer'] == 'false']\n",
    "\n",
    "new_naama_df['label'] = new_naama_df['question'].apply(lambda x: x.split()[1])\n",
    "new_naama_df_false['distractor'] = new_naama_df_false['question'].apply(lambda x: x.split()[1])\n",
    "\n",
    "merged_df = pd.merge(new_naama_df, new_naama_df_false, on='sentence', how='inner')\n",
    "new_naama_df['distractor'] = merged_df['distractor_y']\n",
    "new_naama_df.drop(['correct_answer', 'gender'], axis=1, inplace=True)\n",
    "df_naama = new_naama_df\n",
    "df_naama\n"
   ],
   "metadata": {
    "collapsed": false,
    "ExecuteTime": {
     "end_time": "2023-09-02T09:52:10.620627100Z",
     "start_time": "2023-09-02T09:51:34.895334800Z"
    }
   }
  },
  {
   "cell_type": "code",
   "execution_count": 54,
   "outputs": [
    {
     "data": {
      "text/plain": "                                               prompt    label1    label2   \n0   The actress who was in the French director's s...   actress   actress  \\\n1   The camera that was in the French director's s...    camera    camera   \n2   This is the actress who this week in the Frenc...   actress   actress   \n3   This is the camera that this week in the Frenc...    camera    camera   \n4   The student who was yesterday in the class of ...   student   student   \n..                                                ...       ...       ...   \n75  This is the alarm that in the morning in the s...     alarm     alarm   \n76  The witness who was this week in the hardened ...   witness   witness   \n77  The evidence that was this week in the hardene...  evidence  evidence   \n78  This is the witness who this week in the harde...   witness   witness   \n79  This is the evidence that this week in the har...  evidence  evidence   \n\n     distractor1   distractor2 dependency    animacy  match  \n0       director      director        S-V    animate   True  \n1       director      director        S-V  inanimate  False  \n2       director      director        F-G    animate   True  \n3       director      director        F-G  inanimate  False  \n4   practitioner  practitioner        S-V    animate   True  \n..           ...           ...        ...        ...    ...  \n75       officer       officer        F-G  inanimate  False  \n76      criminal      criminal        S-V    animate   True  \n77      criminal      criminal        S-V  inanimate  False  \n78      criminal      criminal        F-G    animate   True  \n79      criminal      criminal        F-G  inanimate  False  \n\n[80 rows x 8 columns]",
      "text/html": "<div>\n<style scoped>\n    .dataframe tbody tr th:only-of-type {\n        vertical-align: middle;\n    }\n\n    .dataframe tbody tr th {\n        vertical-align: top;\n    }\n\n    .dataframe thead th {\n        text-align: right;\n    }\n</style>\n<table border=\"1\" class=\"dataframe\">\n  <thead>\n    <tr style=\"text-align: right;\">\n      <th></th>\n      <th>prompt</th>\n      <th>label1</th>\n      <th>label2</th>\n      <th>distractor1</th>\n      <th>distractor2</th>\n      <th>dependency</th>\n      <th>animacy</th>\n      <th>match</th>\n    </tr>\n  </thead>\n  <tbody>\n    <tr>\n      <th>0</th>\n      <td>The actress who was in the French director's s...</td>\n      <td>actress</td>\n      <td>actress</td>\n      <td>director</td>\n      <td>director</td>\n      <td>S-V</td>\n      <td>animate</td>\n      <td>True</td>\n    </tr>\n    <tr>\n      <th>1</th>\n      <td>The camera that was in the French director's s...</td>\n      <td>camera</td>\n      <td>camera</td>\n      <td>director</td>\n      <td>director</td>\n      <td>S-V</td>\n      <td>inanimate</td>\n      <td>False</td>\n    </tr>\n    <tr>\n      <th>2</th>\n      <td>This is the actress who this week in the Frenc...</td>\n      <td>actress</td>\n      <td>actress</td>\n      <td>director</td>\n      <td>director</td>\n      <td>F-G</td>\n      <td>animate</td>\n      <td>True</td>\n    </tr>\n    <tr>\n      <th>3</th>\n      <td>This is the camera that this week in the Frenc...</td>\n      <td>camera</td>\n      <td>camera</td>\n      <td>director</td>\n      <td>director</td>\n      <td>F-G</td>\n      <td>inanimate</td>\n      <td>False</td>\n    </tr>\n    <tr>\n      <th>4</th>\n      <td>The student who was yesterday in the class of ...</td>\n      <td>student</td>\n      <td>student</td>\n      <td>practitioner</td>\n      <td>practitioner</td>\n      <td>S-V</td>\n      <td>animate</td>\n      <td>True</td>\n    </tr>\n    <tr>\n      <th>...</th>\n      <td>...</td>\n      <td>...</td>\n      <td>...</td>\n      <td>...</td>\n      <td>...</td>\n      <td>...</td>\n      <td>...</td>\n      <td>...</td>\n    </tr>\n    <tr>\n      <th>75</th>\n      <td>This is the alarm that in the morning in the s...</td>\n      <td>alarm</td>\n      <td>alarm</td>\n      <td>officer</td>\n      <td>officer</td>\n      <td>F-G</td>\n      <td>inanimate</td>\n      <td>False</td>\n    </tr>\n    <tr>\n      <th>76</th>\n      <td>The witness who was this week in the hardened ...</td>\n      <td>witness</td>\n      <td>witness</td>\n      <td>criminal</td>\n      <td>criminal</td>\n      <td>S-V</td>\n      <td>animate</td>\n      <td>True</td>\n    </tr>\n    <tr>\n      <th>77</th>\n      <td>The evidence that was this week in the hardene...</td>\n      <td>evidence</td>\n      <td>evidence</td>\n      <td>criminal</td>\n      <td>criminal</td>\n      <td>S-V</td>\n      <td>inanimate</td>\n      <td>False</td>\n    </tr>\n    <tr>\n      <th>78</th>\n      <td>This is the witness who this week in the harde...</td>\n      <td>witness</td>\n      <td>witness</td>\n      <td>criminal</td>\n      <td>criminal</td>\n      <td>F-G</td>\n      <td>animate</td>\n      <td>True</td>\n    </tr>\n    <tr>\n      <th>79</th>\n      <td>This is the evidence that this week in the har...</td>\n      <td>evidence</td>\n      <td>evidence</td>\n      <td>criminal</td>\n      <td>criminal</td>\n      <td>F-G</td>\n      <td>inanimate</td>\n      <td>False</td>\n    </tr>\n  </tbody>\n</table>\n<p>80 rows × 8 columns</p>\n</div>"
     },
     "execution_count": 54,
     "metadata": {},
     "output_type": "execute_result"
    }
   ],
   "source": [
    "# add 'prompt' column\n",
    "\n",
    "df_naama['prompt'] = df_naama['sentence'] + ' ' + df_naama['question'].apply(lambda x: ' '.join(x.split()[:1]) + ' [MASK]')+ ' ' + df_naama['question'].apply(lambda x: ' '.join(x.split()[2:]))\n",
    "df_naama = df_naama[['prompt', 'label', 'distractor', 'dependency', 'animacy', 'match']]\n",
    "df_naama"
   ],
   "metadata": {
    "collapsed": false,
    "ExecuteTime": {
     "end_time": "2023-09-02T09:53:16.150536700Z",
     "start_time": "2023-09-02T09:53:16.121806600Z"
    }
   }
  },
  {
   "cell_type": "markdown",
   "source": [
    "prompt | label | distractor | dependency | animacy | match\n",
    "- if animacy = animate then match = True, if animacy = inanimate then match = False (we can remove one of them)\n",
    "- we want to aggregate results based on dependency & animacy"
   ],
   "metadata": {
    "collapsed": false
   }
  },
  {
   "cell_type": "code",
   "execution_count": 55,
   "outputs": [],
   "source": [
    "df_naama.to_csv(\"../data_processed/naama.csv\", index=False)"
   ],
   "metadata": {
    "collapsed": false,
    "ExecuteTime": {
     "end_time": "2023-09-02T09:53:20.332680800Z",
     "start_time": "2023-09-02T09:53:20.315042500Z"
    }
   }
  },
  {
   "cell_type": "code",
   "execution_count": 14,
   "outputs": [
    {
     "data": {
      "text/plain": "                                               prompt   label distractor\n10  My dad loves riding his bike, and my mom loves...     mom        dad\n11  The city is located far from me while the park...    city       park\n12  I really like pizza and I hate beet. I usually...   pizza       beet\n13  My friend is really nice to me, while my teach...  friend    teacher",
      "text/html": "<div>\n<style scoped>\n    .dataframe tbody tr th:only-of-type {\n        vertical-align: middle;\n    }\n\n    .dataframe tbody tr th {\n        vertical-align: top;\n    }\n\n    .dataframe thead th {\n        text-align: right;\n    }\n</style>\n<table border=\"1\" class=\"dataframe\">\n  <thead>\n    <tr style=\"text-align: right;\">\n      <th></th>\n      <th>prompt</th>\n      <th>label</th>\n      <th>distractor</th>\n    </tr>\n  </thead>\n  <tbody>\n    <tr>\n      <th>10</th>\n      <td>My dad loves riding his bike, and my mom loves...</td>\n      <td>mom</td>\n      <td>dad</td>\n    </tr>\n    <tr>\n      <th>11</th>\n      <td>The city is located far from me while the park...</td>\n      <td>city</td>\n      <td>park</td>\n    </tr>\n    <tr>\n      <th>12</th>\n      <td>I really like pizza and I hate beet. I usually...</td>\n      <td>pizza</td>\n      <td>beet</td>\n    </tr>\n    <tr>\n      <th>13</th>\n      <td>My friend is really nice to me, while my teach...</td>\n      <td>friend</td>\n      <td>teacher</td>\n    </tr>\n  </tbody>\n</table>\n</div>"
     },
     "execution_count": 14,
     "metadata": {},
     "output_type": "execute_result"
    }
   ],
   "source": [
    "import pandas as pd\n",
    "\n",
    "data = {\n",
    "    'Hint Sentence': [\n",
    "        \"Many fruits come in various colors, such as yellow.\",\n",
    "        \"Sarah's daily routine involves going to school.\",\n",
    "        \"One of his favorite hobbies is playing musical instruments.\",\n",
    "        \"Cats often take a nap after a tiring day.\",\n",
    "        \"It slipped my mind, but I forgot to complete my homework.\",\n",
    "        \"People savor delicious food like pizza on hot summer days.\",\n",
    "        \"During the weekends, she frequently engages in a particular activity.\",\n",
    "        \"As he left, he had a smile on his face.\",\n",
    "        \"Out of nowhere, a small animal suddenly dashed away.\",\n",
    "        \"Despite searching high and low, I couldn't locate my keys.\"\n",
    "    ],\n",
    "    'prompt': [\n",
    "        \"The banana is [MASK].\",\n",
    "        \"She [MASK] to school.\",\n",
    "        \"He plays the [MASK] with his pick.\",\n",
    "        \"The cat is [MASK].\",\n",
    "        \"I [MASK] my homework.\",\n",
    "        \"They are eating [MASK].\",\n",
    "        \"She likes to [MASK].\",\n",
    "        \"He is wearing a [MASK].\",\n",
    "        \"The dog chased the [MASK].\",\n",
    "        \"I can't find my [MASK].\"\n",
    "    ],\n",
    "    'label': [\n",
    "        \"yellow\",\n",
    "        \"walks\",\n",
    "        \"guitar\",\n",
    "        \"sleeping\",\n",
    "        \"forgot\",\n",
    "        \"pizza\",\n",
    "        \"swim\",\n",
    "        \"hat\",\n",
    "        \"squirrel\",\n",
    "        \"keys\"\n",
    "    ],\n",
    "    'distractor': [\n",
    "        \"red\",\n",
    "        \"swims\",\n",
    "        \"piano\",\n",
    "        \"jumping\",\n",
    "        \"finished\",\n",
    "        \"ice cream\",\n",
    "        \"read\",\n",
    "        \"scarf\",\n",
    "        \"butterfly\",\n",
    "        \"book\"\n",
    "    ]\n",
    "}\n",
    "\n",
    "\n",
    "df = pd.DataFrame(data)\n",
    "df['prompt'] = df['Hint Sentence'] + ' ' + df['prompt']\n",
    "df.drop(['Hint Sentence'], axis=1, inplace=True)\n",
    "df = pd.concat([df, pd.DataFrame({'prompt': ['My dad loves riding his bike, and my mom loves driving her car. My [MASK] drove me to school.'], 'label': ['mom'], 'distractor': ['dad']})], ignore_index=True)\n",
    "df = pd.concat([df, pd.DataFrame({'prompt': ['The city is located far from me while the park is close. It took me a long ime to get to the [MASK].'], 'label': ['city'], 'distractor': ['park']})], ignore_index=True)\n",
    "df = pd.concat([df, pd.DataFrame({'prompt': ['I really like pizza and I hate beet. I usually eat [MASK].'], 'label': ['pizza'], 'distractor': ['beet']})], ignore_index=True)\n",
    "df = pd.concat([df, pd.DataFrame({'prompt': ['My friend is really nice to me, while my teacher is really mean. My [MASK] screamed at me.'], 'label': ['friend'], 'distractor': ['teacher']})], ignore_index=True)\n",
    "df = pd.concat([df, pd.DataFrame({'prompt': ['The dog has two wings instead of four legs, and he uses it to fly to the park.'], 'label': ['pizza'], 'distractor': ['beet']})], ignore_index=True)\n",
    "\n",
    "\n",
    "new_df = df.tail(4).copy()\n",
    "new_df.to_csv(\"../data_processed/new_test.csv\", index=False)\n",
    "new_df.head(20)"
   ],
   "metadata": {
    "collapsed": false,
    "ExecuteTime": {
     "end_time": "2023-09-01T09:22:49.981308Z",
     "start_time": "2023-09-01T09:22:49.953295800Z"
    }
   }
  },
  {
   "cell_type": "code",
   "execution_count": null,
   "outputs": [],
   "source": [],
   "metadata": {
    "collapsed": false
   }
  }
 ],
 "metadata": {
  "kernelspec": {
   "display_name": "Python 3",
   "language": "python",
   "name": "python3"
  },
  "language_info": {
   "codemirror_mode": {
    "name": "ipython",
    "version": 2
   },
   "file_extension": ".py",
   "mimetype": "text/x-python",
   "name": "python",
   "nbconvert_exporter": "python",
   "pygments_lexer": "ipython2",
   "version": "2.7.6"
  }
 },
 "nbformat": 4,
 "nbformat_minor": 0
}
