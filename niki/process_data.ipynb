{
 "cells": [
  {
   "cell_type": "code",
   "execution_count": 2,
   "outputs": [
    {
     "name": "stderr",
     "output_type": "stream",
     "text": [
      "[nltk_data] Downloading package punkt to\n",
      "[nltk_data]     /Users/yaara.shriki/nltk_data...\n",
      "[nltk_data]   Package punkt is already up-to-date!\n"
     ]
    },
    {
     "data": {
      "text/plain": "True"
     },
     "execution_count": 2,
     "metadata": {},
     "output_type": "execute_result"
    }
   ],
   "source": [
    "import pandas as pd\n",
    "import nltk\n",
    "nltk.download('punkt')"
   ],
   "metadata": {
    "collapsed": false,
    "ExecuteTime": {
     "end_time": "2023-09-05T12:59:48.642362Z",
     "start_time": "2023-09-05T12:59:47.244195Z"
    }
   }
  },
  {
   "cell_type": "code",
   "execution_count": 3,
   "outputs": [
    {
     "data": {
      "text/plain": "                                              sentence  \\\n0    The tourist hired the guides that the locals a...   \n1    The tourists hired the guides that the locals ...   \n2    The tourist hired the guides that two days ago...   \n3    The tourists hired the guides who two days ago...   \n4    The tourist hired the guides that the locals a...   \n..                                                 ...   \n251  The donors bored the researchers that last yea...   \n252  The donor bored the researchers that interns d...   \n253  The donors bored the researchers that interns ...   \n254  The donor bored the researchers that last year...   \n255  The donors bored the researchers that last yea...   \n\n                                     question question_type length  \\\n0            Did the locals anger the guides?      filler-Q  short   \n1            Did the locals anger the guides?  distractor-Q  short   \n2            Did the locals anger the guides?      filler-Q   long   \n3            Did the locals anger the guides?  distractor-Q   long   \n4           Did the locals anger the tourist?      filler-Q  short   \n..                                        ...           ...    ...   \n251  Did the interns disturb the researchers?  distractor-Q   long   \n252        Did the interns disturb the donor?      filler-Q  short   \n253       Did the interns disturb the donors?  distractor-Q  short   \n254        Did the interns disturb the donor?      filler-Q   long   \n255       Did the interns disturb the donors?  distractor-Q   long   \n\n    gender_match correct_answer  \n0       mismatch           true  \n1          match           true  \n2       mismatch           true  \n3          match           true  \n4       mismatch          false  \n..           ...            ...  \n251        match           true  \n252     mismatch          false  \n253        match          false  \n254     mismatch          false  \n255        match          false  \n\n[256 rows x 6 columns]",
      "text/html": "<div>\n<style scoped>\n    .dataframe tbody tr th:only-of-type {\n        vertical-align: middle;\n    }\n\n    .dataframe tbody tr th {\n        vertical-align: top;\n    }\n\n    .dataframe thead th {\n        text-align: right;\n    }\n</style>\n<table border=\"1\" class=\"dataframe\">\n  <thead>\n    <tr style=\"text-align: right;\">\n      <th></th>\n      <th>sentence</th>\n      <th>question</th>\n      <th>question_type</th>\n      <th>length</th>\n      <th>gender_match</th>\n      <th>correct_answer</th>\n    </tr>\n  </thead>\n  <tbody>\n    <tr>\n      <th>0</th>\n      <td>The tourist hired the guides that the locals a...</td>\n      <td>Did the locals anger the guides?</td>\n      <td>filler-Q</td>\n      <td>short</td>\n      <td>mismatch</td>\n      <td>true</td>\n    </tr>\n    <tr>\n      <th>1</th>\n      <td>The tourists hired the guides that the locals ...</td>\n      <td>Did the locals anger the guides?</td>\n      <td>distractor-Q</td>\n      <td>short</td>\n      <td>match</td>\n      <td>true</td>\n    </tr>\n    <tr>\n      <th>2</th>\n      <td>The tourist hired the guides that two days ago...</td>\n      <td>Did the locals anger the guides?</td>\n      <td>filler-Q</td>\n      <td>long</td>\n      <td>mismatch</td>\n      <td>true</td>\n    </tr>\n    <tr>\n      <th>3</th>\n      <td>The tourists hired the guides who two days ago...</td>\n      <td>Did the locals anger the guides?</td>\n      <td>distractor-Q</td>\n      <td>long</td>\n      <td>match</td>\n      <td>true</td>\n    </tr>\n    <tr>\n      <th>4</th>\n      <td>The tourist hired the guides that the locals a...</td>\n      <td>Did the locals anger the tourist?</td>\n      <td>filler-Q</td>\n      <td>short</td>\n      <td>mismatch</td>\n      <td>false</td>\n    </tr>\n    <tr>\n      <th>...</th>\n      <td>...</td>\n      <td>...</td>\n      <td>...</td>\n      <td>...</td>\n      <td>...</td>\n      <td>...</td>\n    </tr>\n    <tr>\n      <th>251</th>\n      <td>The donors bored the researchers that last yea...</td>\n      <td>Did the interns disturb the researchers?</td>\n      <td>distractor-Q</td>\n      <td>long</td>\n      <td>match</td>\n      <td>true</td>\n    </tr>\n    <tr>\n      <th>252</th>\n      <td>The donor bored the researchers that interns d...</td>\n      <td>Did the interns disturb the donor?</td>\n      <td>filler-Q</td>\n      <td>short</td>\n      <td>mismatch</td>\n      <td>false</td>\n    </tr>\n    <tr>\n      <th>253</th>\n      <td>The donors bored the researchers that interns ...</td>\n      <td>Did the interns disturb the donors?</td>\n      <td>distractor-Q</td>\n      <td>short</td>\n      <td>match</td>\n      <td>false</td>\n    </tr>\n    <tr>\n      <th>254</th>\n      <td>The donor bored the researchers that last year...</td>\n      <td>Did the interns disturb the donor?</td>\n      <td>filler-Q</td>\n      <td>long</td>\n      <td>mismatch</td>\n      <td>false</td>\n    </tr>\n    <tr>\n      <th>255</th>\n      <td>The donors bored the researchers that last yea...</td>\n      <td>Did the interns disturb the donors?</td>\n      <td>distractor-Q</td>\n      <td>long</td>\n      <td>match</td>\n      <td>false</td>\n    </tr>\n  </tbody>\n</table>\n<p>256 rows × 6 columns</p>\n</div>"
     },
     "execution_count": 3,
     "metadata": {},
     "output_type": "execute_result"
    }
   ],
   "source": [
    "df_niki = pd.read_json(path_or_buf=\"../data/experiment_niki.jsonl\", lines=True)\n",
    "df_niki"
   ],
   "metadata": {
    "collapsed": false,
    "ExecuteTime": {
     "end_time": "2023-09-05T12:59:48.677091Z",
     "start_time": "2023-09-05T12:59:48.641687Z"
    }
   }
  },
  {
   "cell_type": "code",
   "execution_count": 4,
   "outputs": [
    {
     "data": {
      "text/plain": "                                            sentence  \\\n1  The tourists hired the guides that the locals ...   \n5  The tourists hired the guides that the locals ...   \n\n                             question question_type length gender_match  \\\n1    Did the locals anger the guides?  distractor-Q  short        match   \n5  Did the locals anger the tourists?  distractor-Q  short        match   \n\n  correct_answer  \n1           true  \n5          false  ",
      "text/html": "<div>\n<style scoped>\n    .dataframe tbody tr th:only-of-type {\n        vertical-align: middle;\n    }\n\n    .dataframe tbody tr th {\n        vertical-align: top;\n    }\n\n    .dataframe thead th {\n        text-align: right;\n    }\n</style>\n<table border=\"1\" class=\"dataframe\">\n  <thead>\n    <tr style=\"text-align: right;\">\n      <th></th>\n      <th>sentence</th>\n      <th>question</th>\n      <th>question_type</th>\n      <th>length</th>\n      <th>gender_match</th>\n      <th>correct_answer</th>\n    </tr>\n  </thead>\n  <tbody>\n    <tr>\n      <th>1</th>\n      <td>The tourists hired the guides that the locals ...</td>\n      <td>Did the locals anger the guides?</td>\n      <td>distractor-Q</td>\n      <td>short</td>\n      <td>match</td>\n      <td>true</td>\n    </tr>\n    <tr>\n      <th>5</th>\n      <td>The tourists hired the guides that the locals ...</td>\n      <td>Did the locals anger the tourists?</td>\n      <td>distractor-Q</td>\n      <td>short</td>\n      <td>match</td>\n      <td>false</td>\n    </tr>\n  </tbody>\n</table>\n</div>"
     },
     "execution_count": 4,
     "metadata": {},
     "output_type": "execute_result"
    }
   ],
   "source": [
    "# example\n",
    "df_niki[df_niki[\"sentence\"] == \"The tourists hired the guides that the locals angered due to a misunderstanding\"]"
   ],
   "metadata": {
    "collapsed": false,
    "ExecuteTime": {
     "end_time": "2023-09-05T12:59:48.677708Z",
     "start_time": "2023-09-05T12:59:48.667063Z"
    }
   }
  },
  {
   "cell_type": "code",
   "execution_count": 5,
   "outputs": [],
   "source": [
    "df_niki = df_niki.query(\"correct_answer == 'true'\").reset_index(drop=True)"
   ],
   "metadata": {
    "collapsed": false,
    "ExecuteTime": {
     "end_time": "2023-09-05T12:59:48.677809Z",
     "start_time": "2023-09-05T12:59:48.676679Z"
    }
   }
  },
  {
   "cell_type": "code",
   "execution_count": 6,
   "outputs": [
    {
     "data": {
      "text/plain": "                                              sentence  \\\n0    The tourist hired the guides that the locals a...   \n1    The tourists hired the guides that the locals ...   \n2    The tourist hired the guides that two days ago...   \n3    The tourists hired the guides who two days ago...   \n4    The coach removed the gymnasts that the fans d...   \n..                                                 ...   \n123  The editors censored the journalists that last...   \n124  The donor bored the researchers that interns d...   \n125  The donors bored the researchers that interns ...   \n126  The donor bored the researchers that last year...   \n127  The donors bored the researchers that last yea...   \n\n                                       question question_type length  \\\n0              Did the locals anger the guides?      filler-Q  short   \n1              Did the locals anger the guides?  distractor-Q  short   \n2              Did the locals anger the guides?      filler-Q   long   \n3              Did the locals anger the guides?  distractor-Q   long   \n4         Did the fans disrespect the gymnasts?      filler-Q  short   \n..                                          ...           ...    ...   \n123  Did the readers influence the journalists?  distractor-Q   long   \n124    Did the interns disturb the researchers?      filler-Q  short   \n125    Did the interns disturb the researchers?  distractor-Q  short   \n126    Did the interns disturb the researchers?      filler-Q   long   \n127    Did the interns disturb the researchers?  distractor-Q   long   \n\n    gender_match correct_answer  \n0       mismatch           true  \n1          match           true  \n2       mismatch           true  \n3          match           true  \n4       mismatch           true  \n..           ...            ...  \n123        match           true  \n124     mismatch           true  \n125        match           true  \n126     mismatch           true  \n127        match           true  \n\n[128 rows x 6 columns]",
      "text/html": "<div>\n<style scoped>\n    .dataframe tbody tr th:only-of-type {\n        vertical-align: middle;\n    }\n\n    .dataframe tbody tr th {\n        vertical-align: top;\n    }\n\n    .dataframe thead th {\n        text-align: right;\n    }\n</style>\n<table border=\"1\" class=\"dataframe\">\n  <thead>\n    <tr style=\"text-align: right;\">\n      <th></th>\n      <th>sentence</th>\n      <th>question</th>\n      <th>question_type</th>\n      <th>length</th>\n      <th>gender_match</th>\n      <th>correct_answer</th>\n    </tr>\n  </thead>\n  <tbody>\n    <tr>\n      <th>0</th>\n      <td>The tourist hired the guides that the locals a...</td>\n      <td>Did the locals anger the guides?</td>\n      <td>filler-Q</td>\n      <td>short</td>\n      <td>mismatch</td>\n      <td>true</td>\n    </tr>\n    <tr>\n      <th>1</th>\n      <td>The tourists hired the guides that the locals ...</td>\n      <td>Did the locals anger the guides?</td>\n      <td>distractor-Q</td>\n      <td>short</td>\n      <td>match</td>\n      <td>true</td>\n    </tr>\n    <tr>\n      <th>2</th>\n      <td>The tourist hired the guides that two days ago...</td>\n      <td>Did the locals anger the guides?</td>\n      <td>filler-Q</td>\n      <td>long</td>\n      <td>mismatch</td>\n      <td>true</td>\n    </tr>\n    <tr>\n      <th>3</th>\n      <td>The tourists hired the guides who two days ago...</td>\n      <td>Did the locals anger the guides?</td>\n      <td>distractor-Q</td>\n      <td>long</td>\n      <td>match</td>\n      <td>true</td>\n    </tr>\n    <tr>\n      <th>4</th>\n      <td>The coach removed the gymnasts that the fans d...</td>\n      <td>Did the fans disrespect the gymnasts?</td>\n      <td>filler-Q</td>\n      <td>short</td>\n      <td>mismatch</td>\n      <td>true</td>\n    </tr>\n    <tr>\n      <th>...</th>\n      <td>...</td>\n      <td>...</td>\n      <td>...</td>\n      <td>...</td>\n      <td>...</td>\n      <td>...</td>\n    </tr>\n    <tr>\n      <th>123</th>\n      <td>The editors censored the journalists that last...</td>\n      <td>Did the readers influence the journalists?</td>\n      <td>distractor-Q</td>\n      <td>long</td>\n      <td>match</td>\n      <td>true</td>\n    </tr>\n    <tr>\n      <th>124</th>\n      <td>The donor bored the researchers that interns d...</td>\n      <td>Did the interns disturb the researchers?</td>\n      <td>filler-Q</td>\n      <td>short</td>\n      <td>mismatch</td>\n      <td>true</td>\n    </tr>\n    <tr>\n      <th>125</th>\n      <td>The donors bored the researchers that interns ...</td>\n      <td>Did the interns disturb the researchers?</td>\n      <td>distractor-Q</td>\n      <td>short</td>\n      <td>match</td>\n      <td>true</td>\n    </tr>\n    <tr>\n      <th>126</th>\n      <td>The donor bored the researchers that last year...</td>\n      <td>Did the interns disturb the researchers?</td>\n      <td>filler-Q</td>\n      <td>long</td>\n      <td>mismatch</td>\n      <td>true</td>\n    </tr>\n    <tr>\n      <th>127</th>\n      <td>The donors bored the researchers that last yea...</td>\n      <td>Did the interns disturb the researchers?</td>\n      <td>distractor-Q</td>\n      <td>long</td>\n      <td>match</td>\n      <td>true</td>\n    </tr>\n  </tbody>\n</table>\n<p>128 rows × 6 columns</p>\n</div>"
     },
     "execution_count": 6,
     "metadata": {},
     "output_type": "execute_result"
    }
   ],
   "source": [
    "df_niki"
   ],
   "metadata": {
    "collapsed": false,
    "ExecuteTime": {
     "end_time": "2023-09-05T12:59:48.688035Z",
     "start_time": "2023-09-05T12:59:48.682193Z"
    }
   }
  },
  {
   "cell_type": "code",
   "execution_count": 7,
   "outputs": [],
   "source": [
    "# change the question where it is like \"Did the musicians excited the producers?\" to \"Did the musicians excite the producers?\"\n",
    "df_niki.loc[df_niki.question.str.contains(\"heard\"), \"question\"] = df_niki.question.str.replace(\"heard\", \"hear\")\n",
    "df_niki.loc[df_niki.question.str.contains(\"excited\"), \"question\"] = df_niki.question.str.replace(\"excited\", \"excite\")"
   ],
   "metadata": {
    "collapsed": false,
    "ExecuteTime": {
     "end_time": "2023-09-05T12:59:48.694295Z",
     "start_time": "2023-09-05T12:59:48.690190Z"
    }
   }
  },
  {
   "cell_type": "code",
   "execution_count": 8,
   "outputs": [
    {
     "name": "stderr",
     "output_type": "stream",
     "text": [
      "/var/folders/6f/bw7y_knd19g_q43g3ng4jbnr0000gn/T/ipykernel_20557/670632060.py:2: FutureWarning: The default value of regex will change from True to False in a future version. In addition, single character regular expressions will *not* be treated as literal strings when regex=True.\n",
      "  df_niki[\"question\"] = df_niki[\"question\"].str.replace(\"Did\", \"Therefore,\").str.replace(\"?\", \"\")\n"
     ]
    }
   ],
   "source": [
    "# remove the \"Did\" and \"?\" from the question\n",
    "df_niki[\"question\"] = df_niki[\"question\"].str.replace(\"Did\", \"Therefore,\").str.replace(\"?\", \"\")\n",
    "\n",
    "# get the last word from the question\n",
    "df_niki[\"label\"] = df_niki[\"question\"].str.split().str[-1]\n",
    "\n",
    "# change the last words of the question to <MASK>\n",
    "df_niki[\"question\"] = df_niki[\"question\"].str.split().str[:-1].str.join(\" \") + \" [MASK]\""
   ],
   "metadata": {
    "collapsed": false,
    "ExecuteTime": {
     "end_time": "2023-09-05T12:59:48.706472Z",
     "start_time": "2023-09-05T12:59:48.697002Z"
    }
   }
  },
  {
   "cell_type": "code",
   "execution_count": 9,
   "outputs": [
    {
     "data": {
      "text/plain": "                                              sentence  \\\n0    The tourist hired the guides that the locals a...   \n1    The tourists hired the guides that the locals ...   \n2    The tourist hired the guides that two days ago...   \n3    The tourists hired the guides who two days ago...   \n4    The coach removed the gymnasts that the fans d...   \n..                                                 ...   \n123  The editors censored the journalists that last...   \n124  The donor bored the researchers that interns d...   \n125  The donors bored the researchers that interns ...   \n126  The donor bored the researchers that last year...   \n127  The donors bored the researchers that last yea...   \n\n                                        question question_type length  \\\n0         Therefore, the locals anger the [MASK]      filler-Q  short   \n1         Therefore, the locals anger the [MASK]  distractor-Q  short   \n2         Therefore, the locals anger the [MASK]      filler-Q   long   \n3         Therefore, the locals anger the [MASK]  distractor-Q   long   \n4      Therefore, the fans disrespect the [MASK]      filler-Q  short   \n..                                           ...           ...    ...   \n123  Therefore, the readers influence the [MASK]  distractor-Q   long   \n124    Therefore, the interns disturb the [MASK]      filler-Q  short   \n125    Therefore, the interns disturb the [MASK]  distractor-Q  short   \n126    Therefore, the interns disturb the [MASK]      filler-Q   long   \n127    Therefore, the interns disturb the [MASK]  distractor-Q   long   \n\n    gender_match correct_answer        label  \n0       mismatch           true       guides  \n1          match           true       guides  \n2       mismatch           true       guides  \n3          match           true       guides  \n4       mismatch           true     gymnasts  \n..           ...            ...          ...  \n123        match           true  journalists  \n124     mismatch           true  researchers  \n125        match           true  researchers  \n126     mismatch           true  researchers  \n127        match           true  researchers  \n\n[128 rows x 7 columns]",
      "text/html": "<div>\n<style scoped>\n    .dataframe tbody tr th:only-of-type {\n        vertical-align: middle;\n    }\n\n    .dataframe tbody tr th {\n        vertical-align: top;\n    }\n\n    .dataframe thead th {\n        text-align: right;\n    }\n</style>\n<table border=\"1\" class=\"dataframe\">\n  <thead>\n    <tr style=\"text-align: right;\">\n      <th></th>\n      <th>sentence</th>\n      <th>question</th>\n      <th>question_type</th>\n      <th>length</th>\n      <th>gender_match</th>\n      <th>correct_answer</th>\n      <th>label</th>\n    </tr>\n  </thead>\n  <tbody>\n    <tr>\n      <th>0</th>\n      <td>The tourist hired the guides that the locals a...</td>\n      <td>Therefore, the locals anger the [MASK]</td>\n      <td>filler-Q</td>\n      <td>short</td>\n      <td>mismatch</td>\n      <td>true</td>\n      <td>guides</td>\n    </tr>\n    <tr>\n      <th>1</th>\n      <td>The tourists hired the guides that the locals ...</td>\n      <td>Therefore, the locals anger the [MASK]</td>\n      <td>distractor-Q</td>\n      <td>short</td>\n      <td>match</td>\n      <td>true</td>\n      <td>guides</td>\n    </tr>\n    <tr>\n      <th>2</th>\n      <td>The tourist hired the guides that two days ago...</td>\n      <td>Therefore, the locals anger the [MASK]</td>\n      <td>filler-Q</td>\n      <td>long</td>\n      <td>mismatch</td>\n      <td>true</td>\n      <td>guides</td>\n    </tr>\n    <tr>\n      <th>3</th>\n      <td>The tourists hired the guides who two days ago...</td>\n      <td>Therefore, the locals anger the [MASK]</td>\n      <td>distractor-Q</td>\n      <td>long</td>\n      <td>match</td>\n      <td>true</td>\n      <td>guides</td>\n    </tr>\n    <tr>\n      <th>4</th>\n      <td>The coach removed the gymnasts that the fans d...</td>\n      <td>Therefore, the fans disrespect the [MASK]</td>\n      <td>filler-Q</td>\n      <td>short</td>\n      <td>mismatch</td>\n      <td>true</td>\n      <td>gymnasts</td>\n    </tr>\n    <tr>\n      <th>...</th>\n      <td>...</td>\n      <td>...</td>\n      <td>...</td>\n      <td>...</td>\n      <td>...</td>\n      <td>...</td>\n      <td>...</td>\n    </tr>\n    <tr>\n      <th>123</th>\n      <td>The editors censored the journalists that last...</td>\n      <td>Therefore, the readers influence the [MASK]</td>\n      <td>distractor-Q</td>\n      <td>long</td>\n      <td>match</td>\n      <td>true</td>\n      <td>journalists</td>\n    </tr>\n    <tr>\n      <th>124</th>\n      <td>The donor bored the researchers that interns d...</td>\n      <td>Therefore, the interns disturb the [MASK]</td>\n      <td>filler-Q</td>\n      <td>short</td>\n      <td>mismatch</td>\n      <td>true</td>\n      <td>researchers</td>\n    </tr>\n    <tr>\n      <th>125</th>\n      <td>The donors bored the researchers that interns ...</td>\n      <td>Therefore, the interns disturb the [MASK]</td>\n      <td>distractor-Q</td>\n      <td>short</td>\n      <td>match</td>\n      <td>true</td>\n      <td>researchers</td>\n    </tr>\n    <tr>\n      <th>126</th>\n      <td>The donor bored the researchers that last year...</td>\n      <td>Therefore, the interns disturb the [MASK]</td>\n      <td>filler-Q</td>\n      <td>long</td>\n      <td>mismatch</td>\n      <td>true</td>\n      <td>researchers</td>\n    </tr>\n    <tr>\n      <th>127</th>\n      <td>The donors bored the researchers that last yea...</td>\n      <td>Therefore, the interns disturb the [MASK]</td>\n      <td>distractor-Q</td>\n      <td>long</td>\n      <td>match</td>\n      <td>true</td>\n      <td>researchers</td>\n    </tr>\n  </tbody>\n</table>\n<p>128 rows × 7 columns</p>\n</div>"
     },
     "execution_count": 9,
     "metadata": {},
     "output_type": "execute_result"
    }
   ],
   "source": [
    "df_niki"
   ],
   "metadata": {
    "collapsed": false,
    "ExecuteTime": {
     "end_time": "2023-09-05T12:59:48.767483Z",
     "start_time": "2023-09-05T12:59:48.704681Z"
    }
   }
  },
  {
   "cell_type": "code",
   "execution_count": 10,
   "outputs": [],
   "source": [
    "# get the fourth word from the sentence\n",
    "df_niki[\"verb\"] = df_niki.question.str.split().str[3]\n",
    "# df_niki[\"distractor\"] = df_niki.question.str.split().str[3]"
   ],
   "metadata": {
    "collapsed": false,
    "ExecuteTime": {
     "end_time": "2023-09-05T12:59:48.777567Z",
     "start_time": "2023-09-05T12:59:48.709120Z"
    }
   }
  },
  {
   "cell_type": "code",
   "execution_count": 11,
   "outputs": [],
   "source": [
    "verbs =  df_niki[\"verb\"].unique().tolist()\n",
    "verbs_to_past_dict = {\n",
    "'anger': 'angered',\n",
    "'disrespect': 'disrespected',\n",
    "'excite': 'excited',\n",
    "'threaten': 'threatened',\n",
    "'abuse': 'abused',\n",
    "'care': 'cared',\n",
    "'need': 'needed',\n",
    "'ignore': 'ignored',\n",
    "'pay': 'paid',\n",
    "'watch': 'watched',\n",
    "'help': 'helped',\n",
    "'hear': 'heard',\n",
    "'support': 'supported',\n",
    "'dislike': 'disliked',\n",
    "'mock': 'mocked',\n",
    "'rebel': 'rebelled',\n",
    "'gossip': 'gossiped',\n",
    "'look': 'looked',\n",
    "'fear': 'feared',\n",
    "'harass': 'harassed',\n",
    "'impress': 'impressed',\n",
    "'compliment': 'complimented',\n",
    "'admire': 'admired',\n",
    "'escape': 'escaped',\n",
    "'approach': 'approached',\n",
    "'shoot': 'shot',\n",
    "'trust': 'trusted',\n",
    "'advise': 'advised',\n",
    "'appreciate': 'appreciated',\n",
    "'influence': 'influenced',\n",
    "'disturb': 'disturbed'\n",
    "}"
   ],
   "metadata": {
    "collapsed": false,
    "ExecuteTime": {
     "end_time": "2023-09-05T12:59:48.788820Z",
     "start_time": "2023-09-05T12:59:48.714583Z"
    }
   }
  },
  {
   "cell_type": "code",
   "execution_count": 12,
   "outputs": [],
   "source": [
    "df_niki[\"question\"] = df_niki.apply(lambda row: row[\"question\"].replace(row[\"verb\"], verbs_to_past_dict[row[\"verb\"]]), axis=1)"
   ],
   "metadata": {
    "collapsed": false,
    "ExecuteTime": {
     "end_time": "2023-09-05T12:59:48.789016Z",
     "start_time": "2023-09-05T12:59:48.719376Z"
    }
   }
  },
  {
   "cell_type": "code",
   "execution_count": 13,
   "outputs": [],
   "source": [
    "df_niki[\"prompt\"] = df_niki[\"sentence\"] + \". \" + df_niki[\"question\"]"
   ],
   "metadata": {
    "collapsed": false,
    "ExecuteTime": {
     "end_time": "2023-09-05T12:59:48.789090Z",
     "start_time": "2023-09-05T12:59:48.723817Z"
    }
   }
  },
  {
   "cell_type": "code",
   "execution_count": 14,
   "outputs": [],
   "source": [
    "# rename gender_match column to plural_match\n",
    "df_niki.rename(columns={\"gender_match\": \"plural_match\"}, inplace=True)"
   ],
   "metadata": {
    "collapsed": false,
    "ExecuteTime": {
     "end_time": "2023-09-05T12:59:48.820356Z",
     "start_time": "2023-09-05T12:59:48.727634Z"
    }
   }
  },
  {
   "cell_type": "code",
   "execution_count": 15,
   "outputs": [
    {
     "name": "stderr",
     "output_type": "stream",
     "text": [
      "[nltk_data] Downloading package averaged_perceptron_tagger to\n",
      "[nltk_data]     /Users/yaara.shriki/nltk_data...\n",
      "[nltk_data]   Package averaged_perceptron_tagger is already up-to-\n",
      "[nltk_data]       date!\n"
     ]
    }
   ],
   "source": [
    "nltk.download('averaged_perceptron_tagger')\n",
    "\n",
    "sentences = df_niki[\"sentence\"].tolist()\n",
    "\n",
    "# Function to extract the first and second nouns from a sentence\n",
    "def extract_nouns(sentence):\n",
    "    tokens = nltk.word_tokenize(sentence)\n",
    "    tagged = nltk.pos_tag(tokens)\n",
    "    nouns = [word for word, pos in tagged if pos.startswith('NN')]\n",
    "    return nouns[:2]\n",
    "\n",
    "# Extract nouns from each sentence\n",
    "first_nouns = []\n",
    "second_nouns = []\n",
    "\n",
    "for sentence in sentences:\n",
    "    nouns = extract_nouns(sentence)\n",
    "    if len(nouns) > 0:\n",
    "        first_nouns.append(nouns[0])\n",
    "    else:\n",
    "        first_nouns.append(None)\n",
    "    if len(nouns) > 1:\n",
    "        second_nouns.append(nouns[1])\n",
    "    else:\n",
    "        second_nouns.append(None)\n",
    "\n",
    "# Create Pandas Series\n",
    "first_nouns_series = pd.Series(first_nouns)\n",
    "second_nouns_series = pd.Series(second_nouns)\n",
    "\n",
    "# Add columns to DataFrame\n",
    "df_niki[\"first_noun\"] = first_nouns_series.values\n",
    "df_niki[\"second_noun\"] = second_nouns_series.values\n"
   ],
   "metadata": {
    "collapsed": false,
    "ExecuteTime": {
     "end_time": "2023-09-05T12:59:48.926381Z",
     "start_time": "2023-09-05T12:59:48.735504Z"
    }
   }
  },
  {
   "cell_type": "code",
   "execution_count": 16,
   "outputs": [],
   "source": [
    "# add column with the wrong answer\n",
    "df_niki[\"distractor\"] = df_niki.apply(lambda row: row[\"first_noun\"] if row[\"first_noun\"] != row[\"correct_answer\"] else row[\"second_noun\"], axis=1)"
   ],
   "metadata": {
    "collapsed": false,
    "ExecuteTime": {
     "end_time": "2023-09-05T12:59:48.926594Z",
     "start_time": "2023-09-05T12:59:48.904114Z"
    }
   }
  },
  {
   "cell_type": "markdown",
   "source": [
    "# Fix double word labels"
   ],
   "metadata": {
    "collapsed": false
   }
  },
  {
   "cell_type": "code",
   "execution_count": 17,
   "outputs": [
    {
     "data": {
      "text/plain": "                                              sentence  \\\n52   The defense attorney accompanied the accused o...   \n53   The defense attorneys accompanied the accused ...   \n54   The defense attorney accompanied the accused o...   \n55   The defense attorneys accompanied the accused ...   \n64   The tenant hosted the old women that the neigh...   \n65   The tenants hosted the old women that the neig...   \n66   The tenant hosted the old women that last week...   \n67   The tenants hosted the old women that last wee...   \n96   The referee disqualified the tennis players th...   \n97   The referees disqualified the tennis players t...   \n98   The referee disqualified the tennis players wh...   \n99   The referees disqualified the tennis players w...   \n100  The clerk found the bank managers that the rob...   \n101  The clerks found the bank managers that the ro...   \n102  The clerk found the bank managers that this mo...   \n103  The clerks found the bank managers that this m...   \n\n                                              question question_type length  \\\n52   Therefore, the jurors disliked the accused [MASK]      filler-Q  short   \n53   Therefore, the jurors disliked the accused [MASK]  distractor-Q  short   \n54   Therefore, the jurors disliked the accused [MASK]      filler-Q   long   \n55   Therefore, the jurors disliked the accused [MASK]  distractor-Q   long   \n64   Therefore, the neighbors gossiped about the ol...      filler-Q  short   \n65   Therefore, the neighbors gossiped about the ol...  distractor-Q  short   \n66   Therefore, the neighbors gossiped about the ol...      filler-Q   long   \n67   Therefore, the neighbors gossiped about the ol...  distractor-Q   long   \n96   Therefore, the spectators approached the tenni...      filler-Q  short   \n97   Therefore, the spectators approached the tenni...  distractor-Q  short   \n98   Therefore, the spectators approached the tenni...      filler-Q   long   \n99   Therefore, the spectators approached the tenni...  distractor-Q   long   \n100        Therefore, the robbers shot the bank [MASK]      filler-Q  short   \n101        Therefore, the robbers shot the bank [MASK]  distractor-Q  short   \n102        Therefore, the robbers shot the bank [MASK]      filler-Q   long   \n103        Therefore, the robbers shot the bank [MASK]  distractor-Q   long   \n\n    plural_match correct_answer     label      verb  \\\n52      mismatch           true      ones   dislike   \n53         match           true      ones   dislike   \n54      mismatch           true      ones   dislike   \n55         match           true      ones   dislike   \n64      mismatch           true     women    gossip   \n65         match           true     women    gossip   \n66      mismatch           true     women    gossip   \n67         match           true     women    gossip   \n96      mismatch           true   players  approach   \n97         match           true   players  approach   \n98      mismatch           true   players  approach   \n99         match           true   players  approach   \n100     mismatch           true  managers     shoot   \n101        match           true  managers     shoot   \n102     mismatch           true  managers     shoot   \n103        match           true  managers     shoot   \n\n                                                prompt first_noun second_noun  \\\n52   The defense attorney accompanied the accused o...    defense    attorney   \n53   The defense attorneys accompanied the accused ...    defense   attorneys   \n54   The defense attorney accompanied the accused o...    defense    attorney   \n55   The defense attorneys accompanied the accused ...    defense   attorneys   \n64   The tenant hosted the old women that the neigh...     tenant       women   \n65   The tenants hosted the old women that the neig...    tenants       women   \n66   The tenant hosted the old women that last week...     tenant       women   \n67   The tenants hosted the old women that last wee...    tenants       women   \n96   The referee disqualified the tennis players th...    referee      tennis   \n97   The referees disqualified the tennis players t...   referees      tennis   \n98   The referee disqualified the tennis players wh...    referee      tennis   \n99   The referees disqualified the tennis players w...   referees      tennis   \n100  The clerk found the bank managers that the rob...      clerk        bank   \n101  The clerks found the bank managers that the ro...     clerks        bank   \n102  The clerk found the bank managers that this mo...      clerk        bank   \n103  The clerks found the bank managers that this m...     clerks        bank   \n\n    distractor  \n52     defense  \n53     defense  \n54     defense  \n55     defense  \n64      tenant  \n65     tenants  \n66      tenant  \n67     tenants  \n96     referee  \n97    referees  \n98     referee  \n99    referees  \n100      clerk  \n101     clerks  \n102      clerk  \n103     clerks  ",
      "text/html": "<div>\n<style scoped>\n    .dataframe tbody tr th:only-of-type {\n        vertical-align: middle;\n    }\n\n    .dataframe tbody tr th {\n        vertical-align: top;\n    }\n\n    .dataframe thead th {\n        text-align: right;\n    }\n</style>\n<table border=\"1\" class=\"dataframe\">\n  <thead>\n    <tr style=\"text-align: right;\">\n      <th></th>\n      <th>sentence</th>\n      <th>question</th>\n      <th>question_type</th>\n      <th>length</th>\n      <th>plural_match</th>\n      <th>correct_answer</th>\n      <th>label</th>\n      <th>verb</th>\n      <th>prompt</th>\n      <th>first_noun</th>\n      <th>second_noun</th>\n      <th>distractor</th>\n    </tr>\n  </thead>\n  <tbody>\n    <tr>\n      <th>52</th>\n      <td>The defense attorney accompanied the accused o...</td>\n      <td>Therefore, the jurors disliked the accused [MASK]</td>\n      <td>filler-Q</td>\n      <td>short</td>\n      <td>mismatch</td>\n      <td>true</td>\n      <td>ones</td>\n      <td>dislike</td>\n      <td>The defense attorney accompanied the accused o...</td>\n      <td>defense</td>\n      <td>attorney</td>\n      <td>defense</td>\n    </tr>\n    <tr>\n      <th>53</th>\n      <td>The defense attorneys accompanied the accused ...</td>\n      <td>Therefore, the jurors disliked the accused [MASK]</td>\n      <td>distractor-Q</td>\n      <td>short</td>\n      <td>match</td>\n      <td>true</td>\n      <td>ones</td>\n      <td>dislike</td>\n      <td>The defense attorneys accompanied the accused ...</td>\n      <td>defense</td>\n      <td>attorneys</td>\n      <td>defense</td>\n    </tr>\n    <tr>\n      <th>54</th>\n      <td>The defense attorney accompanied the accused o...</td>\n      <td>Therefore, the jurors disliked the accused [MASK]</td>\n      <td>filler-Q</td>\n      <td>long</td>\n      <td>mismatch</td>\n      <td>true</td>\n      <td>ones</td>\n      <td>dislike</td>\n      <td>The defense attorney accompanied the accused o...</td>\n      <td>defense</td>\n      <td>attorney</td>\n      <td>defense</td>\n    </tr>\n    <tr>\n      <th>55</th>\n      <td>The defense attorneys accompanied the accused ...</td>\n      <td>Therefore, the jurors disliked the accused [MASK]</td>\n      <td>distractor-Q</td>\n      <td>long</td>\n      <td>match</td>\n      <td>true</td>\n      <td>ones</td>\n      <td>dislike</td>\n      <td>The defense attorneys accompanied the accused ...</td>\n      <td>defense</td>\n      <td>attorneys</td>\n      <td>defense</td>\n    </tr>\n    <tr>\n      <th>64</th>\n      <td>The tenant hosted the old women that the neigh...</td>\n      <td>Therefore, the neighbors gossiped about the ol...</td>\n      <td>filler-Q</td>\n      <td>short</td>\n      <td>mismatch</td>\n      <td>true</td>\n      <td>women</td>\n      <td>gossip</td>\n      <td>The tenant hosted the old women that the neigh...</td>\n      <td>tenant</td>\n      <td>women</td>\n      <td>tenant</td>\n    </tr>\n    <tr>\n      <th>65</th>\n      <td>The tenants hosted the old women that the neig...</td>\n      <td>Therefore, the neighbors gossiped about the ol...</td>\n      <td>distractor-Q</td>\n      <td>short</td>\n      <td>match</td>\n      <td>true</td>\n      <td>women</td>\n      <td>gossip</td>\n      <td>The tenants hosted the old women that the neig...</td>\n      <td>tenants</td>\n      <td>women</td>\n      <td>tenants</td>\n    </tr>\n    <tr>\n      <th>66</th>\n      <td>The tenant hosted the old women that last week...</td>\n      <td>Therefore, the neighbors gossiped about the ol...</td>\n      <td>filler-Q</td>\n      <td>long</td>\n      <td>mismatch</td>\n      <td>true</td>\n      <td>women</td>\n      <td>gossip</td>\n      <td>The tenant hosted the old women that last week...</td>\n      <td>tenant</td>\n      <td>women</td>\n      <td>tenant</td>\n    </tr>\n    <tr>\n      <th>67</th>\n      <td>The tenants hosted the old women that last wee...</td>\n      <td>Therefore, the neighbors gossiped about the ol...</td>\n      <td>distractor-Q</td>\n      <td>long</td>\n      <td>match</td>\n      <td>true</td>\n      <td>women</td>\n      <td>gossip</td>\n      <td>The tenants hosted the old women that last wee...</td>\n      <td>tenants</td>\n      <td>women</td>\n      <td>tenants</td>\n    </tr>\n    <tr>\n      <th>96</th>\n      <td>The referee disqualified the tennis players th...</td>\n      <td>Therefore, the spectators approached the tenni...</td>\n      <td>filler-Q</td>\n      <td>short</td>\n      <td>mismatch</td>\n      <td>true</td>\n      <td>players</td>\n      <td>approach</td>\n      <td>The referee disqualified the tennis players th...</td>\n      <td>referee</td>\n      <td>tennis</td>\n      <td>referee</td>\n    </tr>\n    <tr>\n      <th>97</th>\n      <td>The referees disqualified the tennis players t...</td>\n      <td>Therefore, the spectators approached the tenni...</td>\n      <td>distractor-Q</td>\n      <td>short</td>\n      <td>match</td>\n      <td>true</td>\n      <td>players</td>\n      <td>approach</td>\n      <td>The referees disqualified the tennis players t...</td>\n      <td>referees</td>\n      <td>tennis</td>\n      <td>referees</td>\n    </tr>\n    <tr>\n      <th>98</th>\n      <td>The referee disqualified the tennis players wh...</td>\n      <td>Therefore, the spectators approached the tenni...</td>\n      <td>filler-Q</td>\n      <td>long</td>\n      <td>mismatch</td>\n      <td>true</td>\n      <td>players</td>\n      <td>approach</td>\n      <td>The referee disqualified the tennis players wh...</td>\n      <td>referee</td>\n      <td>tennis</td>\n      <td>referee</td>\n    </tr>\n    <tr>\n      <th>99</th>\n      <td>The referees disqualified the tennis players w...</td>\n      <td>Therefore, the spectators approached the tenni...</td>\n      <td>distractor-Q</td>\n      <td>long</td>\n      <td>match</td>\n      <td>true</td>\n      <td>players</td>\n      <td>approach</td>\n      <td>The referees disqualified the tennis players w...</td>\n      <td>referees</td>\n      <td>tennis</td>\n      <td>referees</td>\n    </tr>\n    <tr>\n      <th>100</th>\n      <td>The clerk found the bank managers that the rob...</td>\n      <td>Therefore, the robbers shot the bank [MASK]</td>\n      <td>filler-Q</td>\n      <td>short</td>\n      <td>mismatch</td>\n      <td>true</td>\n      <td>managers</td>\n      <td>shoot</td>\n      <td>The clerk found the bank managers that the rob...</td>\n      <td>clerk</td>\n      <td>bank</td>\n      <td>clerk</td>\n    </tr>\n    <tr>\n      <th>101</th>\n      <td>The clerks found the bank managers that the ro...</td>\n      <td>Therefore, the robbers shot the bank [MASK]</td>\n      <td>distractor-Q</td>\n      <td>short</td>\n      <td>match</td>\n      <td>true</td>\n      <td>managers</td>\n      <td>shoot</td>\n      <td>The clerks found the bank managers that the ro...</td>\n      <td>clerks</td>\n      <td>bank</td>\n      <td>clerks</td>\n    </tr>\n    <tr>\n      <th>102</th>\n      <td>The clerk found the bank managers that this mo...</td>\n      <td>Therefore, the robbers shot the bank [MASK]</td>\n      <td>filler-Q</td>\n      <td>long</td>\n      <td>mismatch</td>\n      <td>true</td>\n      <td>managers</td>\n      <td>shoot</td>\n      <td>The clerk found the bank managers that this mo...</td>\n      <td>clerk</td>\n      <td>bank</td>\n      <td>clerk</td>\n    </tr>\n    <tr>\n      <th>103</th>\n      <td>The clerks found the bank managers that this m...</td>\n      <td>Therefore, the robbers shot the bank [MASK]</td>\n      <td>distractor-Q</td>\n      <td>long</td>\n      <td>match</td>\n      <td>true</td>\n      <td>managers</td>\n      <td>shoot</td>\n      <td>The clerks found the bank managers that this m...</td>\n      <td>clerks</td>\n      <td>bank</td>\n      <td>clerks</td>\n    </tr>\n  </tbody>\n</table>\n</div>"
     },
     "execution_count": 17,
     "metadata": {},
     "output_type": "execute_result"
    }
   ],
   "source": [
    "df_niki.query(\"label == 'ones' | label == 'women' | label == 'players' | label == 'managers'\")"
   ],
   "metadata": {
    "collapsed": false,
    "ExecuteTime": {
     "end_time": "2023-09-05T12:59:48.926787Z",
     "start_time": "2023-09-05T12:59:48.919165Z"
    }
   }
  },
  {
   "cell_type": "code",
   "execution_count": 18,
   "outputs": [],
   "source": [
    "# fix the double word labels\n",
    "df_niki.loc[df_niki.label == \"ones\", \"label\"] = \"accused\" # accused ones\n",
    "df_niki.loc[df_niki.label == \"women\", \"label\"] = \"old\" # old women\n",
    "df_niki.loc[df_niki.label == \"players\", \"label\"] = \"tennis\" # tennis players\n",
    "df_niki.loc[df_niki.label == \"managers\", \"label\"] = \"bank\" # bank managers"
   ],
   "metadata": {
    "collapsed": false,
    "ExecuteTime": {
     "end_time": "2023-09-05T12:59:48.926849Z",
     "start_time": "2023-09-05T12:59:48.921433Z"
    }
   }
  },
  {
   "cell_type": "code",
   "execution_count": 19,
   "outputs": [
    {
     "data": {
      "text/plain": "                                              sentence  \\\n100  The clerk found the bank managers that the rob...   \n101  The clerks found the bank managers that the ro...   \n102  The clerk found the bank managers that this mo...   \n103  The clerks found the bank managers that this m...   \n\n                                        question question_type length  \\\n100  Therefore, the robbers shot the bank [MASK]      filler-Q  short   \n101  Therefore, the robbers shot the bank [MASK]  distractor-Q  short   \n102  Therefore, the robbers shot the bank [MASK]      filler-Q   long   \n103  Therefore, the robbers shot the bank [MASK]  distractor-Q   long   \n\n    plural_match correct_answer label   verb  \\\n100     mismatch           true  bank  shoot   \n101        match           true  bank  shoot   \n102     mismatch           true  bank  shoot   \n103        match           true  bank  shoot   \n\n                                                prompt first_noun second_noun  \\\n100  The clerk found the bank managers that the rob...      clerk        bank   \n101  The clerks found the bank managers that the ro...     clerks        bank   \n102  The clerk found the bank managers that this mo...      clerk        bank   \n103  The clerks found the bank managers that this m...     clerks        bank   \n\n    distractor  \n100      clerk  \n101     clerks  \n102      clerk  \n103     clerks  ",
      "text/html": "<div>\n<style scoped>\n    .dataframe tbody tr th:only-of-type {\n        vertical-align: middle;\n    }\n\n    .dataframe tbody tr th {\n        vertical-align: top;\n    }\n\n    .dataframe thead th {\n        text-align: right;\n    }\n</style>\n<table border=\"1\" class=\"dataframe\">\n  <thead>\n    <tr style=\"text-align: right;\">\n      <th></th>\n      <th>sentence</th>\n      <th>question</th>\n      <th>question_type</th>\n      <th>length</th>\n      <th>plural_match</th>\n      <th>correct_answer</th>\n      <th>label</th>\n      <th>verb</th>\n      <th>prompt</th>\n      <th>first_noun</th>\n      <th>second_noun</th>\n      <th>distractor</th>\n    </tr>\n  </thead>\n  <tbody>\n    <tr>\n      <th>100</th>\n      <td>The clerk found the bank managers that the rob...</td>\n      <td>Therefore, the robbers shot the bank [MASK]</td>\n      <td>filler-Q</td>\n      <td>short</td>\n      <td>mismatch</td>\n      <td>true</td>\n      <td>bank</td>\n      <td>shoot</td>\n      <td>The clerk found the bank managers that the rob...</td>\n      <td>clerk</td>\n      <td>bank</td>\n      <td>clerk</td>\n    </tr>\n    <tr>\n      <th>101</th>\n      <td>The clerks found the bank managers that the ro...</td>\n      <td>Therefore, the robbers shot the bank [MASK]</td>\n      <td>distractor-Q</td>\n      <td>short</td>\n      <td>match</td>\n      <td>true</td>\n      <td>bank</td>\n      <td>shoot</td>\n      <td>The clerks found the bank managers that the ro...</td>\n      <td>clerks</td>\n      <td>bank</td>\n      <td>clerks</td>\n    </tr>\n    <tr>\n      <th>102</th>\n      <td>The clerk found the bank managers that this mo...</td>\n      <td>Therefore, the robbers shot the bank [MASK]</td>\n      <td>filler-Q</td>\n      <td>long</td>\n      <td>mismatch</td>\n      <td>true</td>\n      <td>bank</td>\n      <td>shoot</td>\n      <td>The clerk found the bank managers that this mo...</td>\n      <td>clerk</td>\n      <td>bank</td>\n      <td>clerk</td>\n    </tr>\n    <tr>\n      <th>103</th>\n      <td>The clerks found the bank managers that this m...</td>\n      <td>Therefore, the robbers shot the bank [MASK]</td>\n      <td>distractor-Q</td>\n      <td>long</td>\n      <td>match</td>\n      <td>true</td>\n      <td>bank</td>\n      <td>shoot</td>\n      <td>The clerks found the bank managers that this m...</td>\n      <td>clerks</td>\n      <td>bank</td>\n      <td>clerks</td>\n    </tr>\n  </tbody>\n</table>\n</div>"
     },
     "execution_count": 19,
     "metadata": {},
     "output_type": "execute_result"
    }
   ],
   "source": [
    "df_niki.loc[df_niki.label == \"bank\"]"
   ],
   "metadata": {
    "collapsed": false,
    "ExecuteTime": {
     "end_time": "2023-09-05T12:59:48.944347Z",
     "start_time": "2023-09-05T12:59:48.930096Z"
    }
   }
  },
  {
   "cell_type": "code",
   "execution_count": 20,
   "outputs": [],
   "source": [
    "# fix the first noun\n",
    "df_niki.loc[df_niki.label == \"accused\", \"second_noun\"] = \"accused\"\n",
    "df_niki.loc[df_niki.label == \"old\", \"second_noun\"] = \"old\"\n",
    "df_niki.loc[df_niki.label == \"tennis\", \"second_noun\"] = \"tennis\"\n",
    "df_niki.loc[df_niki.label == \"bank\", \"second_noun\"] = \"bank\""
   ],
   "metadata": {
    "collapsed": false,
    "ExecuteTime": {
     "end_time": "2023-09-05T12:59:48.944533Z",
     "start_time": "2023-09-05T12:59:48.935357Z"
    }
   }
  },
  {
   "cell_type": "code",
   "execution_count": 21,
   "outputs": [],
   "source": [
    "# Function to modify prompt\n",
    "def modify_prompt(row):\n",
    "    if row[\"label\"] in [\"accused\", \"old\", \"tennis\", \"bank\"]:\n",
    "        words = row[\"prompt\"].split()[:-2]  # Remove the last two words\n",
    "        modified_prompt = \" \".join(words) + \" [MASK]\"\n",
    "        return modified_prompt\n",
    "    return row[\"prompt\"]"
   ],
   "metadata": {
    "collapsed": false,
    "ExecuteTime": {
     "end_time": "2023-09-05T12:59:48.944631Z",
     "start_time": "2023-09-05T12:59:48.939292Z"
    }
   }
  },
  {
   "cell_type": "code",
   "execution_count": 22,
   "outputs": [],
   "source": [
    "# Apply the function to each row\n",
    "df_niki[\"prompt\"] = df_niki.apply(modify_prompt, axis=1)"
   ],
   "metadata": {
    "collapsed": false,
    "ExecuteTime": {
     "end_time": "2023-09-05T12:59:48.946263Z",
     "start_time": "2023-09-05T12:59:48.944480Z"
    }
   }
  },
  {
   "cell_type": "code",
   "execution_count": 23,
   "outputs": [
    {
     "data": {
      "text/plain": "                                              sentence  \\\n52   The defense attorney accompanied the accused o...   \n53   The defense attorneys accompanied the accused ...   \n54   The defense attorney accompanied the accused o...   \n55   The defense attorneys accompanied the accused ...   \n64   The tenant hosted the old women that the neigh...   \n65   The tenants hosted the old women that the neig...   \n66   The tenant hosted the old women that last week...   \n67   The tenants hosted the old women that last wee...   \n96   The referee disqualified the tennis players th...   \n97   The referees disqualified the tennis players t...   \n98   The referee disqualified the tennis players wh...   \n99   The referees disqualified the tennis players w...   \n100  The clerk found the bank managers that the rob...   \n101  The clerks found the bank managers that the ro...   \n102  The clerk found the bank managers that this mo...   \n103  The clerks found the bank managers that this m...   \n\n                                              question question_type length  \\\n52   Therefore, the jurors disliked the accused [MASK]      filler-Q  short   \n53   Therefore, the jurors disliked the accused [MASK]  distractor-Q  short   \n54   Therefore, the jurors disliked the accused [MASK]      filler-Q   long   \n55   Therefore, the jurors disliked the accused [MASK]  distractor-Q   long   \n64   Therefore, the neighbors gossiped about the ol...      filler-Q  short   \n65   Therefore, the neighbors gossiped about the ol...  distractor-Q  short   \n66   Therefore, the neighbors gossiped about the ol...      filler-Q   long   \n67   Therefore, the neighbors gossiped about the ol...  distractor-Q   long   \n96   Therefore, the spectators approached the tenni...      filler-Q  short   \n97   Therefore, the spectators approached the tenni...  distractor-Q  short   \n98   Therefore, the spectators approached the tenni...      filler-Q   long   \n99   Therefore, the spectators approached the tenni...  distractor-Q   long   \n100        Therefore, the robbers shot the bank [MASK]      filler-Q  short   \n101        Therefore, the robbers shot the bank [MASK]  distractor-Q  short   \n102        Therefore, the robbers shot the bank [MASK]      filler-Q   long   \n103        Therefore, the robbers shot the bank [MASK]  distractor-Q   long   \n\n    plural_match correct_answer    label      verb  \\\n52      mismatch           true  accused   dislike   \n53         match           true  accused   dislike   \n54      mismatch           true  accused   dislike   \n55         match           true  accused   dislike   \n64      mismatch           true      old    gossip   \n65         match           true      old    gossip   \n66      mismatch           true      old    gossip   \n67         match           true      old    gossip   \n96      mismatch           true   tennis  approach   \n97         match           true   tennis  approach   \n98      mismatch           true   tennis  approach   \n99         match           true   tennis  approach   \n100     mismatch           true     bank     shoot   \n101        match           true     bank     shoot   \n102     mismatch           true     bank     shoot   \n103        match           true     bank     shoot   \n\n                                                prompt first_noun second_noun  \\\n52   The defense attorney accompanied the accused o...    defense     accused   \n53   The defense attorneys accompanied the accused ...    defense     accused   \n54   The defense attorney accompanied the accused o...    defense     accused   \n55   The defense attorneys accompanied the accused ...    defense     accused   \n64   The tenant hosted the old women that the neigh...     tenant         old   \n65   The tenants hosted the old women that the neig...    tenants         old   \n66   The tenant hosted the old women that last week...     tenant         old   \n67   The tenants hosted the old women that last wee...    tenants         old   \n96   The referee disqualified the tennis players th...    referee      tennis   \n97   The referees disqualified the tennis players t...   referees      tennis   \n98   The referee disqualified the tennis players wh...    referee      tennis   \n99   The referees disqualified the tennis players w...   referees      tennis   \n100  The clerk found the bank managers that the rob...      clerk        bank   \n101  The clerks found the bank managers that the ro...     clerks        bank   \n102  The clerk found the bank managers that this mo...      clerk        bank   \n103  The clerks found the bank managers that this m...     clerks        bank   \n\n    distractor  \n52     defense  \n53     defense  \n54     defense  \n55     defense  \n64      tenant  \n65     tenants  \n66      tenant  \n67     tenants  \n96     referee  \n97    referees  \n98     referee  \n99    referees  \n100      clerk  \n101     clerks  \n102      clerk  \n103     clerks  ",
      "text/html": "<div>\n<style scoped>\n    .dataframe tbody tr th:only-of-type {\n        vertical-align: middle;\n    }\n\n    .dataframe tbody tr th {\n        vertical-align: top;\n    }\n\n    .dataframe thead th {\n        text-align: right;\n    }\n</style>\n<table border=\"1\" class=\"dataframe\">\n  <thead>\n    <tr style=\"text-align: right;\">\n      <th></th>\n      <th>sentence</th>\n      <th>question</th>\n      <th>question_type</th>\n      <th>length</th>\n      <th>plural_match</th>\n      <th>correct_answer</th>\n      <th>label</th>\n      <th>verb</th>\n      <th>prompt</th>\n      <th>first_noun</th>\n      <th>second_noun</th>\n      <th>distractor</th>\n    </tr>\n  </thead>\n  <tbody>\n    <tr>\n      <th>52</th>\n      <td>The defense attorney accompanied the accused o...</td>\n      <td>Therefore, the jurors disliked the accused [MASK]</td>\n      <td>filler-Q</td>\n      <td>short</td>\n      <td>mismatch</td>\n      <td>true</td>\n      <td>accused</td>\n      <td>dislike</td>\n      <td>The defense attorney accompanied the accused o...</td>\n      <td>defense</td>\n      <td>accused</td>\n      <td>defense</td>\n    </tr>\n    <tr>\n      <th>53</th>\n      <td>The defense attorneys accompanied the accused ...</td>\n      <td>Therefore, the jurors disliked the accused [MASK]</td>\n      <td>distractor-Q</td>\n      <td>short</td>\n      <td>match</td>\n      <td>true</td>\n      <td>accused</td>\n      <td>dislike</td>\n      <td>The defense attorneys accompanied the accused ...</td>\n      <td>defense</td>\n      <td>accused</td>\n      <td>defense</td>\n    </tr>\n    <tr>\n      <th>54</th>\n      <td>The defense attorney accompanied the accused o...</td>\n      <td>Therefore, the jurors disliked the accused [MASK]</td>\n      <td>filler-Q</td>\n      <td>long</td>\n      <td>mismatch</td>\n      <td>true</td>\n      <td>accused</td>\n      <td>dislike</td>\n      <td>The defense attorney accompanied the accused o...</td>\n      <td>defense</td>\n      <td>accused</td>\n      <td>defense</td>\n    </tr>\n    <tr>\n      <th>55</th>\n      <td>The defense attorneys accompanied the accused ...</td>\n      <td>Therefore, the jurors disliked the accused [MASK]</td>\n      <td>distractor-Q</td>\n      <td>long</td>\n      <td>match</td>\n      <td>true</td>\n      <td>accused</td>\n      <td>dislike</td>\n      <td>The defense attorneys accompanied the accused ...</td>\n      <td>defense</td>\n      <td>accused</td>\n      <td>defense</td>\n    </tr>\n    <tr>\n      <th>64</th>\n      <td>The tenant hosted the old women that the neigh...</td>\n      <td>Therefore, the neighbors gossiped about the ol...</td>\n      <td>filler-Q</td>\n      <td>short</td>\n      <td>mismatch</td>\n      <td>true</td>\n      <td>old</td>\n      <td>gossip</td>\n      <td>The tenant hosted the old women that the neigh...</td>\n      <td>tenant</td>\n      <td>old</td>\n      <td>tenant</td>\n    </tr>\n    <tr>\n      <th>65</th>\n      <td>The tenants hosted the old women that the neig...</td>\n      <td>Therefore, the neighbors gossiped about the ol...</td>\n      <td>distractor-Q</td>\n      <td>short</td>\n      <td>match</td>\n      <td>true</td>\n      <td>old</td>\n      <td>gossip</td>\n      <td>The tenants hosted the old women that the neig...</td>\n      <td>tenants</td>\n      <td>old</td>\n      <td>tenants</td>\n    </tr>\n    <tr>\n      <th>66</th>\n      <td>The tenant hosted the old women that last week...</td>\n      <td>Therefore, the neighbors gossiped about the ol...</td>\n      <td>filler-Q</td>\n      <td>long</td>\n      <td>mismatch</td>\n      <td>true</td>\n      <td>old</td>\n      <td>gossip</td>\n      <td>The tenant hosted the old women that last week...</td>\n      <td>tenant</td>\n      <td>old</td>\n      <td>tenant</td>\n    </tr>\n    <tr>\n      <th>67</th>\n      <td>The tenants hosted the old women that last wee...</td>\n      <td>Therefore, the neighbors gossiped about the ol...</td>\n      <td>distractor-Q</td>\n      <td>long</td>\n      <td>match</td>\n      <td>true</td>\n      <td>old</td>\n      <td>gossip</td>\n      <td>The tenants hosted the old women that last wee...</td>\n      <td>tenants</td>\n      <td>old</td>\n      <td>tenants</td>\n    </tr>\n    <tr>\n      <th>96</th>\n      <td>The referee disqualified the tennis players th...</td>\n      <td>Therefore, the spectators approached the tenni...</td>\n      <td>filler-Q</td>\n      <td>short</td>\n      <td>mismatch</td>\n      <td>true</td>\n      <td>tennis</td>\n      <td>approach</td>\n      <td>The referee disqualified the tennis players th...</td>\n      <td>referee</td>\n      <td>tennis</td>\n      <td>referee</td>\n    </tr>\n    <tr>\n      <th>97</th>\n      <td>The referees disqualified the tennis players t...</td>\n      <td>Therefore, the spectators approached the tenni...</td>\n      <td>distractor-Q</td>\n      <td>short</td>\n      <td>match</td>\n      <td>true</td>\n      <td>tennis</td>\n      <td>approach</td>\n      <td>The referees disqualified the tennis players t...</td>\n      <td>referees</td>\n      <td>tennis</td>\n      <td>referees</td>\n    </tr>\n    <tr>\n      <th>98</th>\n      <td>The referee disqualified the tennis players wh...</td>\n      <td>Therefore, the spectators approached the tenni...</td>\n      <td>filler-Q</td>\n      <td>long</td>\n      <td>mismatch</td>\n      <td>true</td>\n      <td>tennis</td>\n      <td>approach</td>\n      <td>The referee disqualified the tennis players wh...</td>\n      <td>referee</td>\n      <td>tennis</td>\n      <td>referee</td>\n    </tr>\n    <tr>\n      <th>99</th>\n      <td>The referees disqualified the tennis players w...</td>\n      <td>Therefore, the spectators approached the tenni...</td>\n      <td>distractor-Q</td>\n      <td>long</td>\n      <td>match</td>\n      <td>true</td>\n      <td>tennis</td>\n      <td>approach</td>\n      <td>The referees disqualified the tennis players w...</td>\n      <td>referees</td>\n      <td>tennis</td>\n      <td>referees</td>\n    </tr>\n    <tr>\n      <th>100</th>\n      <td>The clerk found the bank managers that the rob...</td>\n      <td>Therefore, the robbers shot the bank [MASK]</td>\n      <td>filler-Q</td>\n      <td>short</td>\n      <td>mismatch</td>\n      <td>true</td>\n      <td>bank</td>\n      <td>shoot</td>\n      <td>The clerk found the bank managers that the rob...</td>\n      <td>clerk</td>\n      <td>bank</td>\n      <td>clerk</td>\n    </tr>\n    <tr>\n      <th>101</th>\n      <td>The clerks found the bank managers that the ro...</td>\n      <td>Therefore, the robbers shot the bank [MASK]</td>\n      <td>distractor-Q</td>\n      <td>short</td>\n      <td>match</td>\n      <td>true</td>\n      <td>bank</td>\n      <td>shoot</td>\n      <td>The clerks found the bank managers that the ro...</td>\n      <td>clerks</td>\n      <td>bank</td>\n      <td>clerks</td>\n    </tr>\n    <tr>\n      <th>102</th>\n      <td>The clerk found the bank managers that this mo...</td>\n      <td>Therefore, the robbers shot the bank [MASK]</td>\n      <td>filler-Q</td>\n      <td>long</td>\n      <td>mismatch</td>\n      <td>true</td>\n      <td>bank</td>\n      <td>shoot</td>\n      <td>The clerk found the bank managers that this mo...</td>\n      <td>clerk</td>\n      <td>bank</td>\n      <td>clerk</td>\n    </tr>\n    <tr>\n      <th>103</th>\n      <td>The clerks found the bank managers that this m...</td>\n      <td>Therefore, the robbers shot the bank [MASK]</td>\n      <td>distractor-Q</td>\n      <td>long</td>\n      <td>match</td>\n      <td>true</td>\n      <td>bank</td>\n      <td>shoot</td>\n      <td>The clerks found the bank managers that this m...</td>\n      <td>clerks</td>\n      <td>bank</td>\n      <td>clerks</td>\n    </tr>\n  </tbody>\n</table>\n</div>"
     },
     "execution_count": 23,
     "metadata": {},
     "output_type": "execute_result"
    }
   ],
   "source": [
    "df_niki.query(\"label == 'accused' | label == 'old' | label == 'tennis' | label == 'bank'\")"
   ],
   "metadata": {
    "collapsed": false,
    "ExecuteTime": {
     "end_time": "2023-09-05T12:59:48.980199Z",
     "start_time": "2023-09-05T12:59:48.956070Z"
    }
   }
  },
  {
   "cell_type": "code",
   "execution_count": 24,
   "outputs": [],
   "source": [
    "df_niki[\"label1\"] = df_niki[\"label\"]\n",
    "df_niki[\"label2\"] = df_niki[\"label\"]\n",
    "\n",
    "df_niki[\"distractor1\"] = df_niki[\"distractor\"]\n",
    "df_niki[\"distractor2\"] = df_niki[\"distractor\"]"
   ],
   "metadata": {
    "collapsed": false,
    "ExecuteTime": {
     "end_time": "2023-09-05T12:59:48.980987Z",
     "start_time": "2023-09-05T12:59:48.961381Z"
    }
   }
  },
  {
   "cell_type": "code",
   "execution_count": 25,
   "outputs": [],
   "source": [
    "# fix label 2\n",
    "df_niki.loc[df_niki.label == \"accused\", \"label2\"] = \"ones\"\n",
    "df_niki.loc[df_niki.label == \"old\", \"label2\"] = \"women\"\n",
    "df_niki.loc[df_niki.label == \"tennis\", \"label2\"] = \"players\"\n",
    "df_niki.loc[df_niki.label == \"bank\", \"label2\"] = \"managers\"\n",
    "\n",
    "# fix distractor 2\n",
    "df_niki.loc[[52,54], \"distractor2\"] = \"attorney\"\n",
    "df_niki.loc[[53,55], \"distractor2\"] = \"attorneys\"\n",
    "\n",
    "df_niki.drop(columns=[\"label\", \"distractor\"], inplace=True)"
   ],
   "metadata": {
    "collapsed": false,
    "ExecuteTime": {
     "end_time": "2023-09-05T12:59:48.998286Z",
     "start_time": "2023-09-05T12:59:48.967235Z"
    }
   }
  },
  {
   "cell_type": "code",
   "execution_count": 26,
   "outputs": [],
   "source": [
    "df_niki.drop([\"question_type\", \"correct_answer\", \"verb\"], axis=1, inplace=True)\n",
    "df_niki.drop([\"sentence\", \"question\"], axis=1, inplace=True)"
   ],
   "metadata": {
    "collapsed": false,
    "ExecuteTime": {
     "end_time": "2023-09-05T12:59:49.021036Z",
     "start_time": "2023-09-05T12:59:48.971731Z"
    }
   }
  },
  {
   "cell_type": "code",
   "execution_count": 27,
   "outputs": [],
   "source": [
    "# change the order of the columns\n",
    "df_niki = df_niki[[\"prompt\", \"label1\", \"label2\", \"distractor1\", \"distractor2\", \"length\", \"plural_match\"]]"
   ],
   "metadata": {
    "collapsed": false,
    "ExecuteTime": {
     "end_time": "2023-09-05T12:59:49.021421Z",
     "start_time": "2023-09-05T12:59:48.975401Z"
    }
   }
  },
  {
   "cell_type": "code",
   "execution_count": 28,
   "outputs": [
    {
     "data": {
      "text/plain": "                                                prompt       label1  \\\n0    The tourist hired the guides that the locals a...       guides   \n1    The tourists hired the guides that the locals ...       guides   \n2    The tourist hired the guides that two days ago...       guides   \n3    The tourists hired the guides who two days ago...       guides   \n4    The coach removed the gymnasts that the fans d...     gymnasts   \n..                                                 ...          ...   \n123  The editors censored the journalists that last...  journalists   \n124  The donor bored the researchers that interns d...  researchers   \n125  The donors bored the researchers that interns ...  researchers   \n126  The donor bored the researchers that last year...  researchers   \n127  The donors bored the researchers that last yea...  researchers   \n\n          label2 distractor1 distractor2 length plural_match  \n0         guides     tourist     tourist  short     mismatch  \n1         guides    tourists    tourists  short        match  \n2         guides     tourist     tourist   long     mismatch  \n3         guides    tourists    tourists   long        match  \n4       gymnasts       coach       coach  short     mismatch  \n..           ...         ...         ...    ...          ...  \n123  journalists     editors     editors   long        match  \n124  researchers       donor       donor  short     mismatch  \n125  researchers      donors      donors  short        match  \n126  researchers       donor       donor   long     mismatch  \n127  researchers      donors      donors   long        match  \n\n[128 rows x 7 columns]",
      "text/html": "<div>\n<style scoped>\n    .dataframe tbody tr th:only-of-type {\n        vertical-align: middle;\n    }\n\n    .dataframe tbody tr th {\n        vertical-align: top;\n    }\n\n    .dataframe thead th {\n        text-align: right;\n    }\n</style>\n<table border=\"1\" class=\"dataframe\">\n  <thead>\n    <tr style=\"text-align: right;\">\n      <th></th>\n      <th>prompt</th>\n      <th>label1</th>\n      <th>label2</th>\n      <th>distractor1</th>\n      <th>distractor2</th>\n      <th>length</th>\n      <th>plural_match</th>\n    </tr>\n  </thead>\n  <tbody>\n    <tr>\n      <th>0</th>\n      <td>The tourist hired the guides that the locals a...</td>\n      <td>guides</td>\n      <td>guides</td>\n      <td>tourist</td>\n      <td>tourist</td>\n      <td>short</td>\n      <td>mismatch</td>\n    </tr>\n    <tr>\n      <th>1</th>\n      <td>The tourists hired the guides that the locals ...</td>\n      <td>guides</td>\n      <td>guides</td>\n      <td>tourists</td>\n      <td>tourists</td>\n      <td>short</td>\n      <td>match</td>\n    </tr>\n    <tr>\n      <th>2</th>\n      <td>The tourist hired the guides that two days ago...</td>\n      <td>guides</td>\n      <td>guides</td>\n      <td>tourist</td>\n      <td>tourist</td>\n      <td>long</td>\n      <td>mismatch</td>\n    </tr>\n    <tr>\n      <th>3</th>\n      <td>The tourists hired the guides who two days ago...</td>\n      <td>guides</td>\n      <td>guides</td>\n      <td>tourists</td>\n      <td>tourists</td>\n      <td>long</td>\n      <td>match</td>\n    </tr>\n    <tr>\n      <th>4</th>\n      <td>The coach removed the gymnasts that the fans d...</td>\n      <td>gymnasts</td>\n      <td>gymnasts</td>\n      <td>coach</td>\n      <td>coach</td>\n      <td>short</td>\n      <td>mismatch</td>\n    </tr>\n    <tr>\n      <th>...</th>\n      <td>...</td>\n      <td>...</td>\n      <td>...</td>\n      <td>...</td>\n      <td>...</td>\n      <td>...</td>\n      <td>...</td>\n    </tr>\n    <tr>\n      <th>123</th>\n      <td>The editors censored the journalists that last...</td>\n      <td>journalists</td>\n      <td>journalists</td>\n      <td>editors</td>\n      <td>editors</td>\n      <td>long</td>\n      <td>match</td>\n    </tr>\n    <tr>\n      <th>124</th>\n      <td>The donor bored the researchers that interns d...</td>\n      <td>researchers</td>\n      <td>researchers</td>\n      <td>donor</td>\n      <td>donor</td>\n      <td>short</td>\n      <td>mismatch</td>\n    </tr>\n    <tr>\n      <th>125</th>\n      <td>The donors bored the researchers that interns ...</td>\n      <td>researchers</td>\n      <td>researchers</td>\n      <td>donors</td>\n      <td>donors</td>\n      <td>short</td>\n      <td>match</td>\n    </tr>\n    <tr>\n      <th>126</th>\n      <td>The donor bored the researchers that last year...</td>\n      <td>researchers</td>\n      <td>researchers</td>\n      <td>donor</td>\n      <td>donor</td>\n      <td>long</td>\n      <td>mismatch</td>\n    </tr>\n    <tr>\n      <th>127</th>\n      <td>The donors bored the researchers that last yea...</td>\n      <td>researchers</td>\n      <td>researchers</td>\n      <td>donors</td>\n      <td>donors</td>\n      <td>long</td>\n      <td>match</td>\n    </tr>\n  </tbody>\n</table>\n<p>128 rows × 7 columns</p>\n</div>"
     },
     "execution_count": 28,
     "metadata": {},
     "output_type": "execute_result"
    }
   ],
   "source": [
    "df_niki"
   ],
   "metadata": {
    "collapsed": false,
    "ExecuteTime": {
     "end_time": "2023-09-05T12:59:49.041246Z",
     "start_time": "2023-09-05T12:59:48.982758Z"
    }
   }
  },
  {
   "cell_type": "code",
   "execution_count": 29,
   "outputs": [],
   "source": [
    "df_niki.to_csv(\"../data_processed/niki.csv\", index=False)"
   ],
   "metadata": {
    "collapsed": false,
    "ExecuteTime": {
     "end_time": "2023-09-05T12:59:49.045079Z",
     "start_time": "2023-09-05T12:59:48.986380Z"
    }
   }
  },
  {
   "cell_type": "markdown",
   "source": [
    "# Gordon"
   ],
   "metadata": {
    "collapsed": false
   }
  },
  {
   "cell_type": "markdown",
   "source": [
    "Gordon:\n",
    "run two times the model:\n",
    "1. one mask\n",
    "2. two masks\n",
    "\n",
    "compare both certainty scores\n",
    "take the one with the highest certainty score\n",
    "\n",
    "Measure the following:\n",
    "- accuracy\n",
    "- difference between the probability of the label and the distractor\n",
    "- entropy of the prediction\n",
    "\n",
    "The story we want to tell:\n",
    "- models are acting similar to humans\n",
    "- models are acting different than humans\n",
    "-\n",
    "Per semantic category\n"
   ],
   "metadata": {
    "collapsed": false
   }
  },
  {
   "cell_type": "code",
   "execution_count": null,
   "outputs": [],
   "source": [],
   "metadata": {
    "collapsed": false
   }
  },
  {
   "cell_type": "code",
   "execution_count": null,
   "outputs": [],
   "source": [
    "# object extracted -> the subject is the correct answer, otherwise remove the row\n",
    "# subject extracted -> if condition question == \"matrix verb\" -> the subject is the correct answer, otherwise the distractor is the correct answer\n",
    "# subject extracted -> if condition question == \"embedded verb\" -> the distractor is the correct answer, otherwise the subject is the correct answer"
   ],
   "metadata": {
    "collapsed": false
   }
  },
  {
   "cell_type": "code",
   "execution_count": null,
   "outputs": [],
   "source": [
    "df_gordon = pd.read_json(path_or_buf=\"data/experiment_gordon.jsonl\", lines=True)\n",
    "df_gordon.head(20)"
   ],
   "metadata": {
    "collapsed": false
   }
  },
  {
   "cell_type": "code",
   "execution_count": null,
   "outputs": [],
   "source": [
    "df_gordon.subject_value.value_counts()"
   ],
   "metadata": {
    "collapsed": false
   }
  },
  {
   "cell_type": "code",
   "execution_count": null,
   "outputs": [],
   "source": [
    "df_gordon.query(\"condition_sentence == 'object_extracted'\")"
   ],
   "metadata": {
    "collapsed": false
   }
  },
  {
   "cell_type": "code",
   "execution_count": null,
   "outputs": [],
   "source": [
    "df_gordon.condition_question.value_counts()"
   ],
   "metadata": {
    "collapsed": false
   }
  },
  {
   "cell_type": "code",
   "execution_count": null,
   "outputs": [],
   "source": [
    "import pandas as pd"
   ],
   "metadata": {
    "collapsed": false
   }
  },
  {
   "cell_type": "code",
   "execution_count": null,
   "outputs": [],
   "source": [
    "df_naama = pd.read_json(path_or_buf=\"../data/experiment_naama.jsonl\", lines=True)\n",
    "df_naama"
   ],
   "metadata": {
    "collapsed": false
   }
  },
  {
   "cell_type": "code",
   "execution_count": null,
   "outputs": [],
   "source": [
    "df_naama[df_naama.sentence==\"The actress who was in the French director's studio this week hit the expensive vase at the entrance.\"]"
   ],
   "metadata": {
    "collapsed": false
   }
  },
  {
   "cell_type": "code",
   "execution_count": null,
   "outputs": [],
   "source": [
    "df_naama[\"gender\"].value_counts()"
   ],
   "metadata": {
    "collapsed": false
   }
  },
  {
   "cell_type": "code",
   "execution_count": null,
   "outputs": [],
   "source": [
    "#Notes: Dependency, animacy is the important columns, gender is not.\n",
    "# Prompt = sentence + question when we mask the subject with mask using correct answer for example: actress,director the label is actress\n",
    "#"
   ],
   "metadata": {
    "collapsed": false
   }
  },
  {
   "cell_type": "code",
   "execution_count": null,
   "outputs": [],
   "source": [
    "df_naama[\"gender\"].value_counts()"
   ],
   "metadata": {
    "collapsed": false
   }
  },
  {
   "cell_type": "markdown",
   "source": [
    "# Data Exploration"
   ],
   "metadata": {
    "collapsed": false
   }
  },
  {
   "cell_type": "code",
   "execution_count": null,
   "outputs": [],
   "source": [
    "df_niki.iloc[1]\n"
   ],
   "metadata": {
    "collapsed": false
   }
  },
  {
   "cell_type": "code",
   "execution_count": null,
   "outputs": [],
   "source": [],
   "metadata": {
    "collapsed": false
   }
  }
 ],
 "metadata": {
  "kernelspec": {
   "display_name": "Python 3",
   "language": "python",
   "name": "python3"
  },
  "language_info": {
   "codemirror_mode": {
    "name": "ipython",
    "version": 2
   },
   "file_extension": ".py",
   "mimetype": "text/x-python",
   "name": "python",
   "nbconvert_exporter": "python",
   "pygments_lexer": "ipython2",
   "version": "2.7.6"
  }
 },
 "nbformat": 4,
 "nbformat_minor": 0
}
